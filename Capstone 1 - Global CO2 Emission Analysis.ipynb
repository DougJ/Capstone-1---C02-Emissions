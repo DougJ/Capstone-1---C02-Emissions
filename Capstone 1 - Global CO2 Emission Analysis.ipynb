{
 "cells": [
  {
   "cell_type": "markdown",
   "metadata": {},
   "source": [
    "# CAPSTONE 1: GLOBAL C02 EMISSION ANALYSIS\n"
   ]
  },
  {
   "cell_type": "markdown",
   "metadata": {},
   "source": [
    "## THREE QUESTIONS FOR CAPSTONE:  \n",
    "\n",
    "### 1. Which region has the most emissions, and which region has the least?\n",
    "\n",
    "\n",
    "### 2. Which emission types have the highest and lowest emissions levels?\n",
    "\n",
    "\n",
    "### 3. Are the emission types correlated?"
   ]
  },
  {
   "cell_type": "markdown",
   "metadata": {},
   "source": [
    "\n",
    "## About the CDIAC dataset. \n",
    "\n",
    "CO2 emissions are at the center of a significant global debate on the risks and validity of climate change. The data in this analysis was downloaded from the Carbon Dioxide Information Analysis Center, [CDIAC](https://cdiac.ess-dive.lbl.gov/trends/emis/overview_2014.html),and is considered to be approximations that are generally accurate. C02 emissions result from the burning of fossil fuels and the production of cement. \n",
    "\n",
    "In the data set there is numeric data for five C02 emission types: solid, liquid, gas, cement, and flaring emissions grouped by region and ordered by year. The data also has aggregated totals from as early as 1751 to 2014. \n",
    "\n",
    "For more information about collection and processing of the data, please read the about section below or visit the website.\n",
    "\n",
    "Common issues to consider: lack of reporting, lack of standards, lack of oversight, intentionally reporting erroneous data, pollution in international territory, clandestine pollution, construction of data Regions by CDIAC, changes in nation state status like collapse of USSR, and other similar circumstances.\n",
    "\n",
    "About    \n",
    "    The 1950 to present CO2 emission estimates are derived primarily from energy statistics published by the United Nations (2017), using the methods of Marland and Rotty (1984). The energy statistics were compiled primarily from annual questionnaires distributed by the U.N. Statistical Office and supplemented by official national statistical publications. As stated in the introduction of the Statistical Yearbook, \"in a few cases, official sources are supplemented by other sources and estimates, where these have been subjected to professional scrutiny and debate and are consistent with other independent sources.\" Data from the U.S. Department of Interior's Geological Survey (USGS 2017) were used to estimate CO2 emitted during cement production. Values for emissions from gas flaring were derived primarily from U.N. data but were supplemented with data from the U.S. Department of Energy's Energy Information Administration (1994), Rotty (1974), and data provided by G. Marland. Greater details about these methods are provided in Marland and Rotty (1984), Boden et al. (1995), and Andres et al. (1999).\n",
    "    \n"
   ]
  },
  {
   "cell_type": "markdown",
   "metadata": {},
   "source": [
    "\n",
    "## EXPLORE THE DATASET"
   ]
  },
  {
   "cell_type": "code",
   "execution_count": 61,
   "metadata": {},
   "outputs": [],
   "source": [
    "import matplotlib.pyplot as plt\n",
    "import numpy as np\n",
    "import pandas as pd\n",
    "import seaborn as sns\n",
    "%matplotlib inline"
   ]
  },
  {
   "cell_type": "code",
   "execution_count": 62,
   "metadata": {
    "scrolled": false
   },
   "outputs": [],
   "source": [
    "df = pd.read_csv('C:\\\\Users\\\\DJ\\\\Documents\\\\AnacondaPython\\\\Thinkful\\\\FilesToLoadThinkful\\\\C02_Emissions_ALL_UTF8.csv')"
   ]
  },
  {
   "cell_type": "code",
   "execution_count": 63,
   "metadata": {},
   "outputs": [
    {
     "data": {
      "text/plain": [
       "(1768, 9)"
      ]
     },
     "execution_count": 63,
     "metadata": {},
     "output_type": "execute_result"
    }
   ],
   "source": [
    "df.shape"
   ]
  },
  {
   "cell_type": "code",
   "execution_count": 64,
   "metadata": {},
   "outputs": [
    {
     "data": {
      "text/html": [
       "<div>\n",
       "<style scoped>\n",
       "    .dataframe tbody tr th:only-of-type {\n",
       "        vertical-align: middle;\n",
       "    }\n",
       "\n",
       "    .dataframe tbody tr th {\n",
       "        vertical-align: top;\n",
       "    }\n",
       "\n",
       "    .dataframe thead tr th {\n",
       "        text-align: left;\n",
       "    }\n",
       "\n",
       "    .dataframe thead tr:last-of-type th {\n",
       "        text-align: right;\n",
       "    }\n",
       "</style>\n",
       "<table border=\"1\" class=\"dataframe\">\n",
       "  <thead>\n",
       "    <tr>\n",
       "      <th></th>\n",
       "      <th colspan=\"8\" halign=\"left\">Year</th>\n",
       "      <th colspan=\"2\" halign=\"left\">Total CO2 emissions from fossil-fuels and cement production (thousand metric tons of C)</th>\n",
       "      <th>...</th>\n",
       "      <th colspan=\"2\" halign=\"left\">Emissions from cement production</th>\n",
       "      <th colspan=\"8\" halign=\"left\">Emissions from gas flaring</th>\n",
       "    </tr>\n",
       "    <tr>\n",
       "      <th></th>\n",
       "      <th>count</th>\n",
       "      <th>mean</th>\n",
       "      <th>std</th>\n",
       "      <th>min</th>\n",
       "      <th>25%</th>\n",
       "      <th>50%</th>\n",
       "      <th>75%</th>\n",
       "      <th>max</th>\n",
       "      <th>count</th>\n",
       "      <th>mean</th>\n",
       "      <th>...</th>\n",
       "      <th>75%</th>\n",
       "      <th>max</th>\n",
       "      <th>count</th>\n",
       "      <th>mean</th>\n",
       "      <th>std</th>\n",
       "      <th>min</th>\n",
       "      <th>25%</th>\n",
       "      <th>50%</th>\n",
       "      <th>75%</th>\n",
       "      <th>max</th>\n",
       "    </tr>\n",
       "    <tr>\n",
       "      <th>Region</th>\n",
       "      <th></th>\n",
       "      <th></th>\n",
       "      <th></th>\n",
       "      <th></th>\n",
       "      <th></th>\n",
       "      <th></th>\n",
       "      <th></th>\n",
       "      <th></th>\n",
       "      <th></th>\n",
       "      <th></th>\n",
       "      <th></th>\n",
       "      <th></th>\n",
       "      <th></th>\n",
       "      <th></th>\n",
       "      <th></th>\n",
       "      <th></th>\n",
       "      <th></th>\n",
       "      <th></th>\n",
       "      <th></th>\n",
       "      <th></th>\n",
       "      <th></th>\n",
       "    </tr>\n",
       "  </thead>\n",
       "  <tbody>\n",
       "    <tr>\n",
       "      <th>Africa</th>\n",
       "      <td>131.0</td>\n",
       "      <td>1949.000000</td>\n",
       "      <td>37.960506</td>\n",
       "      <td>1884.0</td>\n",
       "      <td>1916.50</td>\n",
       "      <td>1949.0</td>\n",
       "      <td>1981.50</td>\n",
       "      <td>2014.0</td>\n",
       "      <td>131.0</td>\n",
       "      <td>82153.679389</td>\n",
       "      <td>...</td>\n",
       "      <td>4875.00</td>\n",
       "      <td>23631.0</td>\n",
       "      <td>131.0</td>\n",
       "      <td>5148.816794</td>\n",
       "      <td>7521.543433</td>\n",
       "      <td>0.0</td>\n",
       "      <td>0.0</td>\n",
       "      <td>0.0</td>\n",
       "      <td>11755.50</td>\n",
       "      <td>23942.0</td>\n",
       "    </tr>\n",
       "    <tr>\n",
       "      <th>Centrally Planned Asia</th>\n",
       "      <td>123.0</td>\n",
       "      <td>1953.000000</td>\n",
       "      <td>35.651087</td>\n",
       "      <td>1892.0</td>\n",
       "      <td>1922.50</td>\n",
       "      <td>1953.0</td>\n",
       "      <td>1983.50</td>\n",
       "      <td>2014.0</td>\n",
       "      <td>123.0</td>\n",
       "      <td>405508.008130</td>\n",
       "      <td>...</td>\n",
       "      <td>16838.50</td>\n",
       "      <td>348176.0</td>\n",
       "      <td>123.0</td>\n",
       "      <td>69.691057</td>\n",
       "      <td>202.738713</td>\n",
       "      <td>0.0</td>\n",
       "      <td>0.0</td>\n",
       "      <td>0.0</td>\n",
       "      <td>0.00</td>\n",
       "      <td>877.0</td>\n",
       "    </tr>\n",
       "    <tr>\n",
       "      <th>Centrally Planned Europe</th>\n",
       "      <td>215.0</td>\n",
       "      <td>1907.000000</td>\n",
       "      <td>62.209324</td>\n",
       "      <td>1800.0</td>\n",
       "      <td>1853.50</td>\n",
       "      <td>1907.0</td>\n",
       "      <td>1960.50</td>\n",
       "      <td>2014.0</td>\n",
       "      <td>215.0</td>\n",
       "      <td>289210.502326</td>\n",
       "      <td>...</td>\n",
       "      <td>9098.50</td>\n",
       "      <td>26120.0</td>\n",
       "      <td>215.0</td>\n",
       "      <td>1311.265116</td>\n",
       "      <td>2775.864323</td>\n",
       "      <td>0.0</td>\n",
       "      <td>0.0</td>\n",
       "      <td>0.0</td>\n",
       "      <td>0.00</td>\n",
       "      <td>10708.0</td>\n",
       "    </tr>\n",
       "    <tr>\n",
       "      <th>Developing America</th>\n",
       "      <td>131.0</td>\n",
       "      <td>1949.000000</td>\n",
       "      <td>37.960506</td>\n",
       "      <td>1884.0</td>\n",
       "      <td>1916.50</td>\n",
       "      <td>1949.0</td>\n",
       "      <td>1981.50</td>\n",
       "      <td>2014.0</td>\n",
       "      <td>131.0</td>\n",
       "      <td>128291.496183</td>\n",
       "      <td>...</td>\n",
       "      <td>9416.00</td>\n",
       "      <td>25217.0</td>\n",
       "      <td>131.0</td>\n",
       "      <td>5065.236641</td>\n",
       "      <td>5476.058318</td>\n",
       "      <td>0.0</td>\n",
       "      <td>0.0</td>\n",
       "      <td>0.0</td>\n",
       "      <td>10019.50</td>\n",
       "      <td>16459.0</td>\n",
       "    </tr>\n",
       "    <tr>\n",
       "      <th>Far East</th>\n",
       "      <td>146.0</td>\n",
       "      <td>1940.821918</td>\n",
       "      <td>43.463609</td>\n",
       "      <td>1858.0</td>\n",
       "      <td>1905.25</td>\n",
       "      <td>1941.5</td>\n",
       "      <td>1977.75</td>\n",
       "      <td>2014.0</td>\n",
       "      <td>146.0</td>\n",
       "      <td>181440.835616</td>\n",
       "      <td>...</td>\n",
       "      <td>9164.75</td>\n",
       "      <td>73045.0</td>\n",
       "      <td>146.0</td>\n",
       "      <td>1754.020548</td>\n",
       "      <td>2694.421349</td>\n",
       "      <td>0.0</td>\n",
       "      <td>0.0</td>\n",
       "      <td>0.0</td>\n",
       "      <td>4830.75</td>\n",
       "      <td>8924.0</td>\n",
       "    </tr>\n",
       "    <tr>\n",
       "      <th>Germany</th>\n",
       "      <td>223.0</td>\n",
       "      <td>1903.000000</td>\n",
       "      <td>64.518731</td>\n",
       "      <td>1792.0</td>\n",
       "      <td>1847.50</td>\n",
       "      <td>1903.0</td>\n",
       "      <td>1958.50</td>\n",
       "      <td>2014.0</td>\n",
       "      <td>223.0</td>\n",
       "      <td>105741.022422</td>\n",
       "      <td>...</td>\n",
       "      <td>3441.50</td>\n",
       "      <td>7073.0</td>\n",
       "      <td>223.0</td>\n",
       "      <td>37.233184</td>\n",
       "      <td>147.304549</td>\n",
       "      <td>0.0</td>\n",
       "      <td>0.0</td>\n",
       "      <td>0.0</td>\n",
       "      <td>0.00</td>\n",
       "      <td>806.0</td>\n",
       "    </tr>\n",
       "    <tr>\n",
       "      <th>Middle East</th>\n",
       "      <td>150.0</td>\n",
       "      <td>1939.500000</td>\n",
       "      <td>43.445368</td>\n",
       "      <td>1865.0</td>\n",
       "      <td>1902.25</td>\n",
       "      <td>1939.5</td>\n",
       "      <td>1976.75</td>\n",
       "      <td>2014.0</td>\n",
       "      <td>150.0</td>\n",
       "      <td>97066.673333</td>\n",
       "      <td>...</td>\n",
       "      <td>4329.25</td>\n",
       "      <td>35878.0</td>\n",
       "      <td>150.0</td>\n",
       "      <td>7366.386667</td>\n",
       "      <td>13029.493490</td>\n",
       "      <td>0.0</td>\n",
       "      <td>0.0</td>\n",
       "      <td>0.0</td>\n",
       "      <td>9605.50</td>\n",
       "      <td>55321.0</td>\n",
       "    </tr>\n",
       "    <tr>\n",
       "      <th>North America</th>\n",
       "      <td>230.0</td>\n",
       "      <td>1899.500000</td>\n",
       "      <td>66.539462</td>\n",
       "      <td>1785.0</td>\n",
       "      <td>1842.25</td>\n",
       "      <td>1899.5</td>\n",
       "      <td>1956.75</td>\n",
       "      <td>2014.0</td>\n",
       "      <td>230.0</td>\n",
       "      <td>480645.834783</td>\n",
       "      <td>...</td>\n",
       "      <td>8252.75</td>\n",
       "      <td>15651.0</td>\n",
       "      <td>230.0</td>\n",
       "      <td>1539.839130</td>\n",
       "      <td>3015.232533</td>\n",
       "      <td>0.0</td>\n",
       "      <td>0.0</td>\n",
       "      <td>0.0</td>\n",
       "      <td>2613.75</td>\n",
       "      <td>13605.0</td>\n",
       "    </tr>\n",
       "    <tr>\n",
       "      <th>Oceania</th>\n",
       "      <td>155.0</td>\n",
       "      <td>1937.000000</td>\n",
       "      <td>44.888751</td>\n",
       "      <td>1860.0</td>\n",
       "      <td>1898.50</td>\n",
       "      <td>1937.0</td>\n",
       "      <td>1975.50</td>\n",
       "      <td>2014.0</td>\n",
       "      <td>155.0</td>\n",
       "      <td>132146.432258</td>\n",
       "      <td>...</td>\n",
       "      <td>9076.00</td>\n",
       "      <td>13858.0</td>\n",
       "      <td>155.0</td>\n",
       "      <td>36.477419</td>\n",
       "      <td>66.581396</td>\n",
       "      <td>0.0</td>\n",
       "      <td>0.0</td>\n",
       "      <td>0.0</td>\n",
       "      <td>45.00</td>\n",
       "      <td>236.0</td>\n",
       "    </tr>\n",
       "    <tr>\n",
       "      <th>Western Europe</th>\n",
       "      <td>264.0</td>\n",
       "      <td>1882.500000</td>\n",
       "      <td>76.354437</td>\n",
       "      <td>1751.0</td>\n",
       "      <td>1816.75</td>\n",
       "      <td>1882.5</td>\n",
       "      <td>1948.25</td>\n",
       "      <td>2014.0</td>\n",
       "      <td>264.0</td>\n",
       "      <td>210748.602273</td>\n",
       "      <td>...</td>\n",
       "      <td>4319.50</td>\n",
       "      <td>28924.0</td>\n",
       "      <td>264.0</td>\n",
       "      <td>317.628788</td>\n",
       "      <td>806.253698</td>\n",
       "      <td>0.0</td>\n",
       "      <td>0.0</td>\n",
       "      <td>0.0</td>\n",
       "      <td>0.00</td>\n",
       "      <td>4686.0</td>\n",
       "    </tr>\n",
       "  </tbody>\n",
       "</table>\n",
       "<p>10 rows × 56 columns</p>\n",
       "</div>"
      ],
      "text/plain": [
       "                           Year                                           \\\n",
       "                          count         mean        std     min      25%   \n",
       "Region                                                                     \n",
       "Africa                    131.0  1949.000000  37.960506  1884.0  1916.50   \n",
       "Centrally Planned Asia    123.0  1953.000000  35.651087  1892.0  1922.50   \n",
       "Centrally Planned Europe  215.0  1907.000000  62.209324  1800.0  1853.50   \n",
       "Developing America        131.0  1949.000000  37.960506  1884.0  1916.50   \n",
       "Far East                  146.0  1940.821918  43.463609  1858.0  1905.25   \n",
       "Germany                   223.0  1903.000000  64.518731  1792.0  1847.50   \n",
       "Middle East               150.0  1939.500000  43.445368  1865.0  1902.25   \n",
       "North America             230.0  1899.500000  66.539462  1785.0  1842.25   \n",
       "Oceania                   155.0  1937.000000  44.888751  1860.0  1898.50   \n",
       "Western Europe            264.0  1882.500000  76.354437  1751.0  1816.75   \n",
       "\n",
       "                                                   \\\n",
       "                             50%      75%     max   \n",
       "Region                                              \n",
       "Africa                    1949.0  1981.50  2014.0   \n",
       "Centrally Planned Asia    1953.0  1983.50  2014.0   \n",
       "Centrally Planned Europe  1907.0  1960.50  2014.0   \n",
       "Developing America        1949.0  1981.50  2014.0   \n",
       "Far East                  1941.5  1977.75  2014.0   \n",
       "Germany                   1903.0  1958.50  2014.0   \n",
       "Middle East               1939.5  1976.75  2014.0   \n",
       "North America             1899.5  1956.75  2014.0   \n",
       "Oceania                   1937.0  1975.50  2014.0   \n",
       "Western Europe            1882.5  1948.25  2014.0   \n",
       "\n",
       "                         Total CO2 emissions from fossil-fuels and cement production (thousand metric tons of C)  \\\n",
       "                                                                                                           count   \n",
       "Region                                                                                                             \n",
       "Africa                                                                131.0                                        \n",
       "Centrally Planned Asia                                                123.0                                        \n",
       "Centrally Planned Europe                                              215.0                                        \n",
       "Developing America                                                    131.0                                        \n",
       "Far East                                                              146.0                                        \n",
       "Germany                                                               223.0                                        \n",
       "Middle East                                                           150.0                                        \n",
       "North America                                                         230.0                                        \n",
       "Oceania                                                               155.0                                        \n",
       "Western Europe                                                        264.0                                        \n",
       "\n",
       "                                         ... Emissions from cement production  \\\n",
       "                                   mean  ...                              75%   \n",
       "Region                                   ...                                    \n",
       "Africa                     82153.679389  ...                          4875.00   \n",
       "Centrally Planned Asia    405508.008130  ...                         16838.50   \n",
       "Centrally Planned Europe  289210.502326  ...                          9098.50   \n",
       "Developing America        128291.496183  ...                          9416.00   \n",
       "Far East                  181440.835616  ...                          9164.75   \n",
       "Germany                   105741.022422  ...                          3441.50   \n",
       "Middle East                97066.673333  ...                          4329.25   \n",
       "North America             480645.834783  ...                          8252.75   \n",
       "Oceania                   132146.432258  ...                          9076.00   \n",
       "Western Europe            210748.602273  ...                          4319.50   \n",
       "\n",
       "                                   Emissions from gas flaring               \\\n",
       "                               max                      count         mean   \n",
       "Region                                                                       \n",
       "Africa                     23631.0                      131.0  5148.816794   \n",
       "Centrally Planned Asia    348176.0                      123.0    69.691057   \n",
       "Centrally Planned Europe   26120.0                      215.0  1311.265116   \n",
       "Developing America         25217.0                      131.0  5065.236641   \n",
       "Far East                   73045.0                      146.0  1754.020548   \n",
       "Germany                     7073.0                      223.0    37.233184   \n",
       "Middle East                35878.0                      150.0  7366.386667   \n",
       "North America              15651.0                      230.0  1539.839130   \n",
       "Oceania                    13858.0                      155.0    36.477419   \n",
       "Western Europe             28924.0                      264.0   317.628788   \n",
       "\n",
       "                                                                          \n",
       "                                   std  min  25%  50%       75%      max  \n",
       "Region                                                                    \n",
       "Africa                     7521.543433  0.0  0.0  0.0  11755.50  23942.0  \n",
       "Centrally Planned Asia      202.738713  0.0  0.0  0.0      0.00    877.0  \n",
       "Centrally Planned Europe   2775.864323  0.0  0.0  0.0      0.00  10708.0  \n",
       "Developing America         5476.058318  0.0  0.0  0.0  10019.50  16459.0  \n",
       "Far East                   2694.421349  0.0  0.0  0.0   4830.75   8924.0  \n",
       "Germany                     147.304549  0.0  0.0  0.0      0.00    806.0  \n",
       "Middle East               13029.493490  0.0  0.0  0.0   9605.50  55321.0  \n",
       "North America              3015.232533  0.0  0.0  0.0   2613.75  13605.0  \n",
       "Oceania                      66.581396  0.0  0.0  0.0     45.00    236.0  \n",
       "Western Europe              806.253698  0.0  0.0  0.0      0.00   4686.0  \n",
       "\n",
       "[10 rows x 56 columns]"
      ]
     },
     "execution_count": 64,
     "metadata": {},
     "output_type": "execute_result"
    }
   ],
   "source": [
    "df.groupby('Region').describe() # UNIQUE REGIONS IN DATA SET"
   ]
  },
  {
   "cell_type": "code",
   "execution_count": 82,
   "metadata": {},
   "outputs": [
    {
     "data": {
      "text/html": [
       "<div>\n",
       "<style scoped>\n",
       "    .dataframe tbody tr th:only-of-type {\n",
       "        vertical-align: middle;\n",
       "    }\n",
       "\n",
       "    .dataframe tbody tr th {\n",
       "        vertical-align: top;\n",
       "    }\n",
       "\n",
       "    .dataframe thead th {\n",
       "        text-align: right;\n",
       "    }\n",
       "</style>\n",
       "<table border=\"1\" class=\"dataframe\">\n",
       "  <thead>\n",
       "    <tr style=\"text-align: right;\">\n",
       "      <th></th>\n",
       "      <th>Region</th>\n",
       "      <th>Year</th>\n",
       "      <th>Total</th>\n",
       "      <th>Solids</th>\n",
       "      <th>Liquids</th>\n",
       "      <th>Gases</th>\n",
       "      <th>Cement</th>\n",
       "      <th>Flaring</th>\n",
       "      <th>Total_Per_Capita</th>\n",
       "    </tr>\n",
       "  </thead>\n",
       "  <tbody>\n",
       "    <tr>\n",
       "      <th>0</th>\n",
       "      <td>Africa</td>\n",
       "      <td>1884</td>\n",
       "      <td>6</td>\n",
       "      <td>6</td>\n",
       "      <td>0</td>\n",
       "      <td>0</td>\n",
       "      <td>0</td>\n",
       "      <td>0</td>\n",
       "      <td>NaN</td>\n",
       "    </tr>\n",
       "    <tr>\n",
       "      <th>1</th>\n",
       "      <td>Africa</td>\n",
       "      <td>1885</td>\n",
       "      <td>10</td>\n",
       "      <td>10</td>\n",
       "      <td>0</td>\n",
       "      <td>0</td>\n",
       "      <td>0</td>\n",
       "      <td>0</td>\n",
       "      <td>NaN</td>\n",
       "    </tr>\n",
       "    <tr>\n",
       "      <th>2</th>\n",
       "      <td>Africa</td>\n",
       "      <td>1886</td>\n",
       "      <td>13</td>\n",
       "      <td>13</td>\n",
       "      <td>0</td>\n",
       "      <td>0</td>\n",
       "      <td>0</td>\n",
       "      <td>0</td>\n",
       "      <td>NaN</td>\n",
       "    </tr>\n",
       "    <tr>\n",
       "      <th>3</th>\n",
       "      <td>Africa</td>\n",
       "      <td>1887</td>\n",
       "      <td>13</td>\n",
       "      <td>13</td>\n",
       "      <td>0</td>\n",
       "      <td>0</td>\n",
       "      <td>0</td>\n",
       "      <td>0</td>\n",
       "      <td>NaN</td>\n",
       "    </tr>\n",
       "    <tr>\n",
       "      <th>4</th>\n",
       "      <td>Africa</td>\n",
       "      <td>1888</td>\n",
       "      <td>22</td>\n",
       "      <td>22</td>\n",
       "      <td>0</td>\n",
       "      <td>0</td>\n",
       "      <td>0</td>\n",
       "      <td>0</td>\n",
       "      <td>NaN</td>\n",
       "    </tr>\n",
       "  </tbody>\n",
       "</table>\n",
       "</div>"
      ],
      "text/plain": [
       "   Region  Year  Total  Solids  Liquids  Gases  Cement  Flaring  \\\n",
       "0  Africa  1884      6       6        0      0       0        0   \n",
       "1  Africa  1885     10      10        0      0       0        0   \n",
       "2  Africa  1886     13      13        0      0       0        0   \n",
       "3  Africa  1887     13      13        0      0       0        0   \n",
       "4  Africa  1888     22      22        0      0       0        0   \n",
       "\n",
       "   Total_Per_Capita  \n",
       "0               NaN  \n",
       "1               NaN  \n",
       "2               NaN  \n",
       "3               NaN  \n",
       "4               NaN  "
      ]
     },
     "execution_count": 82,
     "metadata": {},
     "output_type": "execute_result"
    }
   ],
   "source": [
    "df.head() "
   ]
  },
  {
   "cell_type": "code",
   "execution_count": 66,
   "metadata": {},
   "outputs": [
    {
     "data": {
      "text/plain": [
       "Region                                                                                     0.0\n",
       "Year                                                                                       0.0\n",
       "Total CO2 emissions from fossil-fuels and cement production (thousand metric tons of C)    0.0\n",
       "Emissions from solid fuel consumption                                                      0.0\n",
       "Emissions from liquid fuel consumption                                                     0.0\n",
       "Emissions from gas fuel consumption                                                        0.0\n",
       "Emissions from cement production                                                           0.0\n",
       "Emissions from gas flaring                                                                 0.0\n",
       "Per capita CO2 emissions (metric tons of carbon)                                           0.0\n",
       "dtype: float64"
      ]
     },
     "execution_count": 66,
     "metadata": {},
     "output_type": "execute_result"
    }
   ],
   "source": [
    "df.isnull().mean() # CHECK FOR NULLS, COUNTS ARE OFF"
   ]
  },
  {
   "cell_type": "markdown",
   "metadata": {},
   "source": [
    ">  Note year = 1884, where other regions start as early as 1751. Counts when comparing regions and number of years are off as a result.\n",
    "Also, Total_Per_Capita is coming up NaN, and is \".\" in the dataframe prior to 1950.\n",
    "Checked for nulls, none present, count differences and numeric issue appear to be related to year and the \".\" issue respectively. "
   ]
  },
  {
   "cell_type": "code",
   "execution_count": 67,
   "metadata": {},
   "outputs": [],
   "source": [
    "df.columns = ['Region', 'Year', 'Total', 'Solids', 'Liquids', 'Gases', 'Cement','Flaring', 'Total_Per_Capita'] # RENAME COLUMNS SO MORE INTUITIVE"
   ]
  },
  {
   "cell_type": "code",
   "execution_count": 69,
   "metadata": {},
   "outputs": [
    {
     "data": {
      "text/plain": [
       "Index(['Region', 'Year', 'Total', 'Solids', 'Liquids', 'Gases', 'Cement',\n",
       "       'Flaring', 'Total_Per_Capita'],\n",
       "      dtype='object')"
      ]
     },
     "execution_count": 69,
     "metadata": {},
     "output_type": "execute_result"
    }
   ],
   "source": [
    "df.columns"
   ]
  },
  {
   "cell_type": "code",
   "execution_count": 70,
   "metadata": {},
   "outputs": [],
   "source": [
    "df['Total_Per_Capita'] = pd.to_numeric(df.Total_Per_Capita, errors='coerce') # ADJUST NaN ISSUE WITH DATA SET"
   ]
  },
  {
   "cell_type": "code",
   "execution_count": 71,
   "metadata": {},
   "outputs": [],
   "source": [
    "df_1950 = df[df.Year >= 1950] # SELECT DATA FROM 1950 TO 2014 "
   ]
  },
  {
   "cell_type": "markdown",
   "metadata": {},
   "source": [
    "## EXPLAIN DATASET\n",
    "- C02 emissions data for ten regions, ordered by year.\n",
    "- Data set contains seven data categories for each of the ten regions:   \n",
    ">  Five individual emission categories: Solids, Liquids, Gases, Cement, Flaring  \n",
    ">  Two aggregated \"Total\" C02 measures per region: Total and Total Per Capita  \n",
    "- Data for regions go back to 1751 for some, while others the 1800s.\n",
    "- Per capita measures and a more centralized data collection process through the United Nations started in 1950.\n",
    "- Emissions from gas flaring for some regions start after 1950, but does not significantly impact data in this analysis.\n",
    "- This report will use data from 1950 to 2014. "
   ]
  },
  {
   "cell_type": "markdown",
   "metadata": {},
   "source": [
    "## 1. Which region has the most emissions, and which region has the least?"
   ]
  },
  {
   "cell_type": "code",
   "execution_count": 72,
   "metadata": {},
   "outputs": [
    {
     "data": {
      "image/png": "[encoded data removed]",
      "text/plain": [
       "<Figure size 432x288 with 1 Axes>"
      ]
     },
     "metadata": {
      "needs_background": "light"
     },
     "output_type": "display_data"
    }
   ],
   "source": [
    "y   = df_1950.loc[df_1950.Region == 'Africa', 'Total']\n",
    "y2  = df_1950.loc[df_1950.Region == 'Centrally Planned Asia', 'Total']\n",
    "y3  = df_1950.loc[df_1950.Region == 'Centrally Planned Europe', 'Total']\n",
    "y4  = df_1950.loc[df_1950.Region == 'Developing America', 'Total']\n",
    "y5  = df_1950.loc[df_1950.Region == 'Far East', 'Total']\n",
    "y6  = df_1950.loc[df_1950.Region == 'Germany', 'Total']\n",
    "y7  = df_1950.loc[df_1950.Region == 'Middle East', 'Total']\n",
    "y8  = df_1950.loc[df_1950.Region == 'North America', 'Total']\n",
    "y9  = df_1950.loc[df_1950.Region == 'Oceania', 'Total']\n",
    "y10 = df_1950.loc[df_1950.Region == 'Western Europe', 'Total']\n",
    "x   = df_1950.loc[df_1950.Region == 'Centrally Planned Asia', 'Year']\n",
    "\n",
    "fig = plt.figure()\n",
    "ax  = plt.subplot(111)\n",
    "ax.plot(x, y,   label = 'Africa',                   color = 'cyan')\n",
    "ax.plot(x, y2,  label = 'Centrally Planned Asia',   color = 'red')\n",
    "ax.plot(x, y3,  label = 'Centrally Planned Europe', color = 'lightcoral')\n",
    "ax.plot(x, y4,  label = 'Developing America',       color = 'magenta')\n",
    "ax.plot(x, y5,  label = 'Far East',                 color = 'grey')\n",
    "ax.plot(x, y6,  label = 'Germany',                  color = 'green')\n",
    "ax.plot(x, y7,  label = 'Middle East',              color = 'brown')\n",
    "ax.plot(x, y8,  label = 'North America',            color = 'blue')\n",
    "ax.plot(x, y9,  label = 'Oceania',                  color = 'olive')\n",
    "ax.plot(x, y10, label = 'Western Europe',           color = 'black')\n",
    "plt.xlabel('YEAR')  \n",
    "plt.ylabel('CO2 METRIC TON')\n",
    "plt.title('Total by Region')\n",
    "chartBox = ax.get_position()\n",
    "ax.set_position([chartBox.x0, chartBox.y0, chartBox.width * 1, chartBox.height])\n",
    "ax.legend(loc = 'upper center', bbox_to_anchor = (1.25, 0.73), shadow = True, ncol = 1)\n",
    "plt.show()\n"
   ]
  },
  {
   "cell_type": "markdown",
   "metadata": {},
   "source": [
    "#### For clarity the largest vs smallest emission Region are graphed together on one chart"
   ]
  },
  {
   "cell_type": "code",
   "execution_count": 73,
   "metadata": {},
   "outputs": [
    {
     "data": {
      "image/png": "[encoded data removed]",
      "text/plain": [
       "<Figure size 432x288 with 1 Axes>"
      ]
     },
     "metadata": {
      "needs_background": "light"
     },
     "output_type": "display_data"
    }
   ],
   "source": [
    "y   = df_1950.loc[df_1950.Region == 'Centrally Planned Asia', 'Total']\n",
    "y2  = df_1950.loc[df_1950.Region == 'Germany', 'Total']\n",
    "x   = df_1950.loc[df_1950.Region == 'Centrally Planned Asia', 'Year']\n",
    "\n",
    "fig = plt.figure()\n",
    "ax  = plt.subplot(111)\n",
    "ax.plot(x, y,  label = 'Centrally Planned Asia', color = 'red')\n",
    "ax.plot(x, y2, label = 'Germany',                color = 'green')\n",
    "plt.title('Highest and lowest, absolute terms')\n",
    "plt.xlabel('YEAR')    \n",
    "plt.ylabel('CO2 METRIC TON')\n",
    "plt.title('Largest and Smallest Regional Totals')\n",
    "chartBox = ax.get_position()\n",
    "ax.set_position([chartBox.x0, chartBox.y0, chartBox.width * 1, chartBox.height])\n",
    "ax.legend(loc = 'upper center', bbox_to_anchor = (1.23, 0.6), shadow = True, ncol = 1)\n",
    "plt.show()"
   ]
  },
  {
   "cell_type": "markdown",
   "metadata": {},
   "source": [
    ">  The plot seems to be showing the region with the largest amount of CO2 emissions is Centrally Planned Asia, whose primary country is China. The lowest CO2 emission producing region is Germany. "
   ]
  },
  {
   "cell_type": "markdown",
   "metadata": {},
   "source": [
    "## 2. Which emission type accounts for the most emissions, and which type accounts for the least emissions?"
   ]
  },
  {
   "cell_type": "markdown",
   "metadata": {},
   "source": [
    "#### To identify the amount of emissions for each category, the emissions are grouped by year and summed, then placed in a new dataframe. "
   ]
  },
  {
   "cell_type": "code",
   "execution_count": 74,
   "metadata": {},
   "outputs": [],
   "source": [
    "df_1950_agg = df_1950.groupby(['Year']).sum() # AGGREGATE REGIONAL TOTALS INTO A GLOBAL MEASURE BY YEAR"
   ]
  },
  {
   "cell_type": "markdown",
   "metadata": {},
   "source": [
    "#### Utilizing a boxplot to look for outliers, and visualize the data distribution for each emission type."
   ]
  },
  {
   "cell_type": "code",
   "execution_count": 75,
   "metadata": {},
   "outputs": [
    {
     "data": {
      "image/png": "[encoded data removed]",
      "text/plain": [
       "<Figure size 432x288 with 1 Axes>"
      ]
     },
     "metadata": {
      "needs_background": "light"
     },
     "output_type": "display_data"
    }
   ],
   "source": [
    "fig = plt.figure()\n",
    "fig.suptitle('Outlier Analysis by Category', fontsize = 14, fontweight = 'bold')\n",
    "ax = fig.add_subplot(111)\n",
    "\n",
    "#WHISKER +-1.5 Q3 − Q1 (INTERQUARTILE RANGE). OUTLIERS ARE OUTSIDE\n",
    "df_1950_agg.boxplot(column = ['Solids', 'Liquids', 'Gases', 'Cement','Flaring']);\n",
    "\n",
    "ax.set_xlabel('C02 EMISSION TYPE')\n",
    "ax.set_ylabel('CO2 METRIC TON')\n",
    "\n",
    "plt.show()"
   ]
  },
  {
   "cell_type": "markdown",
   "metadata": {},
   "source": [
    "#### Charting a time-series to see the growth of each emission type over time."
   ]
  },
  {
   "cell_type": "code",
   "execution_count": 76,
   "metadata": {},
   "outputs": [
    {
     "data": {
      "image/png": "[encoded data removed]",
      "text/plain": [
       "<Figure size 432x288 with 1 Axes>"
      ]
     },
     "metadata": {
      "needs_background": "light"
     },
     "output_type": "display_data"
    }
   ],
   "source": [
    "y  = df_1950_agg['Solids']\n",
    "y2 = df_1950_agg['Liquids']\n",
    "y3 = df_1950_agg['Gases']\n",
    "y4 = df_1950_agg['Cement']\n",
    "y5 = df_1950_agg['Flaring']\n",
    "x  = df_1950_agg.index\n",
    "\n",
    "fig = plt.figure()\n",
    "ax = plt.subplot(111)\n",
    "ax.plot(x, y,  label = 'Solids',    color = 'red')\n",
    "ax.plot(x, y2, label = 'Liquids',   color = 'blue')\n",
    "ax.plot(x, y3, label = 'Gases',     color = 'green')\n",
    "ax.plot(x, y4, label = 'Cement',    color = 'purple')\n",
    "ax.plot(x, y5, label = 'Flaring',   color = 'black')\n",
    "plt.xlabel('YEAR')    \n",
    "plt.ylabel('CO2 METRIC TON')\n",
    "plt.title('Global Totals For Each Emission Type')\n",
    "chartBox = ax.get_position()\n",
    "ax.set_position([chartBox.x0, chartBox.y0, chartBox.width * 1, chartBox.height])\n",
    "ax.legend(loc = 'upper center', bbox_to_anchor = (1.12, 0.7), shadow = True, ncol = 1)\n",
    "plt.show()"
   ]
  },
  {
   "cell_type": "markdown",
   "metadata": {},
   "source": [
    ">  The data suggests the largest emission type is Solids which has been growing exponentially.  \n",
    "The lowest emission type is Flaring whose growth appears to be flat year over year. "
   ]
  },
  {
   "cell_type": "markdown",
   "metadata": {},
   "source": [
    "#### Exploration of global C02 emission total and global emission C02 total per capita over time."
   ]
  },
  {
   "cell_type": "code",
   "execution_count": 77,
   "metadata": {},
   "outputs": [
    {
     "data": {
      "image/png": "[encoded data removed]",
      "text/plain": [
       "<Figure size 720x360 with 2 Axes>"
      ]
     },
     "metadata": {
      "needs_background": "light"
     },
     "output_type": "display_data"
    }
   ],
   "source": [
    "plt.figure(figsize = (10, 5))\n",
    "plt.subplot(1, 2, 1)\n",
    "plt.bar(df_1950_agg.index, df_1950_agg['Total'], color = 'purple')\n",
    "plt.xlabel('YEAR')\n",
    "plt.ylabel('CO2 METRIC TON')\n",
    "plt.title('Global Total')\n",
    "\n",
    "plt.subplot(1, 2, 2)\n",
    "plt.bar(df_1950_agg.index, (df_1950_agg['Total_Per_Capita']) / 10, color = 'green') # DIVIDED BY 10, 10 REGIONS\n",
    "plt.xlabel('YEAR')\n",
    "plt.ylabel('C02 METRIC TON PER PERSON')\n",
    "plt.title('Global Total Per Capita')\n",
    "plt.tight_layout()\n",
    "plt.show()"
   ]
  },
  {
   "cell_type": "markdown",
   "metadata": {},
   "source": [
    ">  Growth in total CO2 emissions is more or less linear. Population growth, not shown here, is linear. Global Total Per Capita, despite going sideways to down since the mid 1970s, represents the potential significance of population on CO2 emissions. Population in 1975 = 4079087198. In 2014 population = 7298453033. Population hasn't quite doubled, but has increased about 79%. Yet the Global Total Per Capita has stayed roughly the same. Energy infrastructure investments, production of goods, and consumption behaviors have not changed much since 1975 when viewed on a per person basis. Said another way, population has gone up linearly, and so has total emissions of CO2. Correlation does not mean causation, but this appears to be a good area for addition research. "
   ]
  },
  {
   "cell_type": "markdown",
   "metadata": {},
   "source": [
    "## 3. Are the emission types correlated?"
   ]
  },
  {
   "cell_type": "code",
   "execution_count": 78,
   "metadata": {
    "scrolled": true
   },
   "outputs": [
    {
     "data": {
      "text/html": [
       "<style  type=\"text/css\" >\n",
       "    #T_6192cfe4_b7b9_11e9_8f7b_54ee75266f30row0_col0 {\n",
       "            background-color:  #b40426;\n",
       "            color:  #f1f1f1;\n",
       "        }    #T_6192cfe4_b7b9_11e9_8f7b_54ee75266f30row0_col1 {\n",
       "            background-color:  #c43032;\n",
       "            color:  #f1f1f1;\n",
       "        }    #T_6192cfe4_b7b9_11e9_8f7b_54ee75266f30row0_col2 {\n",
       "            background-color:  #e36b54;\n",
       "            color:  #000000;\n",
       "        }    #T_6192cfe4_b7b9_11e9_8f7b_54ee75266f30row0_col3 {\n",
       "            background-color:  #b8122a;\n",
       "            color:  #f1f1f1;\n",
       "        }    #T_6192cfe4_b7b9_11e9_8f7b_54ee75266f30row0_col4 {\n",
       "            background-color:  #d24b40;\n",
       "            color:  #f1f1f1;\n",
       "        }    #T_6192cfe4_b7b9_11e9_8f7b_54ee75266f30row0_col5 {\n",
       "            background-color:  #7597f6;\n",
       "            color:  #000000;\n",
       "        }    #T_6192cfe4_b7b9_11e9_8f7b_54ee75266f30row1_col0 {\n",
       "            background-color:  #c73635;\n",
       "            color:  #f1f1f1;\n",
       "        }    #T_6192cfe4_b7b9_11e9_8f7b_54ee75266f30row1_col1 {\n",
       "            background-color:  #b40426;\n",
       "            color:  #f1f1f1;\n",
       "        }    #T_6192cfe4_b7b9_11e9_8f7b_54ee75266f30row1_col2 {\n",
       "            background-color:  #f0cdbb;\n",
       "            color:  #000000;\n",
       "        }    #T_6192cfe4_b7b9_11e9_8f7b_54ee75266f30row1_col3 {\n",
       "            background-color:  #c43032;\n",
       "            color:  #f1f1f1;\n",
       "        }    #T_6192cfe4_b7b9_11e9_8f7b_54ee75266f30row1_col4 {\n",
       "            background-color:  #bd1f2d;\n",
       "            color:  #f1f1f1;\n",
       "        }    #T_6192cfe4_b7b9_11e9_8f7b_54ee75266f30row1_col5 {\n",
       "            background-color:  #3b4cc0;\n",
       "            color:  #f1f1f1;\n",
       "        }    #T_6192cfe4_b7b9_11e9_8f7b_54ee75266f30row2_col0 {\n",
       "            background-color:  #d75445;\n",
       "            color:  #000000;\n",
       "        }    #T_6192cfe4_b7b9_11e9_8f7b_54ee75266f30row2_col1 {\n",
       "            background-color:  #f39778;\n",
       "            color:  #000000;\n",
       "        }    #T_6192cfe4_b7b9_11e9_8f7b_54ee75266f30row2_col2 {\n",
       "            background-color:  #b40426;\n",
       "            color:  #f1f1f1;\n",
       "        }    #T_6192cfe4_b7b9_11e9_8f7b_54ee75266f30row2_col3 {\n",
       "            background-color:  #e16751;\n",
       "            color:  #000000;\n",
       "        }    #T_6192cfe4_b7b9_11e9_8f7b_54ee75266f30row2_col4 {\n",
       "            background-color:  #f7b497;\n",
       "            color:  #000000;\n",
       "        }    #T_6192cfe4_b7b9_11e9_8f7b_54ee75266f30row2_col5 {\n",
       "            background-color:  #c3d5f4;\n",
       "            color:  #000000;\n",
       "        }    #T_6192cfe4_b7b9_11e9_8f7b_54ee75266f30row3_col0 {\n",
       "            background-color:  #ba162b;\n",
       "            color:  #f1f1f1;\n",
       "        }    #T_6192cfe4_b7b9_11e9_8f7b_54ee75266f30row3_col1 {\n",
       "            background-color:  #c43032;\n",
       "            color:  #f1f1f1;\n",
       "        }    #T_6192cfe4_b7b9_11e9_8f7b_54ee75266f30row3_col2 {\n",
       "            background-color:  #f29072;\n",
       "            color:  #000000;\n",
       "        }    #T_6192cfe4_b7b9_11e9_8f7b_54ee75266f30row3_col3 {\n",
       "            background-color:  #b40426;\n",
       "            color:  #f1f1f1;\n",
       "        }    #T_6192cfe4_b7b9_11e9_8f7b_54ee75266f30row3_col4 {\n",
       "            background-color:  #cf453c;\n",
       "            color:  #f1f1f1;\n",
       "        }    #T_6192cfe4_b7b9_11e9_8f7b_54ee75266f30row3_col5 {\n",
       "            background-color:  #455cce;\n",
       "            color:  #f1f1f1;\n",
       "        }    #T_6192cfe4_b7b9_11e9_8f7b_54ee75266f30row4_col0 {\n",
       "            background-color:  #d85646;\n",
       "            color:  #000000;\n",
       "        }    #T_6192cfe4_b7b9_11e9_8f7b_54ee75266f30row4_col1 {\n",
       "            background-color:  #bd1f2d;\n",
       "            color:  #f1f1f1;\n",
       "        }    #T_6192cfe4_b7b9_11e9_8f7b_54ee75266f30row4_col2 {\n",
       "            background-color:  #d2dbe8;\n",
       "            color:  #000000;\n",
       "        }    #T_6192cfe4_b7b9_11e9_8f7b_54ee75266f30row4_col3 {\n",
       "            background-color:  #d0473d;\n",
       "            color:  #f1f1f1;\n",
       "        }    #T_6192cfe4_b7b9_11e9_8f7b_54ee75266f30row4_col4 {\n",
       "            background-color:  #b40426;\n",
       "            color:  #f1f1f1;\n",
       "        }    #T_6192cfe4_b7b9_11e9_8f7b_54ee75266f30row4_col5 {\n",
       "            background-color:  #3e51c5;\n",
       "            color:  #f1f1f1;\n",
       "        }    #T_6192cfe4_b7b9_11e9_8f7b_54ee75266f30row5_col0 {\n",
       "            background-color:  #3b4cc0;\n",
       "            color:  #f1f1f1;\n",
       "        }    #T_6192cfe4_b7b9_11e9_8f7b_54ee75266f30row5_col1 {\n",
       "            background-color:  #3b4cc0;\n",
       "            color:  #f1f1f1;\n",
       "        }    #T_6192cfe4_b7b9_11e9_8f7b_54ee75266f30row5_col2 {\n",
       "            background-color:  #3b4cc0;\n",
       "            color:  #f1f1f1;\n",
       "        }    #T_6192cfe4_b7b9_11e9_8f7b_54ee75266f30row5_col3 {\n",
       "            background-color:  #3b4cc0;\n",
       "            color:  #f1f1f1;\n",
       "        }    #T_6192cfe4_b7b9_11e9_8f7b_54ee75266f30row5_col4 {\n",
       "            background-color:  #3b4cc0;\n",
       "            color:  #f1f1f1;\n",
       "        }    #T_6192cfe4_b7b9_11e9_8f7b_54ee75266f30row5_col5 {\n",
       "            background-color:  #b40426;\n",
       "            color:  #f1f1f1;\n",
       "        }</style><table id=\"T_6192cfe4_b7b9_11e9_8f7b_54ee75266f30\" ><thead>    <tr>        <th class=\"blank level0\" ></th>        <th class=\"col_heading level0 col0\" >Total</th>        <th class=\"col_heading level0 col1\" >Solids</th>        <th class=\"col_heading level0 col2\" >Liquids</th>        <th class=\"col_heading level0 col3\" >Gases</th>        <th class=\"col_heading level0 col4\" >Cement</th>        <th class=\"col_heading level0 col5\" >Flaring</th>    </tr></thead><tbody>\n",
       "                <tr>\n",
       "                        <th id=\"T_6192cfe4_b7b9_11e9_8f7b_54ee75266f30level0_row0\" class=\"row_heading level0 row0\" >Total</th>\n",
       "                        <td id=\"T_6192cfe4_b7b9_11e9_8f7b_54ee75266f30row0_col0\" class=\"data row0 col0\" >1</td>\n",
       "                        <td id=\"T_6192cfe4_b7b9_11e9_8f7b_54ee75266f30row0_col1\" class=\"data row0 col1\" >0.966268</td>\n",
       "                        <td id=\"T_6192cfe4_b7b9_11e9_8f7b_54ee75266f30row0_col2\" class=\"data row0 col2\" >0.935024</td>\n",
       "                        <td id=\"T_6192cfe4_b7b9_11e9_8f7b_54ee75266f30row0_col3\" class=\"data row0 col3\" >0.98867</td>\n",
       "                        <td id=\"T_6192cfe4_b7b9_11e9_8f7b_54ee75266f30row0_col4\" class=\"data row0 col4\" >0.934476</td>\n",
       "                        <td id=\"T_6192cfe4_b7b9_11e9_8f7b_54ee75266f30row0_col5\" class=\"data row0 col5\" >0.380536</td>\n",
       "            </tr>\n",
       "            <tr>\n",
       "                        <th id=\"T_6192cfe4_b7b9_11e9_8f7b_54ee75266f30level0_row1\" class=\"row_heading level0 row1\" >Solids</th>\n",
       "                        <td id=\"T_6192cfe4_b7b9_11e9_8f7b_54ee75266f30row1_col0\" class=\"data row1 col0\" >0.966268</td>\n",
       "                        <td id=\"T_6192cfe4_b7b9_11e9_8f7b_54ee75266f30row1_col1\" class=\"data row1 col1\" >1</td>\n",
       "                        <td id=\"T_6192cfe4_b7b9_11e9_8f7b_54ee75266f30row1_col2\" class=\"data row1 col2\" >0.815556</td>\n",
       "                        <td id=\"T_6192cfe4_b7b9_11e9_8f7b_54ee75266f30row1_col3\" class=\"data row1 col3\" >0.965795</td>\n",
       "                        <td id=\"T_6192cfe4_b7b9_11e9_8f7b_54ee75266f30row1_col4\" class=\"data row1 col4\" >0.982195</td>\n",
       "                        <td id=\"T_6192cfe4_b7b9_11e9_8f7b_54ee75266f30row1_col5\" class=\"data row1 col5\" >0.24198</td>\n",
       "            </tr>\n",
       "            <tr>\n",
       "                        <th id=\"T_6192cfe4_b7b9_11e9_8f7b_54ee75266f30level0_row2\" class=\"row_heading level0 row2\" >Liquids</th>\n",
       "                        <td id=\"T_6192cfe4_b7b9_11e9_8f7b_54ee75266f30row2_col0\" class=\"data row2 col0\" >0.935024</td>\n",
       "                        <td id=\"T_6192cfe4_b7b9_11e9_8f7b_54ee75266f30row2_col1\" class=\"data row2 col1\" >0.815556</td>\n",
       "                        <td id=\"T_6192cfe4_b7b9_11e9_8f7b_54ee75266f30row2_col2\" class=\"data row2 col2\" >1</td>\n",
       "                        <td id=\"T_6192cfe4_b7b9_11e9_8f7b_54ee75266f30row2_col3\" class=\"data row2 col3\" >0.898373</td>\n",
       "                        <td id=\"T_6192cfe4_b7b9_11e9_8f7b_54ee75266f30row2_col4\" class=\"data row2 col4\" >0.757858</td>\n",
       "                        <td id=\"T_6192cfe4_b7b9_11e9_8f7b_54ee75266f30row2_col5\" class=\"data row2 col5\" >0.55246</td>\n",
       "            </tr>\n",
       "            <tr>\n",
       "                        <th id=\"T_6192cfe4_b7b9_11e9_8f7b_54ee75266f30level0_row3\" class=\"row_heading level0 row3\" >Gases</th>\n",
       "                        <td id=\"T_6192cfe4_b7b9_11e9_8f7b_54ee75266f30row3_col0\" class=\"data row3 col0\" >0.98867</td>\n",
       "                        <td id=\"T_6192cfe4_b7b9_11e9_8f7b_54ee75266f30row3_col1\" class=\"data row3 col1\" >0.965795</td>\n",
       "                        <td id=\"T_6192cfe4_b7b9_11e9_8f7b_54ee75266f30row3_col2\" class=\"data row3 col2\" >0.898373</td>\n",
       "                        <td id=\"T_6192cfe4_b7b9_11e9_8f7b_54ee75266f30row3_col3\" class=\"data row3 col3\" >1</td>\n",
       "                        <td id=\"T_6192cfe4_b7b9_11e9_8f7b_54ee75266f30row3_col4\" class=\"data row3 col4\" >0.941703</td>\n",
       "                        <td id=\"T_6192cfe4_b7b9_11e9_8f7b_54ee75266f30row3_col5\" class=\"data row3 col5\" >0.269607</td>\n",
       "            </tr>\n",
       "            <tr>\n",
       "                        <th id=\"T_6192cfe4_b7b9_11e9_8f7b_54ee75266f30level0_row4\" class=\"row_heading level0 row4\" >Cement</th>\n",
       "                        <td id=\"T_6192cfe4_b7b9_11e9_8f7b_54ee75266f30row4_col0\" class=\"data row4 col0\" >0.934476</td>\n",
       "                        <td id=\"T_6192cfe4_b7b9_11e9_8f7b_54ee75266f30row4_col1\" class=\"data row4 col1\" >0.982195</td>\n",
       "                        <td id=\"T_6192cfe4_b7b9_11e9_8f7b_54ee75266f30row4_col2\" class=\"data row4 col2\" >0.757858</td>\n",
       "                        <td id=\"T_6192cfe4_b7b9_11e9_8f7b_54ee75266f30row4_col3\" class=\"data row4 col3\" >0.941703</td>\n",
       "                        <td id=\"T_6192cfe4_b7b9_11e9_8f7b_54ee75266f30row4_col4\" class=\"data row4 col4\" >1</td>\n",
       "                        <td id=\"T_6192cfe4_b7b9_11e9_8f7b_54ee75266f30row4_col5\" class=\"data row4 col5\" >0.251577</td>\n",
       "            </tr>\n",
       "            <tr>\n",
       "                        <th id=\"T_6192cfe4_b7b9_11e9_8f7b_54ee75266f30level0_row5\" class=\"row_heading level0 row5\" >Flaring</th>\n",
       "                        <td id=\"T_6192cfe4_b7b9_11e9_8f7b_54ee75266f30row5_col0\" class=\"data row5 col0\" >0.380536</td>\n",
       "                        <td id=\"T_6192cfe4_b7b9_11e9_8f7b_54ee75266f30row5_col1\" class=\"data row5 col1\" >0.24198</td>\n",
       "                        <td id=\"T_6192cfe4_b7b9_11e9_8f7b_54ee75266f30row5_col2\" class=\"data row5 col2\" >0.55246</td>\n",
       "                        <td id=\"T_6192cfe4_b7b9_11e9_8f7b_54ee75266f30row5_col3\" class=\"data row5 col3\" >0.269607</td>\n",
       "                        <td id=\"T_6192cfe4_b7b9_11e9_8f7b_54ee75266f30row5_col4\" class=\"data row5 col4\" >0.251577</td>\n",
       "                        <td id=\"T_6192cfe4_b7b9_11e9_8f7b_54ee75266f30row5_col5\" class=\"data row5 col5\" >1</td>\n",
       "            </tr>\n",
       "    </tbody></table>"
      ],
      "text/plain": [
       "<pandas.io.formats.style.Styler at 0x5679b50>"
      ]
     },
     "execution_count": 78,
     "metadata": {},
     "output_type": "execute_result"
    }
   ],
   "source": [
    "corr = df_1950_agg.drop(['Total_Per_Capita'], axis = 1).corr() # DROP TOTAL PER CAPITA NOT APPLES TO APPLES\n",
    "corr.style.background_gradient(cmap = 'coolwarm')"
   ]
  },
  {
   "cell_type": "markdown",
   "metadata": {},
   "source": [
    ">  When an individual emission type is highly correlated with the Total, it means that the year over year direction is similar. Since total is linear to up, a highly correlated emission type would also be linear to up. Correlation values range from 1 to -1. Values closer to 1 are highly correlated, values closer to -1 are highly inversely correlated. Correlations in the matrix above have many relationships over .9, these relationships are highly correlated. The significance is high correlations speak to a possibility there are variables, such as population and economic growth, that may be causal factors. However correlation does not mean causation, so additional research and modeling is required.   \n",
    "\n",
    ">  Solids, Gases, Liquids, and Cement are all highly correlated with the Total C02 emission category. Flaring has a relatively low correlation, which means that Flaring C02 emissions are more independent. The direction of change for Flaring is not similar year over year when compared to Total CO2 emissions and the other categories. The Flaring emissions are likely driven or have been impacted in isolation of the other categories. "
   ]
  },
  {
   "cell_type": "markdown",
   "metadata": {},
   "source": [
    "### Histogram to compare to populations with correlation below .6.  "
   ]
  },
  {
   "cell_type": "code",
   "execution_count": 84,
   "metadata": {},
   "outputs": [
    {
     "data": {
      "image/png": "[encoded data removed]",
      "text/plain": [
       "<Figure size 432x288 with 1 Axes>"
      ]
     },
     "metadata": {
      "needs_background": "light"
     },
     "output_type": "display_data"
    }
   ],
   "source": [
    "cement  = df_1950_agg['Cement']\n",
    "flaring = df_1950_agg['Flaring']\n",
    "plt.hist(cement,  alpha = 0.5, label = 'Cement')\n",
    "plt.hist(flaring, alpha = 0.5, label = 'Flaring')\n",
    "plt.legend(loc = 'upper center')\n",
    "\n",
    "plt.xlabel('C02 METRIC TON BINS')\n",
    "plt.ylabel('COUNT IN BIN')\n",
    "plt.title('Population Comparison')\n",
    "plt.show()"
   ]
  },
  {
   "cell_type": "markdown",
   "metadata": {},
   "source": [
    ">  When performing additional analysis across populuations with significant differences in absolute values, normalizing values may be required to gain more meaningful insights.  "
   ]
  },
  {
   "cell_type": "markdown",
   "metadata": {},
   "source": [
    "# CONCLUSION  \n",
    "- Population growth appears to be significant to C02 emission growth.  \n",
    "- Develeped, \"Old World\", countries appear to have a lower emission growth rate as seen on the charts in the past 10 years. \n",
    "- Generally speaking, European countries have a low absolute value and a low emission growth rate. \n",
    "- Far East (Russia) and Centrally Planned Asia (China) both appear to be growing steadily and have high absolute values, particularly China.\n",
    "- The trend of all emission types, except for flaring, when looked at globally, appear to be growing as of 2014. \n",
    "- Solids and flaring appear to be moving sideways year over year in past ten years, where liquids, gas and cement emissions appear to be growing steadily.\n",
    "- Generally speaking the emission types are highly correlated except for flaring."
   ]
  },
  {
   "cell_type": "markdown",
   "metadata": {},
   "source": [
    "# PROPOSAL FOR ADDITIONAL RESEARCH"
   ]
  },
  {
   "cell_type": "markdown",
   "metadata": {},
   "source": [
    "Propose exploring the significance of population growth and economic growth to the growth in C02 emissions. \n",
    "\n",
    "Create a model to predict future growth of C02 emissions. \n",
    "\n",
    "Question 1: Is population growth a significant driver of C02 emissions?  \n",
    "Question 2: Is economic growth a significant driver of CO2 emissions?  \n",
    "Question 3: Are regional carbon emission footprints representative of regional growth in population and economic activity?\n",
    "  \n",
    "- Get population data and economic growth data. \n",
    "- Look for seasonal trends if any in the economic data. \n",
    "- Data needs to be able to be broken down into region, sector, and CO2 emission type. \n",
    "- Test for statistical significance using linear regression, f-test. \n",
    "- Build a predictive model to forecast emissions.\n"
   ]
  },
  {
   "cell_type": "markdown",
   "metadata": {},
   "source": [
    "## EXTRA    \n",
    "### T-TEST: MENTOR ASKED FOR A T-TEST TO BE DONE ON TWO VARIABLES "
   ]
  },
  {
   "cell_type": "code",
   "execution_count": 80,
   "metadata": {},
   "outputs": [],
   "source": [
    "liquids = df_1950_agg['Liquids']\n",
    "solids  = df_1950_agg['Solids']"
   ]
  },
  {
   "cell_type": "code",
   "execution_count": 81,
   "metadata": {},
   "outputs": [
    {
     "name": "stdout",
     "output_type": "stream",
     "text": [
      "Ttest_indResult(statistic=1.5778968122562675, pvalue=0.11706714980933941)\n"
     ]
    }
   ],
   "source": [
    "from scipy.stats import ttest_ind\n",
    "print(ttest_ind(solids, liquids, equal_var = False))"
   ]
  },
  {
   "cell_type": "markdown",
   "metadata": {},
   "source": [
    "The p-value associated with a t-test indicates the likelihood of getting a difference this large or larger in the samples if the populations were not different. The smaller the p-value, the more likely the difference we see in the samples meaningfully reflects the populations. The p-value in the test > .05 the level of significance. It is high. Thus we are not confident that the difference in means we see is due to a real difference in the population. \n",
    "\n",
    "Fail to reject H0 as pvalue > .05. \n",
    "This states that we cannot conclude that the mean of liquids and \n",
    "the mean of solids are the same with confidence. The populations are different."
   ]
  }
 ],
 "metadata": {
  "kernelspec": {
   "display_name": "Python 3",
   "language": "python",
   "name": "python3"
  },
  "language_info": {
   "codemirror_mode": {
    "name": "ipython",
    "version": 3
   },
   "file_extension": ".py",
   "mimetype": "text/x-python",
   "name": "python",
   "nbconvert_exporter": "python",
   "pygments_lexer": "ipython3",
   "version": "3.7.4"
  }
 },
 "nbformat": 4,
 "nbformat_minor": 2
}
