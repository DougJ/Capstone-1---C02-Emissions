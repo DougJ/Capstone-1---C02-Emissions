{
 "cells": [
  {
   "cell_type": "markdown",
   "metadata": {},
   "source": [
    "# Capstone 2: Narrative Analytics and Experimentation\n",
    "\n",
    "## Full spectrum light bulbs treatment for Seasonal Adjustment Disorder (SAD) in countries at or above the 49th parallel. \n",
    "\n",
    "#### Introduction\n",
    "\n",
    "In Kaggle's, \"Global Suicide Statistics - 1985 to 2016\" data set, there appears to be a higher incidence of suicide per 100k of population in countries that have long winters with less daylight. Particularly in countries at or above the 49th parallel in the Northern Hemisphere.  \n",
    "\n",
    "The Seasonal Adjustment Disorder (SAD) is a known phenomenon in locations with fewer daylight hours during long winters. When not exposed to enough sunlight, humans tend to have a relatively higher incidence of depression and mental illness. \n",
    "\n",
    "Full spectrum light bulbs are a substitute for sunlight. The spectrums are similar, and are believed to reduce SAD and mental illness caused by seasonal factors like SAD. \n",
    "\n",
    "Secondarily the body, physical illness, may benefit from full spectrum light bulbs when exposure to the sun is limited for extended periods of time.   \n",
    "\n",
    "For this study, suicide rates are used as a proxy for SAD, depression and poor mental health due to environmental factors.  \n",
    "\n",
    "#### About the CDIAC dataset\n",
    "\n",
    "Data from Kaggle: [Global Suicide Statistics - 1985 to 2016 data set](https://www.kaggle.com/russellyates88/suicide-rates-overview-1985-to-2016)"
   ]
  },
  {
   "cell_type": "markdown",
   "metadata": {},
   "source": [
    "#### Problem Statements\n",
    "Problem Statement For EDA:  \n",
    "* Is there a significant difference in suicide rates between regions with fewer hours of daylight in winter vs greater number of hours of daylight in winter?\n",
    "* Is there a difference between male and female suicide rates?  \n",
    "* Is there a difference in suicide rates across age groups?  \n",
    "\n",
    "Problem Statement For A/B Experiment:  \n",
    "* Test whether the use of full spectrum light bulbs is an effective treatment for Seasonal Adjustment Disorder (SAD) observed in countries in and above the 49th parallel, in the Northern Hemisphere. "
   ]
  },
  {
   "cell_type": "code",
   "execution_count": 27,
   "metadata": {},
   "outputs": [],
   "source": [
    "import matplotlib.pyplot as plt\n",
    "import numpy as np\n",
    "import pandas as pd\n",
    "import seaborn as sns\n",
    "import re\n",
    "from scipy.stats import ttest_ind\n",
    "%matplotlib inline"
   ]
  },
  {
   "cell_type": "markdown",
   "metadata": {},
   "source": [
    "## Part 1. Exploratory Data Analysis of Gloal Suicide Statistics 1985 - 2016. \n",
    "\n",
    "> Use quartile analysis of the suicide rate for:\n",
    "> 1. Countries\n",
    "> 2. Men and women\n",
    "> 3. Age groups\n",
    "> 4. Trend over time"
   ]
  },
  {
   "cell_type": "markdown",
   "metadata": {},
   "source": [
    "### 1.1 Explore data for content and stucture"
   ]
  },
  {
   "cell_type": "code",
   "execution_count": 2,
   "metadata": {},
   "outputs": [],
   "source": [
    "# LOAD DATA\n",
    "df = pd.read_csv('C:/Users/DJ/Documents/AnacondaPython/SuicideStats/suicide-rates-overview-1985-to-2016/master.csv')"
   ]
  },
  {
   "cell_type": "code",
   "execution_count": 3,
   "metadata": {},
   "outputs": [
    {
     "data": {
      "text/plain": [
       "(27820, 12)"
      ]
     },
     "execution_count": 3,
     "metadata": {},
     "output_type": "execute_result"
    }
   ],
   "source": [
    "# (ROWS, COLUMNS)\n",
    "df.shape"
   ]
  },
  {
   "cell_type": "code",
   "execution_count": 4,
   "metadata": {},
   "outputs": [
    {
     "data": {
      "text/plain": [
       "Index(['country', 'year', 'sex', 'age', 'suicides_no', 'population',\n",
       "       'suicides/100k pop', 'country-year', 'HDI for year',\n",
       "       ' gdp_for_year ($) ', 'gdp_per_capita ($)', 'generation'],\n",
       "      dtype='object')"
      ]
     },
     "execution_count": 4,
     "metadata": {},
     "output_type": "execute_result"
    }
   ],
   "source": [
    "df.columns"
   ]
  },
  {
   "cell_type": "code",
   "execution_count": 5,
   "metadata": {},
   "outputs": [],
   "source": [
    "# RENAME COLUMNS\n",
    "df.columns = ['country', 'year', 'sex', 'age', 'suicides', 'pop',\n",
    "       'suicides_per_100k', 'country_year', 'hdi_for_year',\n",
    "       'gdp_for_year', 'gdp_per_cap', 'generation']"
   ]
  },
  {
   "cell_type": "code",
   "execution_count": 6,
   "metadata": {},
   "outputs": [
    {
     "data": {
      "text/html": [
       "<div>\n",
       "<style scoped>\n",
       "    .dataframe tbody tr th:only-of-type {\n",
       "        vertical-align: middle;\n",
       "    }\n",
       "\n",
       "    .dataframe tbody tr th {\n",
       "        vertical-align: top;\n",
       "    }\n",
       "\n",
       "    .dataframe thead th {\n",
       "        text-align: right;\n",
       "    }\n",
       "</style>\n",
       "<table border=\"1\" class=\"dataframe\">\n",
       "  <thead>\n",
       "    <tr style=\"text-align: right;\">\n",
       "      <th></th>\n",
       "      <th>country</th>\n",
       "      <th>year</th>\n",
       "      <th>sex</th>\n",
       "      <th>age</th>\n",
       "      <th>suicides</th>\n",
       "      <th>pop</th>\n",
       "      <th>suicides_per_100k</th>\n",
       "      <th>country_year</th>\n",
       "      <th>hdi_for_year</th>\n",
       "      <th>gdp_for_year</th>\n",
       "      <th>gdp_per_cap</th>\n",
       "      <th>generation</th>\n",
       "    </tr>\n",
       "  </thead>\n",
       "  <tbody>\n",
       "    <tr>\n",
       "      <th>0</th>\n",
       "      <td>Albania</td>\n",
       "      <td>1987</td>\n",
       "      <td>male</td>\n",
       "      <td>15-24 years</td>\n",
       "      <td>21</td>\n",
       "      <td>312900</td>\n",
       "      <td>6.71</td>\n",
       "      <td>Albania1987</td>\n",
       "      <td>NaN</td>\n",
       "      <td>2,156,624,900</td>\n",
       "      <td>796</td>\n",
       "      <td>Generation X</td>\n",
       "    </tr>\n",
       "    <tr>\n",
       "      <th>1</th>\n",
       "      <td>Albania</td>\n",
       "      <td>1987</td>\n",
       "      <td>male</td>\n",
       "      <td>35-54 years</td>\n",
       "      <td>16</td>\n",
       "      <td>308000</td>\n",
       "      <td>5.19</td>\n",
       "      <td>Albania1987</td>\n",
       "      <td>NaN</td>\n",
       "      <td>2,156,624,900</td>\n",
       "      <td>796</td>\n",
       "      <td>Silent</td>\n",
       "    </tr>\n",
       "    <tr>\n",
       "      <th>2</th>\n",
       "      <td>Albania</td>\n",
       "      <td>1987</td>\n",
       "      <td>female</td>\n",
       "      <td>15-24 years</td>\n",
       "      <td>14</td>\n",
       "      <td>289700</td>\n",
       "      <td>4.83</td>\n",
       "      <td>Albania1987</td>\n",
       "      <td>NaN</td>\n",
       "      <td>2,156,624,900</td>\n",
       "      <td>796</td>\n",
       "      <td>Generation X</td>\n",
       "    </tr>\n",
       "  </tbody>\n",
       "</table>\n",
       "</div>"
      ],
      "text/plain": [
       "   country  year     sex          age  suicides     pop  suicides_per_100k  \\\n",
       "0  Albania  1987    male  15-24 years        21  312900               6.71   \n",
       "1  Albania  1987    male  35-54 years        16  308000               5.19   \n",
       "2  Albania  1987  female  15-24 years        14  289700               4.83   \n",
       "\n",
       "  country_year  hdi_for_year   gdp_for_year  gdp_per_cap    generation  \n",
       "0  Albania1987           NaN  2,156,624,900          796  Generation X  \n",
       "1  Albania1987           NaN  2,156,624,900          796        Silent  \n",
       "2  Albania1987           NaN  2,156,624,900          796  Generation X  "
      ]
     },
     "execution_count": 6,
     "metadata": {},
     "output_type": "execute_result"
    }
   ],
   "source": [
    "# LOOK AT DATA AND CHANGED COLUMN NAMES\n",
    "df.head(3)"
   ]
  },
  {
   "cell_type": "code",
   "execution_count": 7,
   "metadata": {},
   "outputs": [
    {
     "name": "stdout",
     "output_type": "stream",
     "text": [
      "<class 'pandas.core.frame.DataFrame'>\n",
      "RangeIndex: 27820 entries, 0 to 27819\n",
      "Data columns (total 12 columns):\n",
      "country              27820 non-null object\n",
      "year                 27820 non-null int64\n",
      "sex                  27820 non-null object\n",
      "age                  27820 non-null object\n",
      "suicides             27820 non-null int64\n",
      "pop                  27820 non-null int64\n",
      "suicides_per_100k    27820 non-null float64\n",
      "country_year         27820 non-null object\n",
      "hdi_for_year         8364 non-null float64\n",
      "gdp_for_year         27820 non-null object\n",
      "gdp_per_cap          27820 non-null int64\n",
      "generation           27820 non-null object\n",
      "dtypes: float64(2), int64(4), object(6)\n",
      "memory usage: 2.5+ MB\n"
     ]
    }
   ],
   "source": [
    "# CHECK COUNTS, DATA TYPES, NON NULL VALUES\n",
    "df.info()"
   ]
  },
  {
   "cell_type": "code",
   "execution_count": 8,
   "metadata": {},
   "outputs": [],
   "source": [
    "# DROP UNNEEDED COLUMN WITH NULLS\n",
    "df.drop(columns=['hdi_for_year'], axis=1, inplace=True)"
   ]
  },
  {
   "cell_type": "code",
   "execution_count": 9,
   "metadata": {},
   "outputs": [],
   "source": [
    "# ADD A 0 IN FRONT OF 5 SO SORTS IN CHART FROM LOW TO HIGH\n",
    "df.loc[df['age'] == '5-14 years', 'age'] = '05-14 years'"
   ]
  },
  {
   "cell_type": "code",
   "execution_count": 10,
   "metadata": {},
   "outputs": [
    {
     "data": {
      "text/plain": [
       "array(['15-24 years', '35-54 years', '75+ years', '25-34 years',\n",
       "       '55-74 years', '05-14 years'], dtype=object)"
      ]
     },
     "execution_count": 10,
     "metadata": {},
     "output_type": "execute_result"
    }
   ],
   "source": [
    "df['age'].unique()"
   ]
  },
  {
   "cell_type": "markdown",
   "metadata": {},
   "source": [
    "###  1.2 Suicide rate groupings"
   ]
  },
  {
   "cell_type": "code",
   "execution_count": 11,
   "metadata": {},
   "outputs": [],
   "source": [
    "#CREATE A DATAFRAME GROUPED BY COUNTRY AGGREGATING FOR MEAN SUICIDE RATES FOR ALL AGES \n",
    "df_gb_cntry_all = df.groupby('country').mean().sort_values('suicides_per_100k', \n",
    "                                                           ascending=False).reset_index()"
   ]
  },
  {
   "cell_type": "code",
   "execution_count": 12,
   "metadata": {},
   "outputs": [],
   "source": [
    "#PERCENTILE FOR QUARTILE ANALYSIS\n",
    "p25 = np.percentile(df_gb_cntry_all['suicides_per_100k'], 25) # return 25th percentile.\n",
    "p50 = np.percentile(df_gb_cntry_all['suicides_per_100k'], 50) # return 50th percentile.\n",
    "p75 = np.percentile(df_gb_cntry_all['suicides_per_100k'], 75) # return 75th percentile."
   ]
  },
  {
   "cell_type": "code",
   "execution_count": 13,
   "metadata": {},
   "outputs": [],
   "source": [
    "# CREATE LISTS\n",
    "highest_rate_q4 = []\n",
    "mid_rate_q3 = []\n",
    "mid_rate_q2 = []\n",
    "lowest_rate_q1 = []\n",
    "\n",
    "# COUNTER FOR TOTAL NUMBER VERIFICATION\n",
    "cnt=0 \n",
    "\n",
    "# POPULATE LISTS AND COLUMN\n",
    "for index, row in df_gb_cntry_all.iterrows():  \n",
    "    cnt += 1\n",
    "    if row['suicides_per_100k'] <=  p25:\n",
    "        lowest_rate_q1.append(row['country']) \n",
    "        df_gb_cntry_all.loc[index, 'quartile'] = 'Q1_Lowest_Rate_25'\n",
    "    elif row['suicides_per_100k'] > p25 and row['suicides_per_100k'] <= p50:\n",
    "        mid_rate_q2.append(row['country']) \n",
    "        df_gb_cntry_all.loc[index, 'quartile'] = 'Q2_Mid_Rate_25_50'\n",
    "    elif row['suicides_per_100k'] > p50 and row['suicides_per_100k'] <= p75:\n",
    "        mid_rate_q3.append(row['country']) \n",
    "        df_gb_cntry_all.loc[index, 'quartile'] = 'Q3_Mid_Rate_50_75'\n",
    "    else:\n",
    "        highest_rate_q4.append(row['country']) \n",
    "        df_gb_cntry_all.loc[index, 'quartile'] = 'Q4_Highest_Rate_75'\n",
    "\n",
    "#print(\"count =\",cnt)"
   ]
  },
  {
   "cell_type": "code",
   "execution_count": 14,
   "metadata": {},
   "outputs": [
    {
     "data": {
      "text/html": [
       "<div>\n",
       "<style scoped>\n",
       "    .dataframe tbody tr th:only-of-type {\n",
       "        vertical-align: middle;\n",
       "    }\n",
       "\n",
       "    .dataframe tbody tr th {\n",
       "        vertical-align: top;\n",
       "    }\n",
       "\n",
       "    .dataframe thead th {\n",
       "        text-align: right;\n",
       "    }\n",
       "</style>\n",
       "<table border=\"1\" class=\"dataframe\">\n",
       "  <thead>\n",
       "    <tr style=\"text-align: right;\">\n",
       "      <th></th>\n",
       "      <th>country</th>\n",
       "      <th>year</th>\n",
       "      <th>suicides</th>\n",
       "      <th>pop</th>\n",
       "      <th>suicides_per_100k</th>\n",
       "      <th>gdp_per_cap</th>\n",
       "      <th>quartile</th>\n",
       "    </tr>\n",
       "  </thead>\n",
       "  <tbody>\n",
       "    <tr>\n",
       "      <th>0</th>\n",
       "      <td>Lithuania</td>\n",
       "      <td>2005.419847</td>\n",
       "      <td>107.019084</td>\n",
       "      <td>2.598672e+05</td>\n",
       "      <td>40.415573</td>\n",
       "      <td>9280.549618</td>\n",
       "      <td>Q4_Highest_Rate_75</td>\n",
       "    </tr>\n",
       "    <tr>\n",
       "      <th>1</th>\n",
       "      <td>Sri Lanka</td>\n",
       "      <td>1997.545455</td>\n",
       "      <td>421.522727</td>\n",
       "      <td>1.382770e+06</td>\n",
       "      <td>35.295152</td>\n",
       "      <td>904.272727</td>\n",
       "      <td>Q4_Highest_Rate_75</td>\n",
       "    </tr>\n",
       "    <tr>\n",
       "      <th>2</th>\n",
       "      <td>Russian Federation</td>\n",
       "      <td>2002.000000</td>\n",
       "      <td>3733.771605</td>\n",
       "      <td>1.139137e+07</td>\n",
       "      <td>34.892377</td>\n",
       "      <td>6518.814815</td>\n",
       "      <td>Q4_Highest_Rate_75</td>\n",
       "    </tr>\n",
       "    <tr>\n",
       "      <th>3</th>\n",
       "      <td>Hungary</td>\n",
       "      <td>2003.419355</td>\n",
       "      <td>238.358065</td>\n",
       "      <td>8.020782e+05</td>\n",
       "      <td>32.761516</td>\n",
       "      <td>9370.051613</td>\n",
       "      <td>Q4_Highest_Rate_75</td>\n",
       "    </tr>\n",
       "    <tr>\n",
       "      <th>4</th>\n",
       "      <td>Belarus</td>\n",
       "      <td>2001.095238</td>\n",
       "      <td>237.666667</td>\n",
       "      <td>7.832234e+05</td>\n",
       "      <td>31.075913</td>\n",
       "      <td>3333.904762</td>\n",
       "      <td>Q4_Highest_Rate_75</td>\n",
       "    </tr>\n",
       "  </tbody>\n",
       "</table>\n",
       "</div>"
      ],
      "text/plain": [
       "              country         year     suicides           pop  \\\n",
       "0           Lithuania  2005.419847   107.019084  2.598672e+05   \n",
       "1           Sri Lanka  1997.545455   421.522727  1.382770e+06   \n",
       "2  Russian Federation  2002.000000  3733.771605  1.139137e+07   \n",
       "3             Hungary  2003.419355   238.358065  8.020782e+05   \n",
       "4             Belarus  2001.095238   237.666667  7.832234e+05   \n",
       "\n",
       "   suicides_per_100k  gdp_per_cap            quartile  \n",
       "0          40.415573  9280.549618  Q4_Highest_Rate_75  \n",
       "1          35.295152   904.272727  Q4_Highest_Rate_75  \n",
       "2          34.892377  6518.814815  Q4_Highest_Rate_75  \n",
       "3          32.761516  9370.051613  Q4_Highest_Rate_75  \n",
       "4          31.075913  3333.904762  Q4_Highest_Rate_75  "
      ]
     },
     "execution_count": 14,
     "metadata": {},
     "output_type": "execute_result"
    }
   ],
   "source": [
    "df_gb_cntry_all.head()"
   ]
  },
  {
   "cell_type": "code",
   "execution_count": 15,
   "metadata": {},
   "outputs": [
    {
     "name": "stdout",
     "output_type": "stream",
     "text": [
      "['Lithuania', 'Sri Lanka', 'Russian Federation', 'Hungary', 'Belarus', 'Kazakhstan', 'Latvia', 'Slovenia', 'Estonia', 'Ukraine', 'Republic of Korea', 'Austria', 'Croatia', 'Finland', 'Guyana', 'Serbia', 'France', 'Japan', 'Suriname', 'Belgium', 'Cuba', 'Bulgaria', 'Uruguay', 'Switzerland', 'Czech Republic']\n"
     ]
    }
   ],
   "source": [
    "print(highest_rate_q4)"
   ]
  },
  {
   "cell_type": "code",
   "execution_count": 16,
   "metadata": {},
   "outputs": [
    {
     "name": "stdout",
     "output_type": "stream",
     "text": [
      "['Mongolia', 'Singapore', 'Luxembourg', 'Germany', 'Poland', 'Sweden', 'New Zealand', 'Macau', 'Kyrgyzstan', 'Denmark', 'Trinidad and Tobago', 'United States', 'Australia', 'Norway', 'Iceland', 'Slovakia', 'Romania', 'Canada', 'Mauritius', 'Portugal', 'Cabo Verde', 'Ireland', 'Netherlands', 'Chile', 'El Salvador']\n"
     ]
    }
   ],
   "source": [
    "print(mid_rate_q3)"
   ]
  },
  {
   "cell_type": "code",
   "execution_count": 17,
   "metadata": {},
   "outputs": [
    {
     "name": "stdout",
     "output_type": "stream",
     "text": [
      "['Argentina', 'Puerto Rico', 'Montenegro', 'Aruba', 'Spain', 'Israel', 'Turkmenistan', 'Italy', 'Uzbekistan', 'United Kingdom', 'Seychelles', 'Saint Lucia', 'Costa Rica', 'Thailand', 'Kiribati', 'Nicaragua', 'Ecuador', 'Belize', 'Brazil', 'Panama', 'Saint Vincent and Grenadines', 'Colombia', 'Fiji', 'Malta', 'Mexico']\n"
     ]
    }
   ],
   "source": [
    "print(mid_rate_q2)"
   ]
  },
  {
   "cell_type": "code",
   "execution_count": 18,
   "metadata": {},
   "outputs": [
    {
     "name": "stdout",
     "output_type": "stream",
     "text": [
      "['Bosnia and Herzegovina', 'Georgia', 'Paraguay', 'Greece', 'San Marino', 'Albania', 'Cyprus', 'Armenia', 'Guatemala', 'Barbados', 'Philippines', 'Turkey', 'Grenada', 'Azerbaijan', 'Bahrain', 'Qatar', 'Maldives', 'United Arab Emirates', 'Bahamas', 'Kuwait', 'South Africa', 'Oman', 'Antigua and Barbuda', 'Jamaica', 'Saint Kitts and Nevis', 'Dominica']\n"
     ]
    }
   ],
   "source": [
    "print(lowest_rate_q1)"
   ]
  },
  {
   "cell_type": "markdown",
   "metadata": {},
   "source": [
    "####  Analysis:\n",
    "* There are 101 countries in this data set.   \n",
    "* Quartile analysis will group countries with approximatly 25 countries in each quartile.  \n",
    "* For this proposal and ease of comparison, will use the highest rates in one quartile, the lowest rates in another quartile, and then group the middle two quartiles into one group of 51 countries.  \n",
    "* The countries with the lowest rates appear to be in locations with shorter winters having longer periods of sunlight hours.\n",
    "* The highest rate countries tend to be above the 49th parallel in the Northern Hemisphere where winters are longer and sun light hours are fewer. \n",
    ">  Europe -> Northern France and above  \n",
    ">  Asia > Mongolia and Russia  \n",
    ">  North America -> North of USA"
   ]
  },
  {
   "cell_type": "markdown",
   "metadata": {},
   "source": [
    "### 1.3 Range, mean, and outliers"
   ]
  },
  {
   "cell_type": "markdown",
   "metadata": {},
   "source": [
    "#### Visualize quartile range and check for outliers. Highest rates quartile on left."
   ]
  },
  {
   "cell_type": "code",
   "execution_count": 76,
   "metadata": {},
   "outputs": [
    {
     "data": {
      "image/png": "[encoded data removed]",
      "text/plain": [
       "<Figure size 1440x360 with 4 Axes>"
      ]
     },
     "metadata": {
      "needs_background": "light"
     },
     "output_type": "display_data"
    }
   ],
   "source": [
    "# CREATE COLUMNS TO BE POPULATED FOR CHARTING PURPOSES\n",
    "df_gb_cntry_all['Countries Aggregated'] = ''\n",
    "\n",
    "ax  = sns.catplot(x='Countries Aggregated',\n",
    "                  y='suicides_per_100k',\n",
    "                  col='quartile',\n",
    "                  col_wrap=4,\n",
    "                  data=df_gb_cntry_all,\n",
    "                  kind='box',\n",
    "                  legend=False) "
   ]
  },
  {
   "cell_type": "code",
   "execution_count": 20,
   "metadata": {},
   "outputs": [
    {
     "data": {
      "text/plain": [
       "Text(0, 0.5, 'Mean Suicides Rate')"
      ]
     },
     "execution_count": 20,
     "metadata": {},
     "output_type": "execute_result"
    },
    {
     "data": {
      "image/png": "[encoded data removed]",
      "text/plain": [
       "<Figure size 1152x288 with 4 Axes>"
      ]
     },
     "metadata": {
      "needs_background": "light"
     },
     "output_type": "display_data"
    }
   ],
   "source": [
    "# MEAN IS CENTER LINE. IN THE INTERQUARTILE RANGE. \n",
    "# WHISKER +-1.5 Q3 − Q1 (INTERQUARTILE RANGE). \n",
    "# OUTLIERS ARE OUTSIDE. \n",
    "\n",
    "fig = plt.figure(figsize=(16, 4))\n",
    "fig.suptitle('Range, Mean, and Outlier Analysis', fontsize=14, fontweight='bold')\n",
    "\n",
    "ax1 = fig.add_subplot(141)\n",
    "df_gb_cntry_all[df_gb_cntry_all['quartile'] == \n",
    "                'Q4_Highest_Rate_75'].boxplot(column='suicides_per_100k');\n",
    "ax1.set_xlabel('Highest Quartile Countries')\n",
    "ax1.set_ylabel('Mean Suicides Rate')\n",
    "\n",
    "ax1 = fig.add_subplot(142)\n",
    "df_gb_cntry_all[df_gb_cntry_all['quartile'] == \n",
    "                'Q3_Mid_Rate_50_75'].boxplot(column='suicides_per_100k');\n",
    "ax1.set_xlabel('Mid Rate 50 to 75 Quartile Countries')\n",
    "ax1.set_ylabel('Mean Suicides Rate')\n",
    "\n",
    "ax1 = fig.add_subplot(143)\n",
    "df_gb_cntry_all[df_gb_cntry_all['quartile'] == \n",
    "                'Q2_Mid_Rate_25_50'].boxplot(column='suicides_per_100k');\n",
    "ax1.set_xlabel('Mid Rate 25 to 50 Quartile Countries')\n",
    "ax1.set_ylabel('Mean Suicides Rate')\n",
    "\n",
    "ax1 = fig.add_subplot(144)\n",
    "df_gb_cntry_all[df_gb_cntry_all['quartile'] == \n",
    "                'Q1_Lowest_Rate_25'].boxplot(column='suicides_per_100k');\n",
    "ax1.set_xlabel('Lowest Quartile Countries')\n",
    "ax1.set_ylabel('Mean Suicides Rate')\n"
   ]
  },
  {
   "cell_type": "markdown",
   "metadata": {},
   "source": [
    "#### T-Test: Suicide rates grouped by country location in relation to the 49th parallel.\n",
    "Grouping are 1) At or above the 49th parallel and, 2) Not at or above the 49th parallel.   \n",
    "Please note, this list was eyeballed and may be off by a few countries. "
   ]
  },
  {
   "cell_type": "code",
   "execution_count": 42,
   "metadata": {},
   "outputs": [],
   "source": [
    "at_above_49 = df_gb_cntry_all[df_gb_cntry_all['country'].isin([\n",
    "    'Lithuania', 'Russian Federation', 'Hungary', 'Belarus', 'Latvia', 'Slovenia', \n",
    "    'Estonia', 'Ukraine', 'Croatia', 'Finland',  'Serbia', 'Belgium', 'Bulgaria', \n",
    "    'Czech Republic','Mongolia', 'Luxembourg', 'Germany', 'Poland', \n",
    "    'Sweden', 'Denmark', 'Norway', 'Iceland', 'Slovakia', 'Canada', 'Ireland', \n",
    "    'Netherlands','United Kingdom'])]['suicides_per_100k']"
   ]
  },
  {
   "cell_type": "code",
   "execution_count": 43,
   "metadata": {},
   "outputs": [],
   "source": [
    "not_at_above_49 = df_gb_cntry_all[~df_gb_cntry_all['country'].isin([\n",
    "    'Lithuania', 'Russian Federation', 'Hungary', 'Belarus', 'Latvia', 'Slovenia', \n",
    "    'Estonia', 'Ukraine', 'Croatia', 'Finland',  'Serbia', 'Belgium', 'Bulgaria', \n",
    "    'Czech Republic','Mongolia', 'Luxembourg', 'Germany', 'Poland', \n",
    "    'Sweden', 'Denmark', 'Norway', 'Iceland', 'Slovakia', 'Canada', 'Ireland', \n",
    "    'Netherlands','United Kingdom'])]['suicides_per_100k']"
   ]
  },
  {
   "cell_type": "code",
   "execution_count": 52,
   "metadata": {},
   "outputs": [
    {
     "name": "stdout",
     "output_type": "stream",
     "text": [
      "Mean at or above 49       20.42\n",
      "Mean not at or above 49   8.96\n"
     ]
    }
   ],
   "source": [
    "print(\"Mean at or above 49       {:.2f}\".format(at_above_49.mean()))\n",
    "print(\"Mean not at or above 49   {:.2f}\".format(not_at_above_49.mean()))"
   ]
  },
  {
   "cell_type": "code",
   "execution_count": 53,
   "metadata": {},
   "outputs": [
    {
     "name": "stdout",
     "output_type": "stream",
     "text": [
      "Ttest_indResult(statistic=6.484183315007496, pvalue=3.5240111951955424e-09)\n"
     ]
    }
   ],
   "source": [
    "# RUN A T-TEST\n",
    "print(ttest_ind(at_above_49, not_at_above_49))"
   ]
  },
  {
   "cell_type": "markdown",
   "metadata": {},
   "source": [
    "#### T-Test analysis\n",
    "\n",
    "Level of significance: .025\n",
    "\n",
    "H0: at_above_49 = not_at_above_49  \n",
    "H1: at_above_49 > not_at_above_49  \n",
    "\n",
    "If pvalue is < .025 for this one tailed test, then reject null hypothesis.\n",
    "\n",
    "The probability that these two sample populations are the same is very low, thus reject null hypothesis stating the populations are the same. Countries at or above the 49th parallel have a  statistically significant higher number of suicides than those that are not. "
   ]
  },
  {
   "cell_type": "markdown",
   "metadata": {},
   "source": [
    "#### Analysis: \n",
    "* Data appears to be clean. \n",
    "* Quartile groupings of countries by suicide rate show statistically significant differences in sample populations.\n",
    "* The top quartile counties have mean suicide rates of more than ten times the bottom quartile countries.  \n",
    "* T-test comparing sample population of countries at or above the 49th parallel, and not at or above the 49th parallel rejected null hypothesis, meaning there is a statistically significant difference between the populations."
   ]
  },
  {
   "cell_type": "markdown",
   "metadata": {},
   "source": [
    "### 1.4 Male versus female suicide rate "
   ]
  },
  {
   "cell_type": "markdown",
   "metadata": {},
   "source": [
    "#### Visualize male and female suicide rates across quartiles to understand the demographic and identify anomolies. "
   ]
  },
  {
   "cell_type": "code",
   "execution_count": 54,
   "metadata": {},
   "outputs": [],
   "source": [
    "# CREATE DF GROUPING FOR COUNTRY AND SEX\n",
    "df_gb_cntry_sex_all = df.groupby(['country','sex']).mean().reset_index()\n",
    "df_gb_cntry_sex_top25 = df_gb_cntry_sex_all[df_gb_cntry_sex_all['country'].isin(['Lithuania','Sri Lanka',\n",
    "            'Russian Federation','Hungary','Belarus','Kazakhstan','Latvia','Slovenia','Estonia','Ukraine',\n",
    "            'Republic of Korea','Austria','Croatia','Finland','Guyana','Serbia','France','Japan','Suriname',\n",
    "            'Belgium','Cuba','Bulgaria','Uruguay','Switzerland','Czech Republic'])].reset_index()\n",
    "df_gb_cntry_sex_bot25 = df_gb_cntry_sex_all[df_gb_cntry_sex_all['country'].isin(['South Africa','Kuwait',\n",
    "            'Bahamas','United Arab Emirates','Maldives','Qatar','Bahrain','Azerbaijan','Grenada','Turkey',\n",
    "            'Philippines','Barbados','Guatemala','Armenia','Cyprus','Albania','San Marino','Greece','Paraguay',\n",
    "            'Georgia','Bosnia and Herzegovina','Mexico','Malta','Fiji','Colombia'])].reset_index()\n",
    "df_gb_cntry_sex_mid_25_to_75 = df_gb_cntry_sex_all[~df_gb_cntry_sex_all['country'].isin(['Lithuania','Sri Lanka',\n",
    "            'Russian Federation','Hungary','Belarus','Kazakhstan','Latvia','Slovenia','Estonia','Ukraine',\n",
    "            'Republic of Korea','Austria','Croatia','Finland','Guyana','Serbia','France','Japan','Suriname',\n",
    "            'Belgium','Cuba','Bulgaria','Uruguay','Switzerland','Czech Republic','South Africa','Kuwait',\n",
    "            'Bahamas','United Arab Emirates','Maldives','Qatar','Bahrain','Azerbaijan','Grenada','Turkey',\n",
    "            'Philippines','Barbados','Guatemala','Armenia','Cyprus','Albania','San Marino','Greece','Paraguay',\n",
    "            'Georgia','Bosnia and Herzegovina','Mexico','Malta','Fiji','Colombia'])].reset_index()"
   ]
  },
  {
   "cell_type": "code",
   "execution_count": 55,
   "metadata": {},
   "outputs": [],
   "source": [
    "df_gb_cntry_sex_top25 = df_gb_cntry_sex_all[df_gb_cntry_sex_all['country'].isin(['Lithuania','Sri Lanka',\n",
    "            'Russian Federation','Hungary','Belarus','Kazakhstan','Latvia','Slovenia','Estonia','Ukraine',\n",
    "            'Republic of Korea','Austria','Croatia','Finland','Guyana','Serbia','France','Japan','Suriname',\n",
    "            'Belgium','Cuba','Bulgaria','Uruguay','Switzerland','Czech Republic'])].reset_index()\n"
   ]
  },
  {
   "cell_type": "code",
   "execution_count": 56,
   "metadata": {},
   "outputs": [],
   "source": [
    "df_gb_cntry_age_sex = pd.DataFrame()\n",
    "\n",
    "for index, row in df.iterrows():\n",
    "    if row['country'] in highest_rate_q4:\n",
    "        df_gb_cntry_age_sex.loc[index, 'quartile'] = 'Q4_Highest_Rate_75'\n",
    "    elif row['country'] in mid_rate_q3:\n",
    "        df_gb_cntry_age_sex.loc[index, 'quartile'] = 'Q3_Mid_Rate_50_75'\n",
    "    elif row['country'] in mid_rate_q2:\n",
    "        df_gb_cntry_age_sex.loc[index, 'quartile'] = 'Q2_Mid_Rate_25_50'\n",
    "    elif row['country'] in lowest_rate_q1:\n",
    "        df_gb_cntry_age_sex.loc[index, 'quartile'] = 'Q1_Lowest_Rate_25'"
   ]
  },
  {
   "cell_type": "code",
   "execution_count": 57,
   "metadata": {},
   "outputs": [],
   "source": [
    "# PUT IN A DEFAULT VALUE SO CAN CHART A CONTINUOUS VARIABLE AGAINST A CATEGORICAL VARIABLE\n",
    "df_gb_cntry_sex_all['All'] = 'Countries'\n",
    "df_gb_cntry_sex_top25['Top25'] = 'Countries'\n",
    "df_gb_cntry_sex_bot25['Bottom25'] = 'Countries'\n",
    "df_gb_cntry_sex_mid_25_to_75['25_to_75']= 'Countries'"
   ]
  },
  {
   "cell_type": "code",
   "execution_count": 58,
   "metadata": {},
   "outputs": [
    {
     "data": {
      "image/png": "[encoded data removed]",
      "text/plain": [
       "<Figure size 502.5x288 with 1 Axes>"
      ]
     },
     "metadata": {
      "needs_background": "light"
     },
     "output_type": "display_data"
    }
   ],
   "source": [
    "# PLOT MEAN MALE AND FEMALE SUICIDE RATE FOR ALL COUNTRIES\n",
    "sns.catplot(x='All', y='suicides_per_100k', hue='sex', kind=\"box\", data=df_gb_cntry_sex_all, \n",
    "            height=4, aspect=1.5)\n",
    "plt.title('Mean Suicide Rate for Men and Women')\n",
    "plt.show()"
   ]
  },
  {
   "cell_type": "code",
   "execution_count": 61,
   "metadata": {},
   "outputs": [
    {
     "data": {
      "text/plain": [
       "sex\n",
       "female     5.0\n",
       "male      19.0\n",
       "Name: suicides_per_100k, dtype: float64"
      ]
     },
     "execution_count": 61,
     "metadata": {},
     "output_type": "execute_result"
    }
   ],
   "source": [
    "# MEAN RATE FOR ALL COUNTRIES AGGREGATED ON MALE AND FEMALE \n",
    "round(df_gb_cntry_sex_all.groupby('sex')['suicides_per_100k'].mean(),0)"
   ]
  },
  {
   "cell_type": "code",
   "execution_count": 62,
   "metadata": {},
   "outputs": [
    {
     "data": {
      "text/plain": [
       "sex\n",
       "female    11.0\n",
       "male      40.0\n",
       "Name: suicides_per_100k, dtype: float64"
      ]
     },
     "execution_count": 62,
     "metadata": {},
     "output_type": "execute_result"
    }
   ],
   "source": [
    "# HIGHEST RATE COUNTRIES AGGREGATED ON MALE AND FEMALE \n",
    "round(df_gb_cntry_sex_top25.groupby('sex')['suicides_per_100k'].mean(),0)"
   ]
  },
  {
   "cell_type": "code",
   "execution_count": 63,
   "metadata": {},
   "outputs": [
    {
     "data": {
      "text/plain": [
       "sex\n",
       "female     4.0\n",
       "male      15.0\n",
       "Name: suicides_per_100k, dtype: float64"
      ]
     },
     "execution_count": 63,
     "metadata": {},
     "output_type": "execute_result"
    }
   ],
   "source": [
    "# COUNTRIES NOT IN TOP OR BOTTOM AGGREGATED ON MALE AND FEMALE \n",
    "round(df_gb_cntry_sex_mid_25_to_75.groupby('sex')['suicides_per_100k'].mean(),0)"
   ]
  },
  {
   "cell_type": "code",
   "execution_count": 64,
   "metadata": {},
   "outputs": [
    {
     "data": {
      "text/plain": [
       "sex\n",
       "female    1.0\n",
       "male      5.0\n",
       "Name: suicides_per_100k, dtype: float64"
      ]
     },
     "execution_count": 64,
     "metadata": {},
     "output_type": "execute_result"
    }
   ],
   "source": [
    "# LOWEST RATE COUNTRIES AGGREGATED ON MALE AND FEMALE \n",
    "round(df_gb_cntry_sex_bot25.groupby('sex')['suicides_per_100k'].mean(),0)"
   ]
  },
  {
   "cell_type": "markdown",
   "metadata": {},
   "source": [
    "#### T-Test: Gender group"
   ]
  },
  {
   "cell_type": "markdown",
   "metadata": {},
   "source": [
    "Groupings are 1) male and, 2) female"
   ]
  },
  {
   "cell_type": "code",
   "execution_count": 66,
   "metadata": {},
   "outputs": [],
   "source": [
    "male = df_gb_cntry_sex_all[df_gb_cntry_sex_all['sex'] == 'male']['suicides_per_100k']\n",
    "female = df_gb_cntry_sex_all[df_gb_cntry_sex_all['sex'] == 'female']['suicides_per_100k']"
   ]
  },
  {
   "cell_type": "code",
   "execution_count": 80,
   "metadata": {},
   "outputs": [
    {
     "name": "stdout",
     "output_type": "stream",
     "text": [
      "Male mean   = 19.01\n",
      "Female mean = 5.04\n"
     ]
    }
   ],
   "source": [
    "print(\"Male mean   = {:.2f}\".format(male.mean()))\n",
    "print(\"Female mean = {:.2f}\".format(female.mean()))"
   ]
  },
  {
   "cell_type": "code",
   "execution_count": 67,
   "metadata": {},
   "outputs": [
    {
     "name": "stdout",
     "output_type": "stream",
     "text": [
      "Ttest_indResult(statistic=9.038281214351052, pvalue=1.3814753861789921e-16)\n"
     ]
    }
   ],
   "source": [
    "# RUN A T-TEST\n",
    "print(ttest_ind(male, female))"
   ]
  },
  {
   "cell_type": "markdown",
   "metadata": {},
   "source": [
    "#### T-Test analysis: Suicide rates grouped by gender\n",
    "\n",
    "Level of significance: .025\n",
    "\n",
    "H0: male = female  \n",
    "H1: male > female  \n",
    "\n",
    "If pvalue is < .025 for this one tailed test, then reject null hypothesis.\n",
    "\n",
    "The probability that these two sample populations are the same is very low, thus reject null hypothesis stating the populations are the same. Males have a statistically significant higher number of suicides than females. "
   ]
  },
  {
   "cell_type": "markdown",
   "metadata": {},
   "source": [
    "#### Analysis:\n",
    "* Significantly higher suicide rate for men vs women. Males suicide rates are close to four times that of females.\n",
    "* Suicide rate ratio between genders appear to be consistent across quartile groupings. \n",
    "* Question, are males more susceptible to mental illness than females or more willing to commit suicide?   \n",
    "* As suicide is extreme, the question of whether mental illness is similar across the sex category is a relevant question particularly in regions with high suicide rates that may have an environmental or seasonal causal variable, sunlight. "
   ]
  },
  {
   "cell_type": "markdown",
   "metadata": {},
   "source": [
    "### 1.5 Suicide rate by age group"
   ]
  },
  {
   "cell_type": "markdown",
   "metadata": {},
   "source": [
    "#### Visualize the suicide rate across age groups and gender to see if consistent across groups and if any anomolies are present."
   ]
  },
  {
   "cell_type": "code",
   "execution_count": 68,
   "metadata": {},
   "outputs": [],
   "source": [
    "# CREATE ARRAYS GROUPING BY COUNTRY AND AGE\n",
    "df_gb_cntry_age_all = df.groupby(['country','age','sex']).mean().reset_index()\n",
    "df_gb_cntry_age_top25  = df_gb_cntry_age_all[df_gb_cntry_age_all['country'].isin(['Lithuania','Sri Lanka',\n",
    "            'Russian Federation','Hungary','Belarus','Kazakhstan','Latvia','Slovenia','Estonia','Ukraine',\n",
    "            'Republic of Korea','Austria','Croatia','Finland','Guyana','Serbia','France','Japan','Suriname',\n",
    "            'Belgium','Cuba','Bulgaria','Uruguay','Switzerland','Czech Republic'])].reset_index() \n",
    "df_gb_cntry_age_bot25  = df_gb_cntry_age_all[df_gb_cntry_age_all['country'].isin(['South Africa','Kuwait',\n",
    "            'Bahamas','United Arab Emirates','Maldives','Qatar','Bahrain','Azerbaijan','Grenada','Turkey',\n",
    "            'Philippines','Barbados','Guatemala','Armenia','Cyprus','Albania','San Marino','Greece','Paraguay',\n",
    "            'Georgia','Bosnia and Herzegovina','Mexico','Malta','Fiji','Colombia'])].reset_index() \n",
    "df_gb_cntry_age_mid_25_to_75 = df_gb_cntry_age_all[~df_gb_cntry_age_all['country'].isin(['Lithuania','Sri Lanka',\n",
    "            'Russian Federation','Hungary','Belarus','Kazakhstan','Latvia','Slovenia','Estonia','Ukraine',\n",
    "            'Republic of Korea','Austria','Croatia','Finland','Guyana','Serbia','France','Japan','Suriname',\n",
    "            'Belgium','Cuba','Bulgaria','Uruguay','Switzerland','Czech Republic','South Africa','Kuwait',\n",
    "            'Bahamas','United Arab Emirates','Maldives','Qatar','Bahrain','Azerbaijan','Grenada','Turkey',\n",
    "            'Philippines','Barbados','Guatemala','Armenia','Cyprus','Albania','San Marino','Greece','Paraguay',\n",
    "            'Georgia','Bosnia and Herzegovina','Mexico','Malta','Fiji','Colombia'])].reset_index()"
   ]
  },
  {
   "cell_type": "code",
   "execution_count": 69,
   "metadata": {},
   "outputs": [
    {
     "data": {
      "image/png": "[encoded data removed]",
      "text/plain": [
       "<Figure size 502.5x288 with 1 Axes>"
      ]
     },
     "metadata": {
      "needs_background": "light"
     },
     "output_type": "display_data"
    }
   ],
   "source": [
    "sns.catplot(x='age', y='suicides_per_100k', kind=\"box\", hue='sex',\n",
    "            data=df_gb_cntry_age_top25, height=4, aspect=1.5)\n",
    "plt.title('Mean Suicide Rate Highest Quartile Countries by Age Group')\n",
    "plt.show()"
   ]
  },
  {
   "cell_type": "code",
   "execution_count": 70,
   "metadata": {},
   "outputs": [
    {
     "data": {
      "image/png": "[encoded data removed]",
      "text/plain": [
       "<Figure size 502.5x288 with 1 Axes>"
      ]
     },
     "metadata": {
      "needs_background": "light"
     },
     "output_type": "display_data"
    }
   ],
   "source": [
    "sns.catplot(x='age', y='suicides_per_100k', kind=\"box\", hue='sex',\n",
    "            data=df_gb_cntry_age_mid_25_to_75, height=4, aspect=1.5)\n",
    "plt.title('Mean Suicide Rate Countries in Middle Quartile Countries by Age Group')\n",
    "plt.show()"
   ]
  },
  {
   "cell_type": "code",
   "execution_count": 71,
   "metadata": {},
   "outputs": [
    {
     "data": {
      "image/png": "[encoded data removed]",
      "text/plain": [
       "<Figure size 502.5x288 with 1 Axes>"
      ]
     },
     "metadata": {
      "needs_background": "light"
     },
     "output_type": "display_data"
    }
   ],
   "source": [
    "sns.catplot(x='age', y='suicides_per_100k', kind=\"box\", hue='sex', \n",
    "            data=df_gb_cntry_age_bot25, height=4, aspect=1.5)\n",
    "plt.title('Mean Suicide Rate Lowest Quartile Countries by Age Group')\n",
    "plt.show()\n",
    "#plt.close(2)"
   ]
  },
  {
   "cell_type": "markdown",
   "metadata": {},
   "source": [
    "#### T-Test: Age group"
   ]
  },
  {
   "cell_type": "code",
   "execution_count": 73,
   "metadata": {},
   "outputs": [],
   "source": [
    "a5_14  = df_gb_cntry_age_all[df_gb_cntry_age_all['age'] == '05-14 years']['suicides_per_100k']\n",
    "a15_24 = df_gb_cntry_age_all[df_gb_cntry_age_all['age'] == '15-24 years']['suicides_per_100k']\n",
    "a25_34 = df_gb_cntry_age_all[df_gb_cntry_age_all['age'] == '25-34 years']['suicides_per_100k']\n",
    "a35_54 = df_gb_cntry_age_all[df_gb_cntry_age_all['age'] == '35-54 years']['suicides_per_100k']\n",
    "a55_74 = df_gb_cntry_age_all[df_gb_cntry_age_all['age'] == '55-74 years']['suicides_per_100k']\n",
    "a75    = df_gb_cntry_age_all[df_gb_cntry_age_all['age'] == '75+ years'  ]['suicides_per_100k']"
   ]
  },
  {
   "cell_type": "code",
   "execution_count": 84,
   "metadata": {},
   "outputs": [
    {
     "name": "stdout",
     "output_type": "stream",
     "text": [
      "a5_14  mean = 0.61\n",
      "a15_24 mean = 8.41\n",
      "a25_34 mean = 11.43\n",
      "a35_54 mean = 14.01\n",
      "a55_74 mean = 15.04\n",
      "a75    mean = 22.40\n"
     ]
    }
   ],
   "source": [
    "print(\"a5_14  mean = {:.2f}\".format(a5_14.mean()))\n",
    "print(\"a15_24 mean = {:.2f}\".format(a15_24.mean()))\n",
    "print(\"a25_34 mean = {:.2f}\".format(a25_34.mean()))\n",
    "print(\"a35_54 mean = {:.2f}\".format(a35_54.mean()))\n",
    "print(\"a55_74 mean = {:.2f}\".format(a55_74.mean()))\n",
    "print(\"a75    mean = {:.2f}\".format(a75.mean()))"
   ]
  },
  {
   "cell_type": "code",
   "execution_count": 75,
   "metadata": {},
   "outputs": [
    {
     "name": "stdout",
     "output_type": "stream",
     "text": [
      "Ttest_indResult(statistic=-12.221673001213215, pvalue=2.0879299664685995e-29)\n",
      "Ttest_indResult(statistic=-2.678382684331624, pvalue=0.0077012943636017885)\n",
      "Ttest_indResult(statistic=-1.7165651392905037, pvalue=0.08682897481334029)\n",
      "Ttest_indResult(statistic=-0.6080846137568019, pvalue=0.5434747440491868)\n",
      "Ttest_indResult(statistic=-3.3000761736885336, pvalue=0.0010528317384376974)\n"
     ]
    }
   ],
   "source": [
    "# RUN A T-TEST\n",
    "print(ttest_ind(a5_14, a15_24))\n",
    "print(ttest_ind(a15_24, a25_34))\n",
    "print(ttest_ind(a25_34, a35_54))\n",
    "print(ttest_ind(a35_54, a55_74))\n",
    "print(ttest_ind(a55_74, a75))"
   ]
  },
  {
   "cell_type": "markdown",
   "metadata": {},
   "source": [
    "#### T-Test analysis: Suicide rates grouped by age\n",
    "\n",
    "Level of significance: .025\n",
    "\n",
    "#### Multiple groups, so generally testing if suicides rates go up with age\n",
    "H0: age younger = age older  \n",
    "H1: age younger < age older  \n",
    "\n",
    "If pvalue is < .025 for this one tailed test, then reject null hypothesis.\n",
    "\n",
    "Overall, significant diff between:\n",
    "a5_14 and a15_24\n",
    "a15_24 and a25_34\n",
    "\n",
    "Not a significant difference between:\n",
    "a25_34 and a35_54\n",
    "and a35_54 and a55_74\n",
    "\n",
    "Significant difference between:\n",
    "a55_74 and a75\n",
    "\n",
    "Suicide averages increase with age. Significant difference between lowest three age groups and highest two age groups. Middle shows a slight increase up, but not statistically significant, particularly not significant between a35_54 and a55_74."
   ]
  },
  {
   "cell_type": "markdown",
   "metadata": {},
   "source": [
    "#### Analysis\n",
    "* Trends in the data appear to be consistent across gender and age. \n",
    "* 75+ has the highest suicide rate of any age group.   \n",
    "* Generally speaking it appears that the mean suicide rate increases with age.\n",
    "* As for the lowest rate countries, the suicide rate is relatively flat from age groups 25 - 74, then slightly inceases for > 75 years of age.\n",
    "* When comparing the highest, middle, and lowest rate quartiles, both men and women are significantly higher in the highest quartile and lower in the middle and lowest rate quartile. "
   ]
  },
  {
   "cell_type": "markdown",
   "metadata": {},
   "source": [
    "### 1.6 Trend over time"
   ]
  },
  {
   "cell_type": "markdown",
   "metadata": {},
   "source": [
    "#### Analyze the suicide rate over time"
   ]
  },
  {
   "cell_type": "code",
   "execution_count": null,
   "metadata": {},
   "outputs": [],
   "source": [
    "df_gb_year_all = df.groupby(['year']).mean().reset_index()"
   ]
  },
  {
   "cell_type": "code",
   "execution_count": null,
   "metadata": {},
   "outputs": [],
   "source": [
    "#sns.catplot(x='year', y='suicides_per_100k', kind=\"line\", data=df_gb_year_all, height=4, aspect=1.5)\n",
    "sns.relplot(x='year', y='suicides_per_100k', data=df_gb_year_all, kind=\"line\");\n",
    "plt.title('Mean Suicide Rate for All Countries by Year')\n",
    "plt.show()"
   ]
  },
  {
   "cell_type": "markdown",
   "metadata": {},
   "source": [
    "#### Analysis\n",
    "* Over time it appears suicide rates went up until about 1995 and then started going down to about 2015. \n",
    "* Suicides rates appear to trend. \n",
    "* This aggregation may be illustrating there are likly other causal factor(s) in addition to the environmental exposure to daylight. "
   ]
  },
  {
   "cell_type": "markdown",
   "metadata": {},
   "source": [
    "### 1.7 Potential issues, skews, or other factors impacting the data set.\n",
    "\n",
    "* Cultural: May not report to authorities.  \n",
    "* Intentional exclusion: Rural or remote populations may be excluded. May treat young, old, male, or female differently with regard to mental health and suicide.   \n",
    "* Political: Government may underreport intentionally. May vary on who is in power.  \n",
    "* Regional Events: Break up of USSR, war, extreme weather, disasters, or lack of these conditions.  \n",
    "* Economic: Conditions and opportunity impacting prosperity or standard of living changes.    \n",
    "* Demographic: Quantity of elderly population over time.  "
   ]
  },
  {
   "cell_type": "markdown",
   "metadata": {},
   "source": [
    "## Part 2. A/B Experiment Design: Study Proposal "
   ]
  },
  {
   "cell_type": "markdown",
   "metadata": {},
   "source": [
    "### 2.1 Problem Statement\n",
    "\n",
    "Test whether the use of full spectrum light bulbs is an effective treatment for Seasonal Adjustment Disorder (SAD) observed in the above the 49th parallel in the Northern Hemisphere. "
   ]
  },
  {
   "cell_type": "markdown",
   "metadata": {},
   "source": [
    "### 2.2 Potential solution\n",
    "\n",
    "Full spectrum light bulbs used in the workplace as a substitue for natural sunlight, and an extension of daylight hours to eight hours. The full spectrum bulb and the sun have similar spectrums. The full spectrum exposure is believed to reduce SAD, implying that full spectrum light bulbs can improve mental illness caused by seasonal environmental factors. "
   ]
  },
  {
   "cell_type": "markdown",
   "metadata": {},
   "source": [
    "### 2.3 Study - Overview"
   ]
  },
  {
   "cell_type": "markdown",
   "metadata": {},
   "source": [
    "A large MNC with a light bulb division sees a pattern of SAD, depression, mental illness, and suicide in locations with  long winters. The company then develops a low cost full spectrum light bulb which they want to to test if suicides are reduced as a result. \n",
    "\n",
    "The ideal would be to have a study that establishes the test group with a measurably significant difference to the control group as a result of the treatment.  \n",
    "\n",
    "The company would then market the bulbs as improving mental health and SAD condition in countries with long winters and fewer hours of daylight. \n",
    "\n",
    "The majority of high suicide rate countries are primarily in the northern part of the northern hemisphere near to or north of the 49th parallel.    "
   ]
  },
  {
   "cell_type": "markdown",
   "metadata": {},
   "source": [
    "### 2.4 Study - Method of testing the treatment\n",
    "\n",
    "Partner with Governments and large corporations who own office buildings in target cities/countries with long winters. \n",
    "    The treatment for the test group will be to outfit office buildings with full spectrum bulbs. This A/B test will have a control group where full spectrum bulbs are not installed, and a test group which have full spectrum bulb installed. \n",
    "    \n",
    "Prior to the test, employess will fill out an anonomous online form designed by professionals to test the current state of the subject's mental health, which will take approximately twenty minutes. The forms will also be given to the employees half way through the winter, and again at the end of winter. \n",
    "\n",
    "The test will take into account sex and age groups. Age groups will be binned like the following: 15-24 years, 25-34 years, 35-54 years, 55-74 years.\n",
    "\n",
    "Attribute data to collect:\n",
    "city, country, year, sex, age, test_grp, result1, result2, result3, start_date, end_date, hrs_week  \t\n",
    "\n",
    "Goal is for each building to have over 500 employees. The buildings will be located in multiple countries, in the city center."
   ]
  },
  {
   "cell_type": "markdown",
   "metadata": {},
   "source": [
    "### 2.5 Rollout Plan \n",
    "The test will seek to have a sample of over 10,000 people in test, and a control group of over 10,000 people. The goal is to have 20 test buildings and 20 control buildings.  \n",
    "\n",
    "In order to test installation and infrastruction do a controlled rollout, ten percent in first two weeks, then 45% the next two weeks, and the final 45% in the two weeks after that. Goal is to have installed prior to start of winter.  \n",
    "\n",
    "The reason to gradually rollout the treatment is to validate and learn the process of installation, voltage considerations, and other conditions such as policies, politics, and unions. Also go over the filling out of forms and conversion best practices.  \n"
   ]
  },
  {
   "cell_type": "markdown",
   "metadata": {},
   "source": [
    "## Part 3. Evaluation Plan: Success Measurement"
   ]
  },
  {
   "cell_type": "markdown",
   "metadata": {},
   "source": [
    "The null hypothesis (H0): \n",
    ">Difference between the control and test group standardized mental health tests scores are statistically insignificant, essentially the same.\n",
    "\n",
    "The Alternate Hypothesis(H1): \n",
    "> Statistically significant difference between test scores showing fewer mental health issues in the population exposed to full spectrum light bulbs. \n",
    "\n",
    "H0: test group = control group  \n",
    "H1: test group < control group"
   ]
  },
  {
   "cell_type": "markdown",
   "metadata": {},
   "source": [
    "### 3.1 Success metric   \n",
    "\n",
    "Will use a standardized depression test to analyze if the full spectrum light bulb treatment reduces depression. \n",
    "\n",
    "The depression test score is the test metric of interest. Each test will have a score. The scores will be averaged for sex, age, country, and city categories. \n",
    "\n",
    "A one-tailed t-test, with alpha value of .025, will be used to accept or reject the null hypothesis.  \n",
    "\n",
    "If can conclude there is a significant diffence between the treatment group and the control group, thus rejecting the null hypothesis, then the study will be considered a success.  \n",
    "\n",
    "In p-value terms, the probability will need to be less than .025 to reject the null hypothesis."
   ]
  },
  {
   "cell_type": "markdown",
   "metadata": {},
   "source": [
    "### 3.2 Secondary metrics  \n",
    "As the Seasonal Adjustment Disorder (SAD) is a known phenomenon there may be governments, drug companies, universities, insurance companies, and other institutions interested in collaborating to better understand SAD and potential impacts on physical health.   \n",
    "\n",
    "Have a health questionaire designed by professionals identifying if physical health is impacted by SAD. \n",
    "\n",
    "Include in study, and test the null hypothesis with a t-test, and success metrics."
   ]
  },
  {
   "cell_type": "markdown",
   "metadata": {},
   "source": [
    "## Part 4. Thoughts on Preventing Bias During Testing\n",
    "\n",
    "#### Sampling bias  \n",
    "> Have a control and test group in each city. In control and test groups have proportional representation of age, gender, and cultural groups.     \n",
    "\n",
    "#### Contextual bias  \n",
    "> Eliminate anyone with less than 80% hours in the office per week on average due to vacation or personal.   \n",
    "> Are there outside events significantly impacting the employee or community?  "
   ]
  },
  {
   "cell_type": "code",
   "execution_count": null,
   "metadata": {},
   "outputs": [],
   "source": []
  }
 ],
 "metadata": {
  "kernelspec": {
   "display_name": "Python 3",
   "language": "python",
   "name": "python3"
  },
  "language_info": {
   "codemirror_mode": {
    "name": "ipython",
    "version": 3
   },
   "file_extension": ".py",
   "mimetype": "text/x-python",
   "name": "python",
   "nbconvert_exporter": "python",
   "pygments_lexer": "ipython3",
   "version": "3.7.3"
  }
 },
 "nbformat": 4,
 "nbformat_minor": 2
}
