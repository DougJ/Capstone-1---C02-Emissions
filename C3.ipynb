{
 "cells": [
  {
   "cell_type": "markdown",
   "metadata": {},
   "source": [
    "## Marketing Dataset for Portuguese Bank Telemarketing Campaign\n",
    "\n",
    "#### Feature of Interest:  \n",
    "'y' is the response variable, the target variable. The variable is binary, consisting of either yes or no, where yes means client purchased a subscription, and no means client did not convert the subscription. This variable on the aggregate can be considered a conversion rate.  \n",
    "\n",
    "#### Project objective:  \n",
    "1) Identify key features which likely contribute to marketing success.   \n",
    "2) Build a classification model quanitfying ability to predict the conversion rate for a similar marketing campaign in the future.     \n",
    "\n",
    "#### High level process:    \n",
    "1) Test three feature selection algorithms and one dimension reduction algorithm.  \n",
    "2) Test four statistical learning / modeling algorithms.    \n",
    "\n",
    "#### Practical application:   \n",
    "Gain insights into customer profile and effectiveness of telephone based marketing approach.  "
   ]
  },
  {
   "cell_type": "markdown",
   "metadata": {},
   "source": [
    "### Data Set Information:  \n",
    "\n",
    "The data is related to the direct telemarketing campaigns of a Portuguese bank. Telephone calls, often multiple calls were made to determine if the outcome (bank term deposit) would be subscribed (yes or no).\n",
    "\n",
    "Dataset found on UCI site:\n",
    "https://archive.ics.uci.edu/ml/datasets/Bank%2BMarketing\n",
    "\n",
    "This analysis used the bank-additional-full.csv with 41188 results with 20 attributes ordered by date, May 2008 to November 2010. \n",
    "\n",
    "\n",
    "## Citation\n",
    "Similar data originally analyzed by team:  \n",
    "[Moro et al., 2014] S. Moro, P. Cortez and P. Rita. A Data-Driven Approach to Predict the Success of Bank Telemarketing. Decision Support Systems, Elsevier, 62:22-31, June 2014"
   ]
  },
  {
   "cell_type": "markdown",
   "metadata": {},
   "source": [
    "### Input variables\n",
    "#### Client attributes\n",
    "1 - age (numeric)  \n",
    "2 - job : type of job (categorical: 'admin.','blue-collar','entrepreneur','housemaid','management','retired','self-employed','services','student','technician','unemployed','unknown')  \n",
    "3 - marital : marital status (categorical: 'divorced','married','single','unknown'; note: 'divorced' means divorced or widowed)  \n",
    "4 - education (categorical: 'basic.4y','basic.6y','basic.9y','high.school','illiterate','professional.course','university.degree','unknown')  \n",
    "5 - default: has credit in default? (categorical: 'no','yes','unknown')  \n",
    "6 - housing: has housing loan? (categorical: 'no','yes','unknown')  \n",
    "7 - loan: has personal loan? (categorical: 'no','yes','unknown')  \n",
    "#### Last contact of the current campaign attributes\n",
    "8 - contact: contact communication type (categorical: 'cellular','telephone')  \n",
    "9 - month: last contact month of year (categorical: 'jan', 'feb', 'mar', ..., 'nov', 'dec')  \n",
    "10 - day_of_week: last contact day of the week (categorical: 'mon','tue','wed','thu','fri')  \n",
    "11 - duration: last contact duration, in seconds (numeric). Important note: this attribute highly affects the output target (e.g., if duration=0 then y='no'). Yet, the duration is not known before a call is performed. Also, after the end of the call y is obviously known. Thus, this input should only be included for benchmark purposes and should be discarded if the intention is to have a realistic predictive model.  \n",
    "#### Other campaign attributes  \n",
    "12 - campaign: number of contacts performed during this campaign and for this client (numeric, includes last contact)  \n",
    "13 - pdays: number of days that passed by after the client was last contacted from a previous campaign (numeric; 999 means client was not previously contacted)  \n",
    "14 - previous: number of contacts performed before this campaign and for this client (numeric)  \n",
    "15 - poutcome: outcome of the previous marketing campaign (categorical:   'failure','nonexistent','success')   \n",
    "#### Social and economic context attributes    \n",
    "16 - emp.var.rate: employment variation rate - quarterly indicator (numeric)    \n",
    "17 - cons.price.idx: consumer price index - monthly indicator (numeric)  \n",
    "18 - cons.conf.idx: consumer confidence index - monthly indicator (numeric)  \n",
    "19 - euribor3m: euribor 3 month rate - daily indicator (numeric)  \n",
    "20 - nr.employed: number of employees - quarterly indicator (numeric)  \n",
    " "
   ]
  },
  {
   "cell_type": "markdown",
   "metadata": {},
   "source": [
    "### Target Variable\n",
    "\n",
    "21 - y: Term deposit subsciption (categorical: 'yes','no')"
   ]
  },
  {
   "cell_type": "markdown",
   "metadata": {},
   "source": [
    "## Overview:\n",
    "\n",
    "The motivation behind this project is to use multiple classification algorithms with multiple  feature selection techniques and one dimension reduction technique. Objective is to generate a high reliable classification as measured with the Weighted F1 score. F1 chosen due to an imbalanced target.  \n",
    "\n",
    "The three feature selection techniques chosen are SelectKBest(SKB), Recursive Feature Elimination(RFE), and ExtraTreesClassifier(ETC). Principle Component Analysis(PCA) will be used for dimension reduction.\n",
    "\n",
    "The four models chosen are Logistic Regression(LR), Random Forest(RF), Support Vector Machine(SVM), and Gradient Boost Classifier (GBC). \n",
    "\n",
    "LR will be used in feature selection as it is relatively easy to apply and sensitive to bad inputs, thus lending itself well to that process. \n",
    "\n",
    "Process details:  \n",
    "* Continuous data will be standardized.  \n",
    "* SMOTE will be used to balance the training set through minority oversampling (no approx 89%.  \n",
    "* Cross validation used with Pipeline used to minimize overfitting and increase generalization.  \n",
    "* Four sets of features will be tested with the four models. \n",
    "* GridSearchCV will be used to tune hyperparameters. \n",
    "* Weighted F1 and the standard deviation of cross validation tests will be used as the performance metric.\n",
    "\n",
    "Weaknesses: \n",
    "* Ultimately PCA is not appropriate for a bank, as audit restrictions and risk governance require transparency. PCA will be included for the sake of comparison.   \n",
    "* Some models are low bias/high variance, while LR is high bias/low variance.  \n",
    "* Other weaknesses will be described in the conclusion at the end."
   ]
  },
  {
   "cell_type": "markdown",
   "metadata": {},
   "source": [
    "## Problem statement  \n",
    "Build a classification model quanitfying conversion rate for a similar marketing campaign in the future.       "
   ]
  },
  {
   "cell_type": "code",
   "execution_count": 1,
   "metadata": {},
   "outputs": [],
   "source": [
    "import pandas as pd\n",
    "import numpy as np\n",
    "\n",
    "import matplotlib.pyplot as plt\n",
    "plt.rc(\"font\", size=14) # lINE WIDTH, COLOR, FONT\n",
    "%matplotlib inline\n",
    "import seaborn as sns\n",
    "sns.set(style=\"whitegrid\")"
   ]
  },
  {
   "cell_type": "code",
   "execution_count": 2,
   "metadata": {},
   "outputs": [],
   "source": [
    "from sklearn import preprocessing, ensemble\n",
    "from sklearn.preprocessing import StandardScaler, PowerTransformer # Yeo-Johnson or Boxcox\n",
    "\n",
    "# FEATURE SELECTION\n",
    "from sklearn.feature_selection import SelectKBest, RFE, f_classif, chi2\n",
    "from sklearn.decomposition import PCA\n",
    "\n",
    "# FEATURE IMPORTANCE\n",
    "from xgboost import plot_importance, plot_tree\n",
    "import statsmodels.api as sm # p-value REPORT\n",
    "\n",
    "# MODEL SELECTION\n",
    "from sklearn.model_selection import cross_val_score, GridSearchCV, train_test_split\n",
    "\n",
    "# MODELS\n",
    "from sklearn.svm import SVC\n",
    "from sklearn.linear_model import LogisticRegression, LogisticRegressionCV\n",
    "from sklearn.ensemble import ExtraTreesClassifier\n",
    "from xgboost import XGBClassifier\n",
    "\n",
    "# PIPELINE\n",
    "from sklearn.pipeline import Pipeline\n",
    "\n",
    "# METRICS AND REPORTING\n",
    "from sklearn.metrics import confusion_matrix, classification_report, mean_squared_error\n",
    "\n",
    "# MINORITY OVERSAMPLING\n",
    "from imblearn.over_sampling import SMOTE\n",
    "\n",
    "# TIME BENCHMARKING\n",
    "import time"
   ]
  },
  {
   "cell_type": "markdown",
   "metadata": {},
   "source": [
    "## 1. Load The Dataset"
   ]
  },
  {
   "cell_type": "code",
   "execution_count": 3,
   "metadata": {},
   "outputs": [],
   "source": [
    "# LOAD FILE FROM CSV\n",
    "# DROP NULLS\n",
    "df = pd.read_csv((\"C:/Users/DJ/Documents/AnacondaPython/Thinkful/FilesToLoad/bank-additional/bank-additional/bank_additional_full.csv\")).dropna()"
   ]
  },
  {
   "cell_type": "markdown",
   "metadata": {},
   "source": [
    "## 2. Exploratory Data Analysis (EDA)"
   ]
  },
  {
   "cell_type": "markdown",
   "metadata": {},
   "source": [
    "### 2.A EDA - Initial Inspection"
   ]
  },
  {
   "cell_type": "code",
   "execution_count": 4,
   "metadata": {},
   "outputs": [],
   "source": [
    "# REMOVE LEADING AND TRAILING SPACES, CONVERT TO LOWERCASE, \n",
    "# REPLACE SPACE WITH HYPHEN, REPLACE SLASH WITH UNDERSCORE\n",
    "df.columns = df.columns.str.strip().str.lower().str.replace(' ', '_').str.replace('.','_').str.replace('-','_').str.replace('/','_').str.replace('__','_')"
   ]
  },
  {
   "cell_type": "code",
   "execution_count": 5,
   "metadata": {},
   "outputs": [
    {
     "data": {
      "text/plain": [
       "(41188, 21)"
      ]
     },
     "execution_count": 5,
     "metadata": {},
     "output_type": "execute_result"
    }
   ],
   "source": [
    "# (ROWS, COLUMNS)\n",
    "df.shape"
   ]
  },
  {
   "cell_type": "code",
   "execution_count": 6,
   "metadata": {},
   "outputs": [
    {
     "name": "stdout",
     "output_type": "stream",
     "text": [
      "<class 'pandas.core.frame.DataFrame'>\n",
      "Int64Index: 41188 entries, 0 to 41187\n",
      "Data columns (total 21 columns):\n",
      "age               41188 non-null int64\n",
      "job               41188 non-null object\n",
      "marital           41188 non-null object\n",
      "education         41188 non-null object\n",
      "default           41188 non-null object\n",
      "housing           41188 non-null object\n",
      "loan              41188 non-null object\n",
      "contact           41188 non-null object\n",
      "month             41188 non-null object\n",
      "day_of_week       41188 non-null object\n",
      "duration          41188 non-null int64\n",
      "campaign          41188 non-null int64\n",
      "pdays             41188 non-null int64\n",
      "previous          41188 non-null int64\n",
      "poutcome          41188 non-null object\n",
      "emp_var_rate      41188 non-null float64\n",
      "cons_price_idx    41188 non-null float64\n",
      "cons_conf_idx     41188 non-null float64\n",
      "euribor3m         41188 non-null float64\n",
      "nr_employed       41188 non-null float64\n",
      "y                 41188 non-null object\n",
      "dtypes: float64(5), int64(5), object(11)\n",
      "memory usage: 6.9+ MB\n"
     ]
    }
   ],
   "source": [
    "# CHECK IF INT, FLOAT, STR, OBJ LOOK CORRECT\n",
    "df.info()"
   ]
  },
  {
   "cell_type": "code",
   "execution_count": 7,
   "metadata": {},
   "outputs": [
    {
     "data": {
      "text/html": [
       "<div>\n",
       "<style scoped>\n",
       "    .dataframe tbody tr th:only-of-type {\n",
       "        vertical-align: middle;\n",
       "    }\n",
       "\n",
       "    .dataframe tbody tr th {\n",
       "        vertical-align: top;\n",
       "    }\n",
       "\n",
       "    .dataframe thead th {\n",
       "        text-align: right;\n",
       "    }\n",
       "</style>\n",
       "<table border=\"1\" class=\"dataframe\">\n",
       "  <thead>\n",
       "    <tr style=\"text-align: right;\">\n",
       "      <th></th>\n",
       "      <th>age</th>\n",
       "      <th>job</th>\n",
       "      <th>marital</th>\n",
       "      <th>education</th>\n",
       "      <th>default</th>\n",
       "      <th>housing</th>\n",
       "      <th>loan</th>\n",
       "      <th>contact</th>\n",
       "      <th>month</th>\n",
       "      <th>day_of_week</th>\n",
       "      <th>duration</th>\n",
       "    </tr>\n",
       "  </thead>\n",
       "  <tbody>\n",
       "    <tr>\n",
       "      <th>0</th>\n",
       "      <td>56</td>\n",
       "      <td>housemaid</td>\n",
       "      <td>married</td>\n",
       "      <td>basic.4y</td>\n",
       "      <td>no</td>\n",
       "      <td>no</td>\n",
       "      <td>no</td>\n",
       "      <td>telephone</td>\n",
       "      <td>may</td>\n",
       "      <td>mon</td>\n",
       "      <td>261</td>\n",
       "    </tr>\n",
       "    <tr>\n",
       "      <th>1</th>\n",
       "      <td>57</td>\n",
       "      <td>services</td>\n",
       "      <td>married</td>\n",
       "      <td>high.school</td>\n",
       "      <td>unknown</td>\n",
       "      <td>no</td>\n",
       "      <td>no</td>\n",
       "      <td>telephone</td>\n",
       "      <td>may</td>\n",
       "      <td>mon</td>\n",
       "      <td>149</td>\n",
       "    </tr>\n",
       "    <tr>\n",
       "      <th>2</th>\n",
       "      <td>37</td>\n",
       "      <td>services</td>\n",
       "      <td>married</td>\n",
       "      <td>high.school</td>\n",
       "      <td>no</td>\n",
       "      <td>yes</td>\n",
       "      <td>no</td>\n",
       "      <td>telephone</td>\n",
       "      <td>may</td>\n",
       "      <td>mon</td>\n",
       "      <td>226</td>\n",
       "    </tr>\n",
       "    <tr>\n",
       "      <th>3</th>\n",
       "      <td>40</td>\n",
       "      <td>admin.</td>\n",
       "      <td>married</td>\n",
       "      <td>basic.6y</td>\n",
       "      <td>no</td>\n",
       "      <td>no</td>\n",
       "      <td>no</td>\n",
       "      <td>telephone</td>\n",
       "      <td>may</td>\n",
       "      <td>mon</td>\n",
       "      <td>151</td>\n",
       "    </tr>\n",
       "    <tr>\n",
       "      <th>4</th>\n",
       "      <td>56</td>\n",
       "      <td>services</td>\n",
       "      <td>married</td>\n",
       "      <td>high.school</td>\n",
       "      <td>no</td>\n",
       "      <td>no</td>\n",
       "      <td>yes</td>\n",
       "      <td>telephone</td>\n",
       "      <td>may</td>\n",
       "      <td>mon</td>\n",
       "      <td>307</td>\n",
       "    </tr>\n",
       "  </tbody>\n",
       "</table>\n",
       "</div>"
      ],
      "text/plain": [
       "   age        job  marital    education  default housing loan    contact  \\\n",
       "0   56  housemaid  married     basic.4y       no      no   no  telephone   \n",
       "1   57   services  married  high.school  unknown      no   no  telephone   \n",
       "2   37   services  married  high.school       no     yes   no  telephone   \n",
       "3   40     admin.  married     basic.6y       no      no   no  telephone   \n",
       "4   56   services  married  high.school       no      no  yes  telephone   \n",
       "\n",
       "  month day_of_week  duration  \n",
       "0   may         mon       261  \n",
       "1   may         mon       149  \n",
       "2   may         mon       226  \n",
       "3   may         mon       151  \n",
       "4   may         mon       307  "
      ]
     },
     "execution_count": 7,
     "metadata": {},
     "output_type": "execute_result"
    }
   ],
   "source": [
    "# VIEW SAMPLE OF DATA RECORDS \n",
    "df.iloc[:,0:11].head()"
   ]
  },
  {
   "cell_type": "code",
   "execution_count": 8,
   "metadata": {},
   "outputs": [
    {
     "data": {
      "text/html": [
       "<div>\n",
       "<style scoped>\n",
       "    .dataframe tbody tr th:only-of-type {\n",
       "        vertical-align: middle;\n",
       "    }\n",
       "\n",
       "    .dataframe tbody tr th {\n",
       "        vertical-align: top;\n",
       "    }\n",
       "\n",
       "    .dataframe thead th {\n",
       "        text-align: right;\n",
       "    }\n",
       "</style>\n",
       "<table border=\"1\" class=\"dataframe\">\n",
       "  <thead>\n",
       "    <tr style=\"text-align: right;\">\n",
       "      <th></th>\n",
       "      <th>campaign</th>\n",
       "      <th>pdays</th>\n",
       "      <th>previous</th>\n",
       "      <th>poutcome</th>\n",
       "      <th>emp_var_rate</th>\n",
       "      <th>cons_price_idx</th>\n",
       "      <th>cons_conf_idx</th>\n",
       "      <th>euribor3m</th>\n",
       "      <th>nr_employed</th>\n",
       "      <th>y</th>\n",
       "    </tr>\n",
       "  </thead>\n",
       "  <tbody>\n",
       "    <tr>\n",
       "      <th>0</th>\n",
       "      <td>1</td>\n",
       "      <td>999</td>\n",
       "      <td>0</td>\n",
       "      <td>nonexistent</td>\n",
       "      <td>1.1</td>\n",
       "      <td>93.994</td>\n",
       "      <td>-36.4</td>\n",
       "      <td>4.857</td>\n",
       "      <td>5191.0</td>\n",
       "      <td>no</td>\n",
       "    </tr>\n",
       "    <tr>\n",
       "      <th>1</th>\n",
       "      <td>1</td>\n",
       "      <td>999</td>\n",
       "      <td>0</td>\n",
       "      <td>nonexistent</td>\n",
       "      <td>1.1</td>\n",
       "      <td>93.994</td>\n",
       "      <td>-36.4</td>\n",
       "      <td>4.857</td>\n",
       "      <td>5191.0</td>\n",
       "      <td>no</td>\n",
       "    </tr>\n",
       "    <tr>\n",
       "      <th>2</th>\n",
       "      <td>1</td>\n",
       "      <td>999</td>\n",
       "      <td>0</td>\n",
       "      <td>nonexistent</td>\n",
       "      <td>1.1</td>\n",
       "      <td>93.994</td>\n",
       "      <td>-36.4</td>\n",
       "      <td>4.857</td>\n",
       "      <td>5191.0</td>\n",
       "      <td>no</td>\n",
       "    </tr>\n",
       "    <tr>\n",
       "      <th>3</th>\n",
       "      <td>1</td>\n",
       "      <td>999</td>\n",
       "      <td>0</td>\n",
       "      <td>nonexistent</td>\n",
       "      <td>1.1</td>\n",
       "      <td>93.994</td>\n",
       "      <td>-36.4</td>\n",
       "      <td>4.857</td>\n",
       "      <td>5191.0</td>\n",
       "      <td>no</td>\n",
       "    </tr>\n",
       "    <tr>\n",
       "      <th>4</th>\n",
       "      <td>1</td>\n",
       "      <td>999</td>\n",
       "      <td>0</td>\n",
       "      <td>nonexistent</td>\n",
       "      <td>1.1</td>\n",
       "      <td>93.994</td>\n",
       "      <td>-36.4</td>\n",
       "      <td>4.857</td>\n",
       "      <td>5191.0</td>\n",
       "      <td>no</td>\n",
       "    </tr>\n",
       "  </tbody>\n",
       "</table>\n",
       "</div>"
      ],
      "text/plain": [
       "   campaign  pdays  previous     poutcome  emp_var_rate  cons_price_idx  \\\n",
       "0         1    999         0  nonexistent           1.1          93.994   \n",
       "1         1    999         0  nonexistent           1.1          93.994   \n",
       "2         1    999         0  nonexistent           1.1          93.994   \n",
       "3         1    999         0  nonexistent           1.1          93.994   \n",
       "4         1    999         0  nonexistent           1.1          93.994   \n",
       "\n",
       "   cons_conf_idx  euribor3m  nr_employed   y  \n",
       "0          -36.4      4.857       5191.0  no  \n",
       "1          -36.4      4.857       5191.0  no  \n",
       "2          -36.4      4.857       5191.0  no  \n",
       "3          -36.4      4.857       5191.0  no  \n",
       "4          -36.4      4.857       5191.0  no  "
      ]
     },
     "execution_count": 8,
     "metadata": {},
     "output_type": "execute_result"
    }
   ],
   "source": [
    "df.iloc[:,11:21].head()"
   ]
  },
  {
   "cell_type": "code",
   "execution_count": 9,
   "metadata": {},
   "outputs": [
    {
     "data": {
      "text/html": [
       "<div>\n",
       "<style scoped>\n",
       "    .dataframe tbody tr th:only-of-type {\n",
       "        vertical-align: middle;\n",
       "    }\n",
       "\n",
       "    .dataframe tbody tr th {\n",
       "        vertical-align: top;\n",
       "    }\n",
       "\n",
       "    .dataframe thead th {\n",
       "        text-align: right;\n",
       "    }\n",
       "</style>\n",
       "<table border=\"1\" class=\"dataframe\">\n",
       "  <thead>\n",
       "    <tr style=\"text-align: right;\">\n",
       "      <th></th>\n",
       "      <th>job</th>\n",
       "      <th>marital</th>\n",
       "      <th>education</th>\n",
       "      <th>default</th>\n",
       "      <th>housing</th>\n",
       "      <th>loan</th>\n",
       "      <th>contact</th>\n",
       "      <th>month</th>\n",
       "      <th>day_of_week</th>\n",
       "      <th>poutcome</th>\n",
       "      <th>y</th>\n",
       "    </tr>\n",
       "  </thead>\n",
       "  <tbody>\n",
       "    <tr>\n",
       "      <th>count</th>\n",
       "      <td>41188</td>\n",
       "      <td>41188</td>\n",
       "      <td>41188</td>\n",
       "      <td>41188</td>\n",
       "      <td>41188</td>\n",
       "      <td>41188</td>\n",
       "      <td>41188</td>\n",
       "      <td>41188</td>\n",
       "      <td>41188</td>\n",
       "      <td>41188</td>\n",
       "      <td>41188</td>\n",
       "    </tr>\n",
       "    <tr>\n",
       "      <th>unique</th>\n",
       "      <td>12</td>\n",
       "      <td>4</td>\n",
       "      <td>8</td>\n",
       "      <td>3</td>\n",
       "      <td>3</td>\n",
       "      <td>3</td>\n",
       "      <td>2</td>\n",
       "      <td>10</td>\n",
       "      <td>5</td>\n",
       "      <td>3</td>\n",
       "      <td>2</td>\n",
       "    </tr>\n",
       "    <tr>\n",
       "      <th>top</th>\n",
       "      <td>admin.</td>\n",
       "      <td>married</td>\n",
       "      <td>university.degree</td>\n",
       "      <td>no</td>\n",
       "      <td>yes</td>\n",
       "      <td>no</td>\n",
       "      <td>cellular</td>\n",
       "      <td>may</td>\n",
       "      <td>thu</td>\n",
       "      <td>nonexistent</td>\n",
       "      <td>no</td>\n",
       "    </tr>\n",
       "    <tr>\n",
       "      <th>freq</th>\n",
       "      <td>10422</td>\n",
       "      <td>24928</td>\n",
       "      <td>12168</td>\n",
       "      <td>32588</td>\n",
       "      <td>21576</td>\n",
       "      <td>33950</td>\n",
       "      <td>26144</td>\n",
       "      <td>13769</td>\n",
       "      <td>8623</td>\n",
       "      <td>35563</td>\n",
       "      <td>36548</td>\n",
       "    </tr>\n",
       "  </tbody>\n",
       "</table>\n",
       "</div>"
      ],
      "text/plain": [
       "           job  marital          education default housing   loan   contact  \\\n",
       "count    41188    41188              41188   41188   41188  41188     41188   \n",
       "unique      12        4                  8       3       3      3         2   \n",
       "top     admin.  married  university.degree      no     yes     no  cellular   \n",
       "freq     10422    24928              12168   32588   21576  33950     26144   \n",
       "\n",
       "        month day_of_week     poutcome      y  \n",
       "count   41188       41188        41188  41188  \n",
       "unique     10           5            3      2  \n",
       "top       may         thu  nonexistent     no  \n",
       "freq    13769        8623        35563  36548  "
      ]
     },
     "execution_count": 9,
     "metadata": {},
     "output_type": "execute_result"
    }
   ],
   "source": [
    "# (include='all') FOR ALL, (include='O') FOR STRING, () FOR NUMERIC\n",
    "df.describe(include='O')"
   ]
  },
  {
   "cell_type": "code",
   "execution_count": 10,
   "metadata": {},
   "outputs": [
    {
     "data": {
      "text/html": [
       "<div>\n",
       "<style scoped>\n",
       "    .dataframe tbody tr th:only-of-type {\n",
       "        vertical-align: middle;\n",
       "    }\n",
       "\n",
       "    .dataframe tbody tr th {\n",
       "        vertical-align: top;\n",
       "    }\n",
       "\n",
       "    .dataframe thead th {\n",
       "        text-align: right;\n",
       "    }\n",
       "</style>\n",
       "<table border=\"1\" class=\"dataframe\">\n",
       "  <thead>\n",
       "    <tr style=\"text-align: right;\">\n",
       "      <th></th>\n",
       "      <th>age</th>\n",
       "      <th>duration</th>\n",
       "      <th>campaign</th>\n",
       "      <th>pdays</th>\n",
       "      <th>previous</th>\n",
       "      <th>emp_var_rate</th>\n",
       "      <th>cons_price_idx</th>\n",
       "      <th>cons_conf_idx</th>\n",
       "      <th>euribor3m</th>\n",
       "      <th>nr_employed</th>\n",
       "    </tr>\n",
       "  </thead>\n",
       "  <tbody>\n",
       "    <tr>\n",
       "      <th>count</th>\n",
       "      <td>41188.00000</td>\n",
       "      <td>41188.000000</td>\n",
       "      <td>41188.000000</td>\n",
       "      <td>41188.000000</td>\n",
       "      <td>41188.000000</td>\n",
       "      <td>41188.000000</td>\n",
       "      <td>41188.000000</td>\n",
       "      <td>41188.000000</td>\n",
       "      <td>41188.000000</td>\n",
       "      <td>41188.000000</td>\n",
       "    </tr>\n",
       "    <tr>\n",
       "      <th>mean</th>\n",
       "      <td>40.02406</td>\n",
       "      <td>258.285010</td>\n",
       "      <td>2.567593</td>\n",
       "      <td>962.475454</td>\n",
       "      <td>0.172963</td>\n",
       "      <td>0.081886</td>\n",
       "      <td>93.575664</td>\n",
       "      <td>-40.502600</td>\n",
       "      <td>3.621291</td>\n",
       "      <td>5167.035911</td>\n",
       "    </tr>\n",
       "    <tr>\n",
       "      <th>std</th>\n",
       "      <td>10.42125</td>\n",
       "      <td>259.279249</td>\n",
       "      <td>2.770014</td>\n",
       "      <td>186.910907</td>\n",
       "      <td>0.494901</td>\n",
       "      <td>1.570960</td>\n",
       "      <td>0.578840</td>\n",
       "      <td>4.628198</td>\n",
       "      <td>1.734447</td>\n",
       "      <td>72.251528</td>\n",
       "    </tr>\n",
       "    <tr>\n",
       "      <th>min</th>\n",
       "      <td>17.00000</td>\n",
       "      <td>0.000000</td>\n",
       "      <td>1.000000</td>\n",
       "      <td>0.000000</td>\n",
       "      <td>0.000000</td>\n",
       "      <td>-3.400000</td>\n",
       "      <td>92.201000</td>\n",
       "      <td>-50.800000</td>\n",
       "      <td>0.634000</td>\n",
       "      <td>4963.600000</td>\n",
       "    </tr>\n",
       "    <tr>\n",
       "      <th>25%</th>\n",
       "      <td>32.00000</td>\n",
       "      <td>102.000000</td>\n",
       "      <td>1.000000</td>\n",
       "      <td>999.000000</td>\n",
       "      <td>0.000000</td>\n",
       "      <td>-1.800000</td>\n",
       "      <td>93.075000</td>\n",
       "      <td>-42.700000</td>\n",
       "      <td>1.344000</td>\n",
       "      <td>5099.100000</td>\n",
       "    </tr>\n",
       "    <tr>\n",
       "      <th>50%</th>\n",
       "      <td>38.00000</td>\n",
       "      <td>180.000000</td>\n",
       "      <td>2.000000</td>\n",
       "      <td>999.000000</td>\n",
       "      <td>0.000000</td>\n",
       "      <td>1.100000</td>\n",
       "      <td>93.749000</td>\n",
       "      <td>-41.800000</td>\n",
       "      <td>4.857000</td>\n",
       "      <td>5191.000000</td>\n",
       "    </tr>\n",
       "    <tr>\n",
       "      <th>75%</th>\n",
       "      <td>47.00000</td>\n",
       "      <td>319.000000</td>\n",
       "      <td>3.000000</td>\n",
       "      <td>999.000000</td>\n",
       "      <td>0.000000</td>\n",
       "      <td>1.400000</td>\n",
       "      <td>93.994000</td>\n",
       "      <td>-36.400000</td>\n",
       "      <td>4.961000</td>\n",
       "      <td>5228.100000</td>\n",
       "    </tr>\n",
       "    <tr>\n",
       "      <th>max</th>\n",
       "      <td>98.00000</td>\n",
       "      <td>4918.000000</td>\n",
       "      <td>56.000000</td>\n",
       "      <td>999.000000</td>\n",
       "      <td>7.000000</td>\n",
       "      <td>1.400000</td>\n",
       "      <td>94.767000</td>\n",
       "      <td>-26.900000</td>\n",
       "      <td>5.045000</td>\n",
       "      <td>5228.100000</td>\n",
       "    </tr>\n",
       "  </tbody>\n",
       "</table>\n",
       "</div>"
      ],
      "text/plain": [
       "               age      duration      campaign         pdays      previous  \\\n",
       "count  41188.00000  41188.000000  41188.000000  41188.000000  41188.000000   \n",
       "mean      40.02406    258.285010      2.567593    962.475454      0.172963   \n",
       "std       10.42125    259.279249      2.770014    186.910907      0.494901   \n",
       "min       17.00000      0.000000      1.000000      0.000000      0.000000   \n",
       "25%       32.00000    102.000000      1.000000    999.000000      0.000000   \n",
       "50%       38.00000    180.000000      2.000000    999.000000      0.000000   \n",
       "75%       47.00000    319.000000      3.000000    999.000000      0.000000   \n",
       "max       98.00000   4918.000000     56.000000    999.000000      7.000000   \n",
       "\n",
       "       emp_var_rate  cons_price_idx  cons_conf_idx     euribor3m   nr_employed  \n",
       "count  41188.000000    41188.000000   41188.000000  41188.000000  41188.000000  \n",
       "mean       0.081886       93.575664     -40.502600      3.621291   5167.035911  \n",
       "std        1.570960        0.578840       4.628198      1.734447     72.251528  \n",
       "min       -3.400000       92.201000     -50.800000      0.634000   4963.600000  \n",
       "25%       -1.800000       93.075000     -42.700000      1.344000   5099.100000  \n",
       "50%        1.100000       93.749000     -41.800000      4.857000   5191.000000  \n",
       "75%        1.400000       93.994000     -36.400000      4.961000   5228.100000  \n",
       "max        1.400000       94.767000     -26.900000      5.045000   5228.100000  "
      ]
     },
     "execution_count": 10,
     "metadata": {},
     "output_type": "execute_result"
    }
   ],
   "source": [
    "df.describe()"
   ]
  },
  {
   "cell_type": "markdown",
   "metadata": {},
   "source": [
    "### 2.B EDA - Data Cleaning and Pre-Processing"
   ]
  },
  {
   "cell_type": "markdown",
   "metadata": {},
   "source": [
    "#### Check for duplicates and remove"
   ]
  },
  {
   "cell_type": "code",
   "execution_count": 11,
   "metadata": {},
   "outputs": [
    {
     "data": {
      "text/plain": [
       "(12, 21)"
      ]
     },
     "execution_count": 11,
     "metadata": {},
     "output_type": "execute_result"
    }
   ],
   "source": [
    "# DUPLICATE COUNTS (ROWS, COLUMNS)\n",
    "df[df.duplicated()].shape"
   ]
  },
  {
   "cell_type": "code",
   "execution_count": 12,
   "metadata": {},
   "outputs": [
    {
     "data": {
      "text/html": [
       "<div>\n",
       "<style scoped>\n",
       "    .dataframe tbody tr th:only-of-type {\n",
       "        vertical-align: middle;\n",
       "    }\n",
       "\n",
       "    .dataframe tbody tr th {\n",
       "        vertical-align: top;\n",
       "    }\n",
       "\n",
       "    .dataframe thead th {\n",
       "        text-align: right;\n",
       "    }\n",
       "</style>\n",
       "<table border=\"1\" class=\"dataframe\">\n",
       "  <thead>\n",
       "    <tr style=\"text-align: right;\">\n",
       "      <th></th>\n",
       "      <th>age</th>\n",
       "      <th>job</th>\n",
       "      <th>marital</th>\n",
       "      <th>education</th>\n",
       "      <th>default</th>\n",
       "      <th>housing</th>\n",
       "      <th>loan</th>\n",
       "      <th>contact</th>\n",
       "      <th>month</th>\n",
       "      <th>day_of_week</th>\n",
       "      <th>...</th>\n",
       "      <th>campaign</th>\n",
       "      <th>pdays</th>\n",
       "      <th>previous</th>\n",
       "      <th>poutcome</th>\n",
       "      <th>emp_var_rate</th>\n",
       "      <th>cons_price_idx</th>\n",
       "      <th>cons_conf_idx</th>\n",
       "      <th>euribor3m</th>\n",
       "      <th>nr_employed</th>\n",
       "      <th>y</th>\n",
       "    </tr>\n",
       "  </thead>\n",
       "  <tbody>\n",
       "    <tr>\n",
       "      <th>1265</th>\n",
       "      <td>39</td>\n",
       "      <td>blue-collar</td>\n",
       "      <td>married</td>\n",
       "      <td>basic.6y</td>\n",
       "      <td>no</td>\n",
       "      <td>no</td>\n",
       "      <td>no</td>\n",
       "      <td>telephone</td>\n",
       "      <td>may</td>\n",
       "      <td>thu</td>\n",
       "      <td>...</td>\n",
       "      <td>1</td>\n",
       "      <td>999</td>\n",
       "      <td>0</td>\n",
       "      <td>nonexistent</td>\n",
       "      <td>1.1</td>\n",
       "      <td>93.994</td>\n",
       "      <td>-36.4</td>\n",
       "      <td>4.855</td>\n",
       "      <td>5191.0</td>\n",
       "      <td>no</td>\n",
       "    </tr>\n",
       "    <tr>\n",
       "      <th>1266</th>\n",
       "      <td>39</td>\n",
       "      <td>blue-collar</td>\n",
       "      <td>married</td>\n",
       "      <td>basic.6y</td>\n",
       "      <td>no</td>\n",
       "      <td>no</td>\n",
       "      <td>no</td>\n",
       "      <td>telephone</td>\n",
       "      <td>may</td>\n",
       "      <td>thu</td>\n",
       "      <td>...</td>\n",
       "      <td>1</td>\n",
       "      <td>999</td>\n",
       "      <td>0</td>\n",
       "      <td>nonexistent</td>\n",
       "      <td>1.1</td>\n",
       "      <td>93.994</td>\n",
       "      <td>-36.4</td>\n",
       "      <td>4.855</td>\n",
       "      <td>5191.0</td>\n",
       "      <td>no</td>\n",
       "    </tr>\n",
       "    <tr>\n",
       "      <th>12260</th>\n",
       "      <td>36</td>\n",
       "      <td>retired</td>\n",
       "      <td>married</td>\n",
       "      <td>unknown</td>\n",
       "      <td>no</td>\n",
       "      <td>no</td>\n",
       "      <td>no</td>\n",
       "      <td>telephone</td>\n",
       "      <td>jul</td>\n",
       "      <td>thu</td>\n",
       "      <td>...</td>\n",
       "      <td>1</td>\n",
       "      <td>999</td>\n",
       "      <td>0</td>\n",
       "      <td>nonexistent</td>\n",
       "      <td>1.4</td>\n",
       "      <td>93.918</td>\n",
       "      <td>-42.7</td>\n",
       "      <td>4.966</td>\n",
       "      <td>5228.1</td>\n",
       "      <td>no</td>\n",
       "    </tr>\n",
       "    <tr>\n",
       "      <th>12261</th>\n",
       "      <td>36</td>\n",
       "      <td>retired</td>\n",
       "      <td>married</td>\n",
       "      <td>unknown</td>\n",
       "      <td>no</td>\n",
       "      <td>no</td>\n",
       "      <td>no</td>\n",
       "      <td>telephone</td>\n",
       "      <td>jul</td>\n",
       "      <td>thu</td>\n",
       "      <td>...</td>\n",
       "      <td>1</td>\n",
       "      <td>999</td>\n",
       "      <td>0</td>\n",
       "      <td>nonexistent</td>\n",
       "      <td>1.4</td>\n",
       "      <td>93.918</td>\n",
       "      <td>-42.7</td>\n",
       "      <td>4.966</td>\n",
       "      <td>5228.1</td>\n",
       "      <td>no</td>\n",
       "    </tr>\n",
       "    <tr>\n",
       "      <th>14155</th>\n",
       "      <td>27</td>\n",
       "      <td>technician</td>\n",
       "      <td>single</td>\n",
       "      <td>professional.course</td>\n",
       "      <td>no</td>\n",
       "      <td>no</td>\n",
       "      <td>no</td>\n",
       "      <td>cellular</td>\n",
       "      <td>jul</td>\n",
       "      <td>mon</td>\n",
       "      <td>...</td>\n",
       "      <td>2</td>\n",
       "      <td>999</td>\n",
       "      <td>0</td>\n",
       "      <td>nonexistent</td>\n",
       "      <td>1.4</td>\n",
       "      <td>93.918</td>\n",
       "      <td>-42.7</td>\n",
       "      <td>4.962</td>\n",
       "      <td>5228.1</td>\n",
       "      <td>no</td>\n",
       "    </tr>\n",
       "  </tbody>\n",
       "</table>\n",
       "<p>5 rows × 21 columns</p>\n",
       "</div>"
      ],
      "text/plain": [
       "       age          job  marital            education default housing loan  \\\n",
       "1265    39  blue-collar  married             basic.6y      no      no   no   \n",
       "1266    39  blue-collar  married             basic.6y      no      no   no   \n",
       "12260   36      retired  married              unknown      no      no   no   \n",
       "12261   36      retired  married              unknown      no      no   no   \n",
       "14155   27   technician   single  professional.course      no      no   no   \n",
       "\n",
       "         contact month day_of_week  ...  campaign  pdays  previous  \\\n",
       "1265   telephone   may         thu  ...         1    999         0   \n",
       "1266   telephone   may         thu  ...         1    999         0   \n",
       "12260  telephone   jul         thu  ...         1    999         0   \n",
       "12261  telephone   jul         thu  ...         1    999         0   \n",
       "14155   cellular   jul         mon  ...         2    999         0   \n",
       "\n",
       "          poutcome emp_var_rate  cons_price_idx  cons_conf_idx  euribor3m  \\\n",
       "1265   nonexistent          1.1          93.994          -36.4      4.855   \n",
       "1266   nonexistent          1.1          93.994          -36.4      4.855   \n",
       "12260  nonexistent          1.4          93.918          -42.7      4.966   \n",
       "12261  nonexistent          1.4          93.918          -42.7      4.966   \n",
       "14155  nonexistent          1.4          93.918          -42.7      4.962   \n",
       "\n",
       "       nr_employed   y  \n",
       "1265        5191.0  no  \n",
       "1266        5191.0  no  \n",
       "12260       5228.1  no  \n",
       "12261       5228.1  no  \n",
       "14155       5228.1  no  \n",
       "\n",
       "[5 rows x 21 columns]"
      ]
     },
     "execution_count": 12,
     "metadata": {},
     "output_type": "execute_result"
    }
   ],
   "source": [
    "# VIEW DUPLICATES\n",
    "df[df.duplicated(keep=False)==True].head()"
   ]
  },
  {
   "cell_type": "code",
   "execution_count": 13,
   "metadata": {},
   "outputs": [
    {
     "data": {
      "text/plain": [
       "(0, 21)"
      ]
     },
     "execution_count": 13,
     "metadata": {},
     "output_type": "execute_result"
    }
   ],
   "source": [
    "# DROP DUPLICATES\n",
    "df.drop_duplicates(keep=False, inplace=True)\n",
    "df[df.duplicated()].shape"
   ]
  },
  {
   "cell_type": "markdown",
   "metadata": {},
   "source": [
    "#### Check correlation between variable. "
   ]
  },
  {
   "cell_type": "code",
   "execution_count": 14,
   "metadata": {},
   "outputs": [
    {
     "data": {
      "text/html": [
       "<style  type=\"text/css\" >\n",
       "    #T_1447ad8a_6d51_11ea_a64c_54ee75266f30row0_col0 {\n",
       "            background-color:  #b40426;\n",
       "            color:  #f1f1f1;\n",
       "        }    #T_1447ad8a_6d51_11ea_a64c_54ee75266f30row0_col1 {\n",
       "            background-color:  #f39577;\n",
       "            color:  #000000;\n",
       "        }    #T_1447ad8a_6d51_11ea_a64c_54ee75266f30row0_col2 {\n",
       "            background-color:  #688aef;\n",
       "            color:  #000000;\n",
       "        }    #T_1447ad8a_6d51_11ea_a64c_54ee75266f30row0_col3 {\n",
       "            background-color:  #c12b30;\n",
       "            color:  #f1f1f1;\n",
       "        }    #T_1447ad8a_6d51_11ea_a64c_54ee75266f30row0_col4 {\n",
       "            background-color:  #d75445;\n",
       "            color:  #000000;\n",
       "        }    #T_1447ad8a_6d51_11ea_a64c_54ee75266f30row1_col0 {\n",
       "            background-color:  #f6a586;\n",
       "            color:  #000000;\n",
       "        }    #T_1447ad8a_6d51_11ea_a64c_54ee75266f30row1_col1 {\n",
       "            background-color:  #b40426;\n",
       "            color:  #f1f1f1;\n",
       "        }    #T_1447ad8a_6d51_11ea_a64c_54ee75266f30row1_col2 {\n",
       "            background-color:  #3b4cc0;\n",
       "            color:  #f1f1f1;\n",
       "        }    #T_1447ad8a_6d51_11ea_a64c_54ee75266f30row1_col3 {\n",
       "            background-color:  #edd2c3;\n",
       "            color:  #000000;\n",
       "        }    #T_1447ad8a_6d51_11ea_a64c_54ee75266f30row1_col4 {\n",
       "            background-color:  #d4dbe6;\n",
       "            color:  #000000;\n",
       "        }    #T_1447ad8a_6d51_11ea_a64c_54ee75266f30row2_col0 {\n",
       "            background-color:  #3b4cc0;\n",
       "            color:  #f1f1f1;\n",
       "        }    #T_1447ad8a_6d51_11ea_a64c_54ee75266f30row2_col1 {\n",
       "            background-color:  #3b4cc0;\n",
       "            color:  #f1f1f1;\n",
       "        }    #T_1447ad8a_6d51_11ea_a64c_54ee75266f30row2_col2 {\n",
       "            background-color:  #b40426;\n",
       "            color:  #f1f1f1;\n",
       "        }    #T_1447ad8a_6d51_11ea_a64c_54ee75266f30row2_col3 {\n",
       "            background-color:  #3b4cc0;\n",
       "            color:  #f1f1f1;\n",
       "        }    #T_1447ad8a_6d51_11ea_a64c_54ee75266f30row2_col4 {\n",
       "            background-color:  #3b4cc0;\n",
       "            color:  #f1f1f1;\n",
       "        }    #T_1447ad8a_6d51_11ea_a64c_54ee75266f30row3_col0 {\n",
       "            background-color:  #c0282f;\n",
       "            color:  #f1f1f1;\n",
       "        }    #T_1447ad8a_6d51_11ea_a64c_54ee75266f30row3_col1 {\n",
       "            background-color:  #f7b79b;\n",
       "            color:  #000000;\n",
       "        }    #T_1447ad8a_6d51_11ea_a64c_54ee75266f30row3_col2 {\n",
       "            background-color:  #86a9fc;\n",
       "            color:  #000000;\n",
       "        }    #T_1447ad8a_6d51_11ea_a64c_54ee75266f30row3_col3 {\n",
       "            background-color:  #b40426;\n",
       "            color:  #f1f1f1;\n",
       "        }    #T_1447ad8a_6d51_11ea_a64c_54ee75266f30row3_col4 {\n",
       "            background-color:  #ca3b37;\n",
       "            color:  #f1f1f1;\n",
       "        }    #T_1447ad8a_6d51_11ea_a64c_54ee75266f30row4_col0 {\n",
       "            background-color:  #da5a49;\n",
       "            color:  #000000;\n",
       "        }    #T_1447ad8a_6d51_11ea_a64c_54ee75266f30row4_col1 {\n",
       "            background-color:  #dadce0;\n",
       "            color:  #000000;\n",
       "        }    #T_1447ad8a_6d51_11ea_a64c_54ee75266f30row4_col2 {\n",
       "            background-color:  #485fd1;\n",
       "            color:  #f1f1f1;\n",
       "        }    #T_1447ad8a_6d51_11ea_a64c_54ee75266f30row4_col3 {\n",
       "            background-color:  #cf453c;\n",
       "            color:  #f1f1f1;\n",
       "        }    #T_1447ad8a_6d51_11ea_a64c_54ee75266f30row4_col4 {\n",
       "            background-color:  #b40426;\n",
       "            color:  #f1f1f1;\n",
       "        }</style><table id=\"T_1447ad8a_6d51_11ea_a64c_54ee75266f30\" ><thead>    <tr>        <th class=\"blank level0\" ></th>        <th class=\"col_heading level0 col0\" >emp_var_rate</th>        <th class=\"col_heading level0 col1\" >cons_price_idx</th>        <th class=\"col_heading level0 col2\" >cons_conf_idx</th>        <th class=\"col_heading level0 col3\" >euribor3m</th>        <th class=\"col_heading level0 col4\" >nr_employed</th>    </tr></thead><tbody>\n",
       "                <tr>\n",
       "                        <th id=\"T_1447ad8a_6d51_11ea_a64c_54ee75266f30level0_row0\" class=\"row_heading level0 row0\" >emp_var_rate</th>\n",
       "                        <td id=\"T_1447ad8a_6d51_11ea_a64c_54ee75266f30row0_col0\" class=\"data row0 col0\" >1</td>\n",
       "                        <td id=\"T_1447ad8a_6d51_11ea_a64c_54ee75266f30row0_col1\" class=\"data row0 col1\" >0.775253</td>\n",
       "                        <td id=\"T_1447ad8a_6d51_11ea_a64c_54ee75266f30row0_col2\" class=\"data row0 col2\" >0.196473</td>\n",
       "                        <td id=\"T_1447ad8a_6d51_11ea_a64c_54ee75266f30row0_col3\" class=\"data row0 col3\" >0.972243</td>\n",
       "                        <td id=\"T_1447ad8a_6d51_11ea_a64c_54ee75266f30row0_col4\" class=\"data row0 col4\" >0.906929</td>\n",
       "            </tr>\n",
       "            <tr>\n",
       "                        <th id=\"T_1447ad8a_6d51_11ea_a64c_54ee75266f30level0_row1\" class=\"row_heading level0 row1\" >cons_price_idx</th>\n",
       "                        <td id=\"T_1447ad8a_6d51_11ea_a64c_54ee75266f30row1_col0\" class=\"data row1 col0\" >0.775253</td>\n",
       "                        <td id=\"T_1447ad8a_6d51_11ea_a64c_54ee75266f30row1_col1\" class=\"data row1 col1\" >1</td>\n",
       "                        <td id=\"T_1447ad8a_6d51_11ea_a64c_54ee75266f30row1_col2\" class=\"data row1 col2\" >0.0593542</td>\n",
       "                        <td id=\"T_1447ad8a_6d51_11ea_a64c_54ee75266f30row1_col3\" class=\"data row1 col3\" >0.688129</td>\n",
       "                        <td id=\"T_1447ad8a_6d51_11ea_a64c_54ee75266f30row1_col4\" class=\"data row1 col4\" >0.521856</td>\n",
       "            </tr>\n",
       "            <tr>\n",
       "                        <th id=\"T_1447ad8a_6d51_11ea_a64c_54ee75266f30level0_row2\" class=\"row_heading level0 row2\" >cons_conf_idx</th>\n",
       "                        <td id=\"T_1447ad8a_6d51_11ea_a64c_54ee75266f30row2_col0\" class=\"data row2 col0\" >0.196473</td>\n",
       "                        <td id=\"T_1447ad8a_6d51_11ea_a64c_54ee75266f30row2_col1\" class=\"data row2 col1\" >0.0593542</td>\n",
       "                        <td id=\"T_1447ad8a_6d51_11ea_a64c_54ee75266f30row2_col2\" class=\"data row2 col2\" >1</td>\n",
       "                        <td id=\"T_1447ad8a_6d51_11ea_a64c_54ee75266f30row2_col3\" class=\"data row2 col3\" >0.278042</td>\n",
       "                        <td id=\"T_1447ad8a_6d51_11ea_a64c_54ee75266f30row2_col4\" class=\"data row2 col4\" >0.100844</td>\n",
       "            </tr>\n",
       "            <tr>\n",
       "                        <th id=\"T_1447ad8a_6d51_11ea_a64c_54ee75266f30level0_row3\" class=\"row_heading level0 row3\" >euribor3m</th>\n",
       "                        <td id=\"T_1447ad8a_6d51_11ea_a64c_54ee75266f30row3_col0\" class=\"data row3 col0\" >0.972243</td>\n",
       "                        <td id=\"T_1447ad8a_6d51_11ea_a64c_54ee75266f30row3_col1\" class=\"data row3 col1\" >0.688129</td>\n",
       "                        <td id=\"T_1447ad8a_6d51_11ea_a64c_54ee75266f30row3_col2\" class=\"data row3 col2\" >0.278042</td>\n",
       "                        <td id=\"T_1447ad8a_6d51_11ea_a64c_54ee75266f30row3_col3\" class=\"data row3 col3\" >1</td>\n",
       "                        <td id=\"T_1447ad8a_6d51_11ea_a64c_54ee75266f30row3_col4\" class=\"data row3 col4\" >0.945137</td>\n",
       "            </tr>\n",
       "            <tr>\n",
       "                        <th id=\"T_1447ad8a_6d51_11ea_a64c_54ee75266f30level0_row4\" class=\"row_heading level0 row4\" >nr_employed</th>\n",
       "                        <td id=\"T_1447ad8a_6d51_11ea_a64c_54ee75266f30row4_col0\" class=\"data row4 col0\" >0.906929</td>\n",
       "                        <td id=\"T_1447ad8a_6d51_11ea_a64c_54ee75266f30row4_col1\" class=\"data row4 col1\" >0.521856</td>\n",
       "                        <td id=\"T_1447ad8a_6d51_11ea_a64c_54ee75266f30row4_col2\" class=\"data row4 col2\" >0.100844</td>\n",
       "                        <td id=\"T_1447ad8a_6d51_11ea_a64c_54ee75266f30row4_col3\" class=\"data row4 col3\" >0.945137</td>\n",
       "                        <td id=\"T_1447ad8a_6d51_11ea_a64c_54ee75266f30row4_col4\" class=\"data row4 col4\" >1</td>\n",
       "            </tr>\n",
       "    </tbody></table>"
      ],
      "text/plain": [
       "<pandas.io.formats.style.Styler at 0x21db8d67748>"
      ]
     },
     "execution_count": 14,
     "metadata": {},
     "output_type": "execute_result"
    }
   ],
   "source": [
    "corr=df[['emp_var_rate', 'cons_price_idx', 'cons_conf_idx', 'euribor3m', 'nr_employed']].corr()\n",
    "corr.style.background_gradient(cmap = 'coolwarm')"
   ]
  },
  {
   "cell_type": "markdown",
   "metadata": {},
   "source": [
    "#### Analysis\n",
    "'emp_var_rate', 'cons_price_idx', 'euribor3m', 'nr_employed' have high collinearity, high correlations.  \n",
    "'emp_var_rate' appears to have the highest cross correlation with other variables.   \n",
    "cons_conf_idx has low correlation with other variables  \n",
    "\n",
    "#### Conclusion\n",
    "Keep: cons_price_idx, cons_conf_idx, nr_employed  \n",
    "Drop: emp_var_rate, euribor3m  "
   ]
  },
  {
   "cell_type": "markdown",
   "metadata": {},
   "source": [
    "#### Look at features"
   ]
  },
  {
   "cell_type": "code",
   "execution_count": 15,
   "metadata": {},
   "outputs": [
    {
     "data": {
      "text/plain": [
       "no         33926\n",
       "yes         6248\n",
       "unknown      990\n",
       "Name: loan, dtype: int64"
      ]
     },
     "execution_count": 15,
     "metadata": {},
     "output_type": "execute_result"
    }
   ],
   "source": [
    "df.loan.value_counts()"
   ]
  },
  {
   "cell_type": "code",
   "execution_count": 16,
   "metadata": {},
   "outputs": [
    {
     "data": {
      "text/plain": [
       "no         32566\n",
       "unknown     8595\n",
       "yes            3\n",
       "Name: default, dtype: int64"
      ]
     },
     "execution_count": 16,
     "metadata": {},
     "output_type": "execute_result"
    }
   ],
   "source": [
    "df.default.value_counts()"
   ]
  },
  {
   "cell_type": "code",
   "execution_count": 17,
   "metadata": {},
   "outputs": [
    {
     "data": {
      "text/plain": [
       "yes        21566\n",
       "no         18608\n",
       "unknown      990\n",
       "Name: housing, dtype: int64"
      ]
     },
     "execution_count": 17,
     "metadata": {},
     "output_type": "execute_result"
    }
   ],
   "source": [
    "df.housing.value_counts()"
   ]
  },
  {
   "cell_type": "code",
   "execution_count": 18,
   "metadata": {},
   "outputs": [
    {
     "data": {
      "text/plain": [
       "married     24914\n",
       "single      11560\n",
       "divorced     4610\n",
       "unknown        80\n",
       "Name: marital, dtype: int64"
      ]
     },
     "execution_count": 18,
     "metadata": {},
     "output_type": "execute_result"
    }
   ],
   "source": [
    "df.marital.value_counts()"
   ]
  },
  {
   "cell_type": "markdown",
   "metadata": {},
   "source": [
    "#### Analysis  \n",
    "Many features will be dropped for quality of analyis. \n",
    "* duration is ex post facto.\n",
    "* variables with high correlation.\n",
    "* variables that speak to prior campaigns which may not apply to new campaigns in new regions.\n",
    "* default which has a large no and unknown, and only three yes. Not reliable. "
   ]
  },
  {
   "cell_type": "code",
   "execution_count": 19,
   "metadata": {},
   "outputs": [],
   "source": [
    "# DROP DURATION, NOT PREDICTIVE, USED FOR BENCHMARKING EX POST FACTO\n",
    "df.drop(['duration'], axis=1, inplace=True)\n",
    "# ANALYSIS DONE ON CONTINUOUS VARIABLES, THESE HAVE HIGH COLLINEARITY\n",
    "df.drop(['emp_var_rate', 'euribor3m'], axis = 1, inplace=True)\n",
    "# VARIABLES SPEAK TO PRIOR CAMPAIGNS AND NOT APPLICIABLE TO NEW CAMPAIGNS IN NEW REGIONS\n",
    "df.drop(\"contact\",  axis=1, inplace=True) \n",
    "df.drop(\"pdays\",    axis=1, inplace=True) \n",
    "df.drop(\"previous\", axis=1, inplace=True) \n",
    "df.drop(\"poutcome\", axis=1, inplace=True) \n",
    "# NOT RELIABLE PREDICTOR\n",
    "df.drop(\"default\", axis=1, inplace=True)"
   ]
  },
  {
   "cell_type": "markdown",
   "metadata": {},
   "source": [
    "#### Check for null, empty string, or missing value placeholders"
   ]
  },
  {
   "cell_type": "code",
   "execution_count": 20,
   "metadata": {},
   "outputs": [
    {
     "name": "stdout",
     "output_type": "stream",
     "text": [
      "Series([], dtype: float64)\n"
     ]
    }
   ],
   "source": [
    "# COUNT NULL\n",
    "null_cols = [col for col in df.columns if df[col].isnull().mean() > 0]\n",
    "print(df[null_cols].isnull().mean().sort_values(ascending=False))\n",
    "#df[df.isnull().any(axis=1)]"
   ]
  },
  {
   "cell_type": "code",
   "execution_count": 21,
   "metadata": {},
   "outputs": [
    {
     "name": "stdout",
     "output_type": "stream",
     "text": [
      "[]\n"
     ]
    }
   ],
   "source": [
    "# COUNT EMPTY STRING\n",
    "col_w_empty_str = [col for col in df.columns \n",
    "                  if (len(df[col]) == 0)]\n",
    "print(col_w_empty_str)"
   ]
  },
  {
   "cell_type": "markdown",
   "metadata": {},
   "source": [
    "#### Standardize numeric data \n",
    "* Standardization is best for distance based models and PCA. \n",
    "* Yeo-Johnson transformation chosen due to negative numbers and zero values"
   ]
  },
  {
   "cell_type": "code",
   "execution_count": 22,
   "metadata": {},
   "outputs": [
    {
     "name": "stderr",
     "output_type": "stream",
     "text": [
      "C:\\Users\\DJ\\Anaconda3\\lib\\site-packages\\sklearn\\preprocessing\\data.py:2828: RuntimeWarning: overflow encountered in power\n",
      "  out[pos] = (np.power(x[pos] + 1, lmbda) - 1) / lmbda\n",
      "C:\\Users\\DJ\\Anaconda3\\lib\\site-packages\\numpy\\core\\_methods.py:121: RuntimeWarning: overflow encountered in multiply\n",
      "  x = um.multiply(x, x, out=x)\n",
      "C:\\Users\\DJ\\Anaconda3\\lib\\site-packages\\numpy\\core\\_methods.py:122: RuntimeWarning: overflow encountered in reduce\n",
      "  ret = umr_sum(x, axis, dtype, out, keepdims)\n"
     ]
    }
   ],
   "source": [
    "# TRANSFORMATION: Yeo-Johnson \n",
    "pt = PowerTransformer(standardize=True, copy=False) # Yeo-Johnson is default\n",
    "df_trans = pt.fit_transform(df[['cons_price_idx', 'cons_conf_idx', 'nr_employed',\n",
    "                                'age','campaign']])"
   ]
  },
  {
   "cell_type": "markdown",
   "metadata": {},
   "source": [
    "#### Change column names in new dataframe prior to merging into original dataframe."
   ]
  },
  {
   "cell_type": "code",
   "execution_count": 23,
   "metadata": {},
   "outputs": [],
   "source": [
    "df_trans = pd.DataFrame(df_trans, columns=['cons_price_idx_yj', 'cons_conf_idx_yj', \n",
    "                                           'nr_employed_yj', 'age_yj','campaign_yj'])"
   ]
  },
  {
   "cell_type": "markdown",
   "metadata": {},
   "source": [
    "#### Pairplot to visualize relationships and distribution"
   ]
  },
  {
   "cell_type": "code",
   "execution_count": 24,
   "metadata": {},
   "outputs": [
    {
     "data": {
      "image/png": "[encoded data removed]",
      "text/plain": [
       "<Figure size 900x900 with 30 Axes>"
      ]
     },
     "metadata": {
      "needs_background": "light"
     },
     "output_type": "display_data"
    }
   ],
   "source": [
    "g = sns.pairplot(data=df_trans, vars=['cons_price_idx_yj', 'cons_conf_idx_yj',\n",
    "                                      'nr_employed_yj', 'age_yj','campaign_yj'])"
   ]
  },
  {
   "cell_type": "markdown",
   "metadata": {},
   "source": [
    "#### Concatenate: Put newly created standardized features into original dataframe, then drop non standardized."
   ]
  },
  {
   "cell_type": "code",
   "execution_count": 25,
   "metadata": {},
   "outputs": [],
   "source": [
    "df = pd.concat([df, df_trans], axis=1)"
   ]
  },
  {
   "cell_type": "code",
   "execution_count": 26,
   "metadata": {},
   "outputs": [],
   "source": [
    "# DROPPING ORIGINAL PRE-TRANSFORMATION VARIABLES\n",
    "df.drop(\"cons_price_idx\", axis=1, inplace=True) \n",
    "df.drop(\"cons_conf_idx\",  axis=1, inplace=True) \n",
    "df.drop(\"nr_employed\",    axis=1, inplace=True)\n",
    "df.drop(\"age\",            axis=1, inplace=True)\n",
    "df.drop(\"campaign\",       axis=1, inplace=True) "
   ]
  },
  {
   "cell_type": "markdown",
   "metadata": {},
   "source": [
    "#### Check and remove any null rows with null values."
   ]
  },
  {
   "cell_type": "code",
   "execution_count": 27,
   "metadata": {},
   "outputs": [
    {
     "data": {
      "text/plain": [
       "job                  0.000583\n",
       "marital              0.000583\n",
       "education            0.000583\n",
       "housing              0.000583\n",
       "loan                 0.000583\n",
       "month                0.000583\n",
       "day_of_week          0.000583\n",
       "y                    0.000583\n",
       "cons_price_idx_yj    0.000583\n",
       "cons_conf_idx_yj     0.000583\n",
       "nr_employed_yj       0.000583\n",
       "age_yj               0.000583\n",
       "campaign_yj          0.000583\n",
       "dtype: float64"
      ]
     },
     "execution_count": 27,
     "metadata": {},
     "output_type": "execute_result"
    }
   ],
   "source": [
    "df.isnull().mean()"
   ]
  },
  {
   "cell_type": "code",
   "execution_count": 28,
   "metadata": {},
   "outputs": [],
   "source": [
    "df=df.dropna();"
   ]
  },
  {
   "cell_type": "code",
   "execution_count": 29,
   "metadata": {},
   "outputs": [
    {
     "data": {
      "text/html": [
       "<div>\n",
       "<style scoped>\n",
       "    .dataframe tbody tr th:only-of-type {\n",
       "        vertical-align: middle;\n",
       "    }\n",
       "\n",
       "    .dataframe tbody tr th {\n",
       "        vertical-align: top;\n",
       "    }\n",
       "\n",
       "    .dataframe thead th {\n",
       "        text-align: right;\n",
       "    }\n",
       "</style>\n",
       "<table border=\"1\" class=\"dataframe\">\n",
       "  <thead>\n",
       "    <tr style=\"text-align: right;\">\n",
       "      <th></th>\n",
       "      <th>cons_price_idx_yj</th>\n",
       "      <th>cons_conf_idx_yj</th>\n",
       "      <th>nr_employed_yj</th>\n",
       "      <th>age_yj</th>\n",
       "      <th>campaign_yj</th>\n",
       "    </tr>\n",
       "  </thead>\n",
       "  <tbody>\n",
       "    <tr>\n",
       "      <th>count</th>\n",
       "      <td>41140.000000</td>\n",
       "      <td>41140.000000</td>\n",
       "      <td>41140.000000</td>\n",
       "      <td>41140.000000</td>\n",
       "      <td>41140.000000</td>\n",
       "    </tr>\n",
       "    <tr>\n",
       "      <th>mean</th>\n",
       "      <td>0.000194</td>\n",
       "      <td>-0.000099</td>\n",
       "      <td>-0.000045</td>\n",
       "      <td>-0.000014</td>\n",
       "      <td>0.000020</td>\n",
       "    </tr>\n",
       "    <tr>\n",
       "      <th>std</th>\n",
       "      <td>1.000035</td>\n",
       "      <td>0.999914</td>\n",
       "      <td>0.999979</td>\n",
       "      <td>1.000069</td>\n",
       "      <td>0.999998</td>\n",
       "    </tr>\n",
       "    <tr>\n",
       "      <th>min</th>\n",
       "      <td>-2.144516</td>\n",
       "      <td>-2.483745</td>\n",
       "      <td>-1.941135</td>\n",
       "      <td>-3.486425</td>\n",
       "      <td>-1.045712</td>\n",
       "    </tr>\n",
       "    <tr>\n",
       "      <th>25%</th>\n",
       "      <td>-0.887169</td>\n",
       "      <td>-0.437496</td>\n",
       "      <td>-1.149177</td>\n",
       "      <td>-0.744517</td>\n",
       "      <td>-1.045712</td>\n",
       "    </tr>\n",
       "    <tr>\n",
       "      <th>50%</th>\n",
       "      <td>0.247939</td>\n",
       "      <td>-0.231759</td>\n",
       "      <td>0.140877</td>\n",
       "      <td>-0.052114</td>\n",
       "      <td>0.244677</td>\n",
       "    </tr>\n",
       "    <tr>\n",
       "      <th>75%</th>\n",
       "      <td>0.700587</td>\n",
       "      <td>0.911937</td>\n",
       "      <td>0.987226</td>\n",
       "      <td>0.773107</td>\n",
       "      <td>0.844668</td>\n",
       "    </tr>\n",
       "    <tr>\n",
       "      <th>max</th>\n",
       "      <td>2.284672</td>\n",
       "      <td>2.547010</td>\n",
       "      <td>0.987226</td>\n",
       "      <td>3.367289</td>\n",
       "      <td>2.233622</td>\n",
       "    </tr>\n",
       "  </tbody>\n",
       "</table>\n",
       "</div>"
      ],
      "text/plain": [
       "       cons_price_idx_yj  cons_conf_idx_yj  nr_employed_yj        age_yj  \\\n",
       "count       41140.000000      41140.000000    41140.000000  41140.000000   \n",
       "mean            0.000194         -0.000099       -0.000045     -0.000014   \n",
       "std             1.000035          0.999914        0.999979      1.000069   \n",
       "min            -2.144516         -2.483745       -1.941135     -3.486425   \n",
       "25%            -0.887169         -0.437496       -1.149177     -0.744517   \n",
       "50%             0.247939         -0.231759        0.140877     -0.052114   \n",
       "75%             0.700587          0.911937        0.987226      0.773107   \n",
       "max             2.284672          2.547010        0.987226      3.367289   \n",
       "\n",
       "        campaign_yj  \n",
       "count  41140.000000  \n",
       "mean       0.000020  \n",
       "std        0.999998  \n",
       "min       -1.045712  \n",
       "25%       -1.045712  \n",
       "50%        0.244677  \n",
       "75%        0.844668  \n",
       "max        2.233622  "
      ]
     },
     "execution_count": 29,
     "metadata": {},
     "output_type": "execute_result"
    }
   ],
   "source": [
    "df.describe()"
   ]
  },
  {
   "cell_type": "markdown",
   "metadata": {},
   "source": [
    "#### Create lists so can process numeric and categorical seperately."
   ]
  },
  {
   "cell_type": "code",
   "execution_count": 30,
   "metadata": {},
   "outputs": [],
   "source": [
    "# CONTINUOUS VARIABLE LIST\n",
    "con_list_yj  = ['cons_price_idx_yj', 'cons_conf_idx_yj','nr_employed_yj', \n",
    "                'age_yj','campaign_yj']\n",
    "\n",
    "# CATEGORICAL VARIABLE LIST\n",
    "cat_list = ['job','marital','education','housing','loan','month','day_of_week']"
   ]
  },
  {
   "cell_type": "markdown",
   "metadata": {},
   "source": [
    "#### Target variable = 'y'. Convert to binary 0 and 1."
   ]
  },
  {
   "cell_type": "code",
   "execution_count": 31,
   "metadata": {},
   "outputs": [],
   "source": [
    "# CHANGE NO AND YES TO 0 AND 1 \n",
    "df['y'].replace(['no','yes'],[0,1],inplace=True)"
   ]
  },
  {
   "cell_type": "markdown",
   "metadata": {},
   "source": [
    "## 2.C EDA - Data Exploration"
   ]
  },
  {
   "cell_type": "markdown",
   "metadata": {},
   "source": [
    "#### Univariate Analysis"
   ]
  },
  {
   "cell_type": "code",
   "execution_count": 32,
   "metadata": {},
   "outputs": [
    {
     "name": "stdout",
     "output_type": "stream",
     "text": [
      "% no  response to campaign 89.0\n",
      "% yes response to campaign 11.0\n"
     ]
    },
    {
     "data": {
      "text/plain": [
       "0    36513\n",
       "1     4627\n",
       "Name: y, dtype: int64"
      ]
     },
     "execution_count": 32,
     "metadata": {},
     "output_type": "execute_result"
    }
   ],
   "source": [
    "count_no      = len(df[df['y']==0]) # NO\n",
    "count_yes     = len(df[df['y']==1]) # YES\n",
    "pct_of_no_sub = round(count_no/(count_no+count_yes),2)\n",
    "pct_of_sub    = round(count_yes/(count_no+count_yes),2)\n",
    "\n",
    "print(\"% no  response to campaign\", pct_of_no_sub*100)\n",
    "print(\"% yes response to campaign\", pct_of_sub*100)\n",
    "\n",
    "df['y'].value_counts()"
   ]
  },
  {
   "cell_type": "markdown",
   "metadata": {},
   "source": [
    "#### Analysis: \n",
    "* Dataset is not balanced with respect to (W.R.T) response variable y. \n",
    "* Will need to balance in order to reduce training errors.\n",
    "* Will balance with minority oversampling technique, SMOTE"
   ]
  },
  {
   "cell_type": "markdown",
   "metadata": {},
   "source": [
    "#### Continuous Variables:  \n",
    "* Plot the mean value for feature when grouped W.R.T. \"y\", the target variable. This is the  conversion ratio.  \n",
    "* Plot density with histogram.\n",
    "* Plot outliers with box plot"
   ]
  },
  {
   "cell_type": "code",
   "execution_count": 33,
   "metadata": {},
   "outputs": [
    {
     "data": {
      "image/png": "[encoded data removed]",
      "text/plain": [
       "<Figure size 1080x1440 with 15 Axes>"
      ]
     },
     "metadata": {
      "needs_background": "light"
     },
     "output_type": "display_data"
    }
   ],
   "source": [
    "plt.figure(figsize=(15,20))\n",
    "\n",
    "i=0\n",
    "for column in con_list_yj:\n",
    "    i = i + 1\n",
    "    \n",
    "    # BAR PLOT\n",
    "    plt.subplot(5,3,i)\n",
    "    plt.bar(df.groupby(column)[\"y\"].mean().index,\n",
    "             df.groupby(column)[\"y\"].mean(), \n",
    "             color=(\"grey\",\"green\"))\n",
    "    plt.title(\"Average subscription rate 'y' WRT {}\".format(column)) \n",
    "    \n",
    "    # DENSITY PLOT - HISTOGRAM\n",
    "    i += 1\n",
    "    plt.subplot(5, 3, i)\n",
    "    plt.hist(df[column])\n",
    "    plt.title(\"{}\".format(column))   \n",
    "    \n",
    "    # TUKEY: DETECT OUTLIERS IN VARIABLES USING BOX PLOTS\n",
    "    i += 1\n",
    "    plt.subplot(5,3,i)\n",
    "    plt.boxplot(df[column],whis=1.5)\n",
    "    plt.title(column)"
   ]
  },
  {
   "cell_type": "markdown",
   "metadata": {},
   "source": [
    "### Multivariate"
   ]
  },
  {
   "cell_type": "markdown",
   "metadata": {},
   "source": [
    "#### Telemarketing conversion ratio by category"
   ]
  },
  {
   "cell_type": "code",
   "execution_count": 34,
   "metadata": {},
   "outputs": [
    {
     "data": {
      "image/png": "[encoded data removed]",
      "text/plain": [
       "<Figure size 1224x3600 with 14 Axes>"
      ]
     },
     "metadata": {
      "needs_background": "light"
     },
     "output_type": "display_data"
    }
   ],
   "source": [
    "# TAKE THE MEAN OF RESPONSE VARIABLE AND PLOT WITH BAR CHART BY CATEGORY\n",
    "plt.figure(figsize=(17,50))\n",
    "\n",
    "i = 0\n",
    "for column in df[cat_list].columns:\n",
    "    i = i + 1\n",
    "    plt.subplot(11,2,i)\n",
    "    plt.barh(df.groupby(column)[\"y\"].count().index,\n",
    "             df.groupby(column)[\"y\"].count(), \n",
    "             color=(\"grey\",\"green\"))\n",
    "    plt.title(\"Count y WRT {}\".format(column))  \n",
    "    \n",
    "    i = i + 1\n",
    "    plt.subplot(11,2,i)\n",
    "    plt.barh(df.groupby(column)[\"y\"].mean().index,\n",
    "             df.groupby(column)[\"y\"].mean(), \n",
    "             color=(\"grey\",\"green\"))\n",
    "    plt.title(\"Average y WRT {}\".format(column)) "
   ]
  },
  {
   "cell_type": "code",
   "execution_count": 35,
   "metadata": {},
   "outputs": [
    {
     "data": {
      "text/html": [
       "<div>\n",
       "<style scoped>\n",
       "    .dataframe tbody tr th:only-of-type {\n",
       "        vertical-align: middle;\n",
       "    }\n",
       "\n",
       "    .dataframe tbody tr th {\n",
       "        vertical-align: top;\n",
       "    }\n",
       "\n",
       "    .dataframe thead th {\n",
       "        text-align: right;\n",
       "    }\n",
       "</style>\n",
       "<table border=\"1\" class=\"dataframe\">\n",
       "  <thead>\n",
       "    <tr style=\"text-align: right;\">\n",
       "      <th></th>\n",
       "      <th>job</th>\n",
       "      <th>marital</th>\n",
       "      <th>education</th>\n",
       "      <th>housing</th>\n",
       "      <th>loan</th>\n",
       "      <th>month</th>\n",
       "      <th>day_of_week</th>\n",
       "      <th>y</th>\n",
       "      <th>cons_price_idx_yj</th>\n",
       "      <th>cons_conf_idx_yj</th>\n",
       "      <th>nr_employed_yj</th>\n",
       "      <th>age_yj</th>\n",
       "      <th>campaign_yj</th>\n",
       "    </tr>\n",
       "  </thead>\n",
       "  <tbody>\n",
       "    <tr>\n",
       "      <th>0</th>\n",
       "      <td>housemaid</td>\n",
       "      <td>married</td>\n",
       "      <td>basic.4y</td>\n",
       "      <td>no</td>\n",
       "      <td>no</td>\n",
       "      <td>may</td>\n",
       "      <td>mon</td>\n",
       "      <td>0</td>\n",
       "      <td>0.700587</td>\n",
       "      <td>0.911937</td>\n",
       "      <td>0.140877</td>\n",
       "      <td>1.427605</td>\n",
       "      <td>-1.045712</td>\n",
       "    </tr>\n",
       "    <tr>\n",
       "      <th>1</th>\n",
       "      <td>services</td>\n",
       "      <td>married</td>\n",
       "      <td>high.school</td>\n",
       "      <td>no</td>\n",
       "      <td>no</td>\n",
       "      <td>may</td>\n",
       "      <td>mon</td>\n",
       "      <td>0</td>\n",
       "      <td>0.700587</td>\n",
       "      <td>0.911937</td>\n",
       "      <td>0.140877</td>\n",
       "      <td>1.492446</td>\n",
       "      <td>-1.045712</td>\n",
       "    </tr>\n",
       "    <tr>\n",
       "      <th>2</th>\n",
       "      <td>services</td>\n",
       "      <td>married</td>\n",
       "      <td>high.school</td>\n",
       "      <td>yes</td>\n",
       "      <td>no</td>\n",
       "      <td>may</td>\n",
       "      <td>mon</td>\n",
       "      <td>0</td>\n",
       "      <td>0.700587</td>\n",
       "      <td>0.911937</td>\n",
       "      <td>0.140877</td>\n",
       "      <td>-0.158080</td>\n",
       "      <td>-1.045712</td>\n",
       "    </tr>\n",
       "    <tr>\n",
       "      <th>3</th>\n",
       "      <td>admin.</td>\n",
       "      <td>married</td>\n",
       "      <td>basic.6y</td>\n",
       "      <td>no</td>\n",
       "      <td>no</td>\n",
       "      <td>may</td>\n",
       "      <td>mon</td>\n",
       "      <td>0</td>\n",
       "      <td>0.700587</td>\n",
       "      <td>0.911937</td>\n",
       "      <td>0.140877</td>\n",
       "      <td>0.150171</td>\n",
       "      <td>-1.045712</td>\n",
       "    </tr>\n",
       "    <tr>\n",
       "      <th>4</th>\n",
       "      <td>services</td>\n",
       "      <td>married</td>\n",
       "      <td>high.school</td>\n",
       "      <td>no</td>\n",
       "      <td>yes</td>\n",
       "      <td>may</td>\n",
       "      <td>mon</td>\n",
       "      <td>0</td>\n",
       "      <td>0.700587</td>\n",
       "      <td>0.911937</td>\n",
       "      <td>0.140877</td>\n",
       "      <td>1.427605</td>\n",
       "      <td>-1.045712</td>\n",
       "    </tr>\n",
       "  </tbody>\n",
       "</table>\n",
       "</div>"
      ],
      "text/plain": [
       "         job  marital    education housing loan month day_of_week  y  \\\n",
       "0  housemaid  married     basic.4y      no   no   may         mon  0   \n",
       "1   services  married  high.school      no   no   may         mon  0   \n",
       "2   services  married  high.school     yes   no   may         mon  0   \n",
       "3     admin.  married     basic.6y      no   no   may         mon  0   \n",
       "4   services  married  high.school      no  yes   may         mon  0   \n",
       "\n",
       "   cons_price_idx_yj  cons_conf_idx_yj  nr_employed_yj    age_yj  campaign_yj  \n",
       "0           0.700587          0.911937        0.140877  1.427605    -1.045712  \n",
       "1           0.700587          0.911937        0.140877  1.492446    -1.045712  \n",
       "2           0.700587          0.911937        0.140877 -0.158080    -1.045712  \n",
       "3           0.700587          0.911937        0.140877  0.150171    -1.045712  \n",
       "4           0.700587          0.911937        0.140877  1.427605    -1.045712  "
      ]
     },
     "execution_count": 35,
     "metadata": {},
     "output_type": "execute_result"
    }
   ],
   "source": [
    "df.head()"
   ]
  },
  {
   "cell_type": "markdown",
   "metadata": {},
   "source": [
    "#### Analysis: Conversion ratio by categories in each categorical variable.\n",
    "* job -> High variance in conversion ratio on the whole. The categories with the high conversion ratio have fewer observations, while most observations are in four categories with smaller variance.\n",
    "* marital -> not much variance in conversion ratio, high variance in observations, most people are married. \n",
    "* education -> high variance in conversion ratio, high variance in observations.\n",
    "* housing -> low variance in conversion ratio, low variance in observations.\n",
    "* loan -> low variance in conversion ratio, high variance in observations. Strong imbalance between no and yes classes. Since low variance, unlikely adding information.\n",
    "* month -> high variance in conversion ratio, high variance in observations. Would appear number of observations is inversely related to conversion ratio. May be unpredictiable when applying to a new campaign unless legitimate drivers underly observations and conversion. Is it by choice, or random as to when bank chose to focus on campaigns for no significant reason?\n",
    "* day_of_week -> mid to low variance in conversion ratio, low variance in observations. \n",
    "\n",
    "Would say that job, education, month, and day of week, and marital appear to provide information into prediction."
   ]
  },
  {
   "cell_type": "markdown",
   "metadata": {},
   "source": [
    "#### Alternative ways to view conversion ratio and the underlying"
   ]
  },
  {
   "cell_type": "code",
   "execution_count": 36,
   "metadata": {},
   "outputs": [
    {
     "data": {
      "text/plain": [
       "loan\n",
       "no         0.113176\n",
       "yes        0.109332\n",
       "unknown    0.108081\n",
       "Name: y, dtype: float64"
      ]
     },
     "execution_count": 36,
     "metadata": {},
     "output_type": "execute_result"
    }
   ],
   "source": [
    "# CATEGORIES IN FEATURE W.R.T. y\n",
    "df.groupby('loan')['y'].mean().sort_values(ascending=False)"
   ]
  },
  {
   "cell_type": "code",
   "execution_count": 37,
   "metadata": {},
   "outputs": [
    {
     "data": {
      "text/plain": [
       "Text(0, 0.5, 'Frequency')"
      ]
     },
     "execution_count": 37,
     "metadata": {},
     "output_type": "execute_result"
    },
    {
     "data": {
      "image/png": "[encoded data removed]",
      "text/plain": [
       "<Figure size 432x288 with 1 Axes>"
      ]
     },
     "metadata": {
      "needs_background": "light"
     },
     "output_type": "display_data"
    }
   ],
   "source": [
    "# LOOK AT THE CONVERSION RATIO WITH BAR CHART OF TARGET VARIABLE W.R.T. CATEGORICAL VARIABLE\n",
    "pd.crosstab(df['loan'],df.y).plot(kind='bar')\n",
    "plt.title('y Subscription W.R.T. loan')\n",
    "plt.xlabel('loan')\n",
    "plt.ylabel('Frequency')\n",
    "#plt.savefig('y subscription wrt loan')"
   ]
  },
  {
   "cell_type": "markdown",
   "metadata": {},
   "source": [
    "#### Check target count against numeric features."
   ]
  },
  {
   "cell_type": "code",
   "execution_count": 38,
   "metadata": {},
   "outputs": [
    {
     "data": {
      "text/html": [
       "<div>\n",
       "<style scoped>\n",
       "    .dataframe tbody tr th:only-of-type {\n",
       "        vertical-align: middle;\n",
       "    }\n",
       "\n",
       "    .dataframe tbody tr th {\n",
       "        vertical-align: top;\n",
       "    }\n",
       "\n",
       "    .dataframe thead th {\n",
       "        text-align: right;\n",
       "    }\n",
       "</style>\n",
       "<table border=\"1\" class=\"dataframe\">\n",
       "  <thead>\n",
       "    <tr style=\"text-align: right;\">\n",
       "      <th></th>\n",
       "      <th>cons_price_idx_yj</th>\n",
       "      <th>cons_conf_idx_yj</th>\n",
       "      <th>nr_employed_yj</th>\n",
       "      <th>age_yj</th>\n",
       "      <th>campaign_yj</th>\n",
       "    </tr>\n",
       "    <tr>\n",
       "      <th>y</th>\n",
       "      <th></th>\n",
       "      <th></th>\n",
       "      <th></th>\n",
       "      <th></th>\n",
       "      <th></th>\n",
       "    </tr>\n",
       "  </thead>\n",
       "  <tbody>\n",
       "    <tr>\n",
       "      <th>0</th>\n",
       "      <td>0.045409</td>\n",
       "      <td>-0.014051</td>\n",
       "      <td>0.109575</td>\n",
       "      <td>-0.002923</td>\n",
       "      <td>0.020011</td>\n",
       "    </tr>\n",
       "    <tr>\n",
       "      <th>1</th>\n",
       "      <td>-0.356611</td>\n",
       "      <td>0.110005</td>\n",
       "      <td>-0.865088</td>\n",
       "      <td>0.022941</td>\n",
       "      <td>-0.157740</td>\n",
       "    </tr>\n",
       "  </tbody>\n",
       "</table>\n",
       "</div>"
      ],
      "text/plain": [
       "   cons_price_idx_yj  cons_conf_idx_yj  nr_employed_yj    age_yj  campaign_yj\n",
       "y                                                                            \n",
       "0           0.045409         -0.014051        0.109575 -0.002923     0.020011\n",
       "1          -0.356611          0.110005       -0.865088  0.022941    -0.157740"
      ]
     },
     "execution_count": 38,
     "metadata": {},
     "output_type": "execute_result"
    }
   ],
   "source": [
    "# MEAN OF NUMERIC FEATURES W.R.T. y\n",
    "df.groupby('y').mean()"
   ]
  },
  {
   "cell_type": "markdown",
   "metadata": {},
   "source": [
    "### One Hot Encoding\n",
    "Convert categorical variables to binary 0 or 1 for each category. Drop first category."
   ]
  },
  {
   "cell_type": "code",
   "execution_count": 39,
   "metadata": {},
   "outputs": [],
   "source": [
    "one_hot_list_all = []"
   ]
  },
  {
   "cell_type": "code",
   "execution_count": 40,
   "metadata": {},
   "outputs": [],
   "source": [
    "for feature in cat_list:\n",
    "    df = pd.concat([df, pd.get_dummies(df[feature], prefix=feature, drop_first=True)], axis=1)\n",
    "    one_hot_list_all.extend(list(pd.get_dummies(df[feature], prefix=feature, \n",
    "                                                drop_first=True).columns))\n",
    "    df.drop(feature, axis=1, inplace=True) "
   ]
  },
  {
   "cell_type": "code",
   "execution_count": 41,
   "metadata": {},
   "outputs": [],
   "source": [
    "# EXPORT FILE TO USE IN TABLEAU\n",
    "#df.to_csv(r'C:/Users/DJ/Desktop/marketing_Port_bank_pre_SMOTE.csv', index = None, header=True) #Don't forget to add '.csv' at the end of the path"
   ]
  },
  {
   "cell_type": "markdown",
   "metadata": {},
   "source": [
    "### SMOTE - Systematic Minority Oversampling Technique"
   ]
  },
  {
   "cell_type": "code",
   "execution_count": 42,
   "metadata": {},
   "outputs": [],
   "source": [
    "X = df.loc[:, df.columns != 'y']\n",
    "y = df.loc[:, df.columns == 'y'].values.ravel()"
   ]
  },
  {
   "cell_type": "code",
   "execution_count": 43,
   "metadata": {},
   "outputs": [
    {
     "name": "stdout",
     "output_type": "stream",
     "text": [
      "48904\t Length of SMOTE data\n",
      "24452\t Number of no subscription in SMOTE data\n",
      "24452\t Number of    subscription in SMOTE data\n",
      "0.5\t Proportion of no subscription data in SMOTE data\n",
      "0.5\t Proportion of    subscription data in SMOTE data\n"
     ]
    }
   ],
   "source": [
    "os = SMOTE(random_state=42)\n",
    "X_train, X_test, y_train, y_test = train_test_split(X, y, test_size=0.33, random_state=42)\n",
    "columns = X_train.columns\n",
    "\n",
    "os_data_X, os_data_y=os.fit_sample(X_train, y_train)\n",
    "os_data_X = pd.DataFrame(data=os_data_X,columns=columns )\n",
    "os_data_y= pd.DataFrame(data=os_data_y,columns=['y'])\n",
    "\n",
    "# CHECK NUMBERS IN SMOTE DATA\n",
    "print(\"{}\\t Length of SMOTE data\".format(len(os_data_X)))\n",
    "print(\"{}\\t Number of no subscription in SMOTE data\".format(len(os_data_y[os_data_y['y']==0])))\n",
    "print(\"{}\\t Number of    subscription in SMOTE data\".format(len(os_data_y[os_data_y['y']==1])))\n",
    "print(\"{}\\t Proportion of no subscription data in SMOTE data\".format(len(os_data_y[os_data_y['y']==0])/len(os_data_X)))\n",
    "print(\"{}\\t Proportion of    subscription data in SMOTE data\".format(len(os_data_y[os_data_y['y']==1])/len(os_data_X)))"
   ]
  },
  {
   "cell_type": "markdown",
   "metadata": {},
   "source": [
    "## Part 2 Feature Selection and Dimension Reduction"
   ]
  },
  {
   "cell_type": "markdown",
   "metadata": {},
   "source": [
    "### Base model to compare with feature selection and dimension reduction"
   ]
  },
  {
   "cell_type": "code",
   "execution_count": 44,
   "metadata": {},
   "outputs": [
    {
     "name": "stdout",
     "output_type": "stream",
     "text": [
      "mean=0.73   std=(+/- 0.01)   all=[0.7314543  0.72333789 0.72964918] \n"
     ]
    }
   ],
   "source": [
    "# LogReg FOR BASE MODEL, IT WILL PERFORM WORSE WHEN LOW QUALITY FEATURES ARE INCLUDED\n",
    "X = os_data_X \n",
    "y = os_data_y.values.ravel()\n",
    "\n",
    "logreg = LogisticRegression(solver='lbfgs',max_iter=50000)\n",
    "logreg_fit = logreg.fit(X, y)\n",
    "\n",
    "# CROSS VALIDATION IN TRAIN SET \n",
    "score_fs_base = cross_val_score(logreg_fit, X, y, scoring=\"f1_weighted\", cv=3)\n",
    "print(\"mean={:.2f}   std=(+/- {:.2f})   all={} \".format(score_fs_base.mean(),\n",
    "                                                    score_fs_base.std()*2, score_fs_base))"
   ]
  },
  {
   "cell_type": "markdown",
   "metadata": {},
   "source": [
    "### Dimensionality Reduction: PCA "
   ]
  },
  {
   "cell_type": "code",
   "execution_count": 45,
   "metadata": {},
   "outputs": [
    {
     "name": "stdout",
     "output_type": "stream",
     "text": [
      "mean=0.69   std=(+/- 0.00)   all=[0.69045282 0.68479358 0.68942988] \n",
      "mean=0.69   std=(+/- 0.00)   all=[0.69051442 0.68503821 0.68930599] \n",
      "mean=0.69   std=(+/- 0.01)   all=[0.69186018 0.68424957 0.68906559] \n",
      "mean=0.69   std=(+/- 0.01)   all=[0.69281491 0.68439737 0.6878364 ] \n",
      "mean=0.72   std=(+/- 0.01)   all=[0.7178252  0.71175313 0.71901837] \n",
      "mean=0.71   std=(+/- 0.01)   all=[0.7119272  0.70389853 0.71230322] \n",
      "mean=0.71   std=(+/- 0.01)   all=[0.7150981  0.70841294 0.71469434] \n",
      "mean=0.72   std=(+/- 0.01)   all=[0.71985326 0.71113202 0.71987839] \n",
      "mean=0.72   std=(+/- 0.01)   all=[0.72432569 0.72053374 0.7294909 ] \n",
      "mean=0.73   std=(+/- 0.01)   all=[0.7249968  0.72086291 0.73032861] \n",
      "mean=0.72   std=(+/- 0.01)   all=[0.72397237 0.71897258 0.72851398] \n",
      "mean=0.72   std=(+/- 0.01)   all=[0.7243698  0.71881695 0.72862136] \n",
      "mean=0.72   std=(+/- 0.01)   all=[0.72199523 0.71278779 0.72321202] \n",
      "mean=0.73   std=(+/- 0.01)   all=[0.72944781 0.72089897 0.72789103] \n",
      "mean=0.73   std=(+/- 0.01)   all=[0.72988831 0.72075773 0.72725266] \n",
      "mean=0.73   std=(+/- 0.01)   all=[0.72986833 0.72140491 0.72761852] \n",
      "mean=0.73   std=(+/- 0.01)   all=[0.73023692 0.72232484 0.7288508 ] \n",
      "mean=0.73   std=(+/- 0.01)   all=[0.72972567 0.72177936 0.72809906] \n",
      "mean=0.73   std=(+/- 0.01)   all=[0.73014923 0.72184548 0.7276527 ] \n"
     ]
    }
   ],
   "source": [
    "X = os_data_X\n",
    "y = os_data_y.values.ravel()\n",
    "for i in range(1, 20, 1):\n",
    "    pca = PCA(n_components = i)\n",
    "    logreg = LogisticRegression(solver='lbfgs',max_iter=50000)\n",
    "    pipeline = Pipeline([('pca', pca), ('logistic', logreg)])\n",
    "    pipeline = pipeline.fit(X,y)\n",
    "    score_fs_pca = cross_val_score(pipeline, X, y, scoring=\"f1_weighted\", cv=3)\n",
    "    print(\"mean={:.2f}   std=(+/- {:.2f})   all={} \".format(score_fs_pca.mean(),\n",
    "                                                    score_fs_pca.std()*2, score_fs_pca))"
   ]
  },
  {
   "cell_type": "code",
   "execution_count": 46,
   "metadata": {},
   "outputs": [
    {
     "name": "stdout",
     "output_type": "stream",
     "text": [
      "0     0.2031\n",
      "1     0.1542\n",
      "2     0.1190\n",
      "3     0.0967\n",
      "4     0.0697\n",
      "5     0.0446\n",
      "6     0.0329\n",
      "7     0.0254\n",
      "8     0.0239\n",
      "9     0.0226\n",
      "10    0.0215\n",
      "dtype: float64\n"
     ]
    }
   ],
   "source": [
    "# SET PCA ABOVE 80% VARIANCE EXPLAINED, HOWEVER MANY COMPONENTS\n",
    "selector = PCA(n_components=.8).fit(X,y)\n",
    "# SELECT # COMPONENTS\n",
    "#selector = PCA(n_components=10).fit(X,y)\n",
    "\n",
    "var_explained = selector.explained_variance_ratio_ \n",
    "var_explained = pd.Series(var_explained)\n",
    "print(round(var_explained,4)) "
   ]
  },
  {
   "cell_type": "code",
   "execution_count": 47,
   "metadata": {},
   "outputs": [
    {
     "name": "stdout",
     "output_type": "stream",
     "text": [
      "mean=0.73   std=(+/- 0.01)   all=[0.7249332  0.72092639 0.73032861] \n"
     ]
    }
   ],
   "source": [
    "pca = PCA(n_components = 10)\n",
    "logreg = LogisticRegression(solver='lbfgs',max_iter=50000)\n",
    "pipeline = Pipeline([('pca', pca), ('logistic', logreg)])\n",
    "score_fs_pca = cross_val_score(pipeline, X, y, scoring=\"f1_weighted\", cv=3)   \n",
    "print(\"mean={:.2f}   std=(+/- {:.2f})   all={} \".format(score_fs_pca.mean(),\n",
    "                                                        score_fs_pca.std()*2, score_fs_pca))"
   ]
  },
  {
   "cell_type": "markdown",
   "metadata": {},
   "source": [
    "### Feature Selection: Univariate Filter Method - SelectKBest \n",
    "Continuous use f_classif (ANOVA)  \n",
    "Categorical use chi2  "
   ]
  },
  {
   "cell_type": "code",
   "execution_count": 48,
   "metadata": {},
   "outputs": [
    {
     "name": "stdout",
     "output_type": "stream",
     "text": [
      "1:\tmean=0.72 std=(+/- 0.01) all=[0.71935122 0.71248887 0.72134395] \n",
      "2:\tmean=0.72 std=(+/- 0.01) all=[0.71935122 0.71248887 0.72134395] \n",
      "3:\tmean=0.72 std=(+/- 0.01) all=[0.71935122 0.71255026 0.72140546] \n",
      "4:\tmean=0.72 std=(+/- 0.01) all=[0.71935122 0.71248887 0.72134395] \n",
      "5:\tmean=0.72 std=(+/- 0.01) all=[0.71935122 0.71248887 0.72134395] \n"
     ]
    }
   ],
   "source": [
    "X = os_data_X[con_list_yj]\n",
    "y = os_data_y.values.ravel()\n",
    "for i in range(1,6,1):\n",
    "    skb = SelectKBest(f_classif, k=i)\n",
    "    logreg = LogisticRegression(solver='lbfgs',max_iter=50000)\n",
    "    pipeline = Pipeline([('SelectKBest', skb), ('logistic', logreg)])\n",
    "    pipeline = pipeline.fit(X,y)\n",
    "    score_fs_skb = cross_val_score(pipeline, X, y, cv=3, scoring='f1_weighted')\n",
    "    print(\"{}:\\tmean={:.2f} std=(+/- {:.2f}) all={} \".format(i,score_fs_skb.mean(),\n",
    "                                                           score_fs_skb.std()*2, score_fs_skb))"
   ]
  },
  {
   "cell_type": "code",
   "execution_count": 49,
   "metadata": {},
   "outputs": [
    {
     "name": "stdout",
     "output_type": "stream",
     "text": [
      "['nr_employed_yj']\n"
     ]
    }
   ],
   "source": [
    "#### FIRST CONTINUOUS VARIABLE APPEARS TO HOLD ALL INFORMATION: nr_employed_yj\n",
    "X = os_data_X[con_list_yj]\n",
    "y = os_data_y.values.ravel()\n",
    "\n",
    "selector = SelectKBest(f_classif, k=1).fit(X,y)\n",
    "\n",
    "X_new = selector.transform(X)\n",
    "X.columns[selector.get_support(indices=True)]\n",
    "feature_skb_con = X.columns[selector.get_support(indices=True)].tolist()\n",
    "print(sorted(feature_skb_con))"
   ]
  },
  {
   "cell_type": "code",
   "execution_count": 50,
   "metadata": {},
   "outputs": [
    {
     "name": "stdout",
     "output_type": "stream",
     "text": [
      "['age_yj', 'campaign_yj', 'cons_conf_idx_yj', 'cons_price_idx_yj', 'nr_employed_yj']\n"
     ]
    }
   ],
   "source": [
    "#### WILL KEEP ALL CONTINUOUS VARIABLES IN CASE INFORMATION IS ADDED WHEN COMBINED WITH CATEGORICAL \n",
    "X = os_data_X[con_list_yj]\n",
    "y = os_data_y.values.ravel()\n",
    "\n",
    "selector = SelectKBest(f_classif, k=5).fit(X,y)\n",
    "\n",
    "X_new = selector.transform(X)\n",
    "X.columns[selector.get_support(indices=True)]\n",
    "feature_skb_con = X.columns[selector.get_support(indices=True)].tolist()\n",
    "print(sorted(feature_skb_con))"
   ]
  },
  {
   "cell_type": "code",
   "execution_count": 51,
   "metadata": {},
   "outputs": [
    {
     "name": "stdout",
     "output_type": "stream",
     "text": [
      "38\n"
     ]
    }
   ],
   "source": [
    "print(len(one_hot_list_all))"
   ]
  },
  {
   "cell_type": "code",
   "execution_count": 52,
   "metadata": {},
   "outputs": [
    {
     "name": "stdout",
     "output_type": "stream",
     "text": [
      "1:\tmean=0.55 std=(+/- 0.00) all=[0.55202448 0.54935481 0.54855016] \n",
      "2:\tmean=0.55 std=(+/- 0.00) all=[0.55166286 0.54862985 0.54829269] \n",
      "3:\tmean=0.55 std=(+/- 0.00) all=[0.55093954 0.54728314 0.54679908] \n",
      "4:\tmean=0.52 std=(+/- 0.00) all=[0.51434295 0.51313707 0.51864551] \n",
      "5:\tmean=0.58 std=(+/- 0.01) all=[0.58991611 0.58136118 0.5827809 ] \n",
      "6:\tmean=0.58 std=(+/- 0.01) all=[0.58509066 0.57708224 0.57759104] \n",
      "7:\tmean=0.59 std=(+/- 0.00) all=[0.58692959 0.58928976 0.58989491] \n",
      "8:\tmean=0.60 std=(+/- 0.04) all=[0.58692959 0.62613606 0.58930757] \n",
      "9:\tmean=0.63 std=(+/- 0.01) all=[0.63241314 0.62686982 0.63324545] \n",
      "10:\tmean=0.63 std=(+/- 0.02) all=[0.62782471 0.61478077 0.63370825] \n",
      "11:\tmean=0.62 std=(+/- 0.01) all=[0.62824781 0.62681896 0.61721819] \n",
      "12:\tmean=0.63 std=(+/- 0.01) all=[0.62963751 0.62715177 0.62178858] \n",
      "13:\tmean=0.62 std=(+/- 0.01) all=[0.63122773 0.6187343  0.62344233] \n",
      "14:\tmean=0.64 std=(+/- 0.01) all=[0.63790862 0.62992838 0.63913438] \n",
      "15:\tmean=0.64 std=(+/- 0.01) all=[0.63841015 0.63660282 0.64313517] \n",
      "16:\tmean=0.64 std=(+/- 0.01) all=[0.64179185 0.638868   0.64611012] \n",
      "17:\tmean=0.64 std=(+/- 0.01) all=[0.64159083 0.63504718 0.64868379] \n",
      "18:\tmean=0.64 std=(+/- 0.01) all=[0.64302195 0.63277793 0.64407   ] \n",
      "19:\tmean=0.64 std=(+/- 0.00) all=[0.63756377 0.63853413 0.6337996 ] \n",
      "20:\tmean=0.63 std=(+/- 0.01) all=[0.63402324 0.6298378  0.63611776] \n",
      "21:\tmean=0.63 std=(+/- 0.01) all=[0.63402324 0.62777008 0.63611776] \n",
      "22:\tmean=0.64 std=(+/- 0.00) all=[0.63439926 0.63782168 0.6346804 ] \n",
      "23:\tmean=0.64 std=(+/- 0.00) all=[0.63438066 0.63940361 0.63577224] \n",
      "24:\tmean=0.64 std=(+/- 0.00) all=[0.64338027 0.63933755 0.64220665] \n",
      "25:\tmean=0.64 std=(+/- 0.00) all=[0.64132955 0.64048087 0.64173891] \n",
      "26:\tmean=0.64 std=(+/- 0.01) all=[0.63942632 0.63654296 0.64284463] \n",
      "27:\tmean=0.64 std=(+/- 0.01) all=[0.64284433 0.63684043 0.644652  ] \n",
      "28:\tmean=0.64 std=(+/- 0.01) all=[0.64017879 0.63570564 0.64537625] \n",
      "29:\tmean=0.64 std=(+/- 0.01) all=[0.64459224 0.6356773  0.64482413] \n",
      "30:\tmean=0.64 std=(+/- 0.01) all=[0.64630027 0.63749329 0.64525279] \n",
      "31:\tmean=0.64 std=(+/- 0.00) all=[0.64529628 0.64280258 0.64390463] \n",
      "32:\tmean=0.64 std=(+/- 0.00) all=[0.64542781 0.64316264 0.64000126] \n",
      "33:\tmean=0.64 std=(+/- 0.00) all=[0.64548572 0.64392853 0.63974642] \n",
      "34:\tmean=0.64 std=(+/- 0.01) all=[0.64613845 0.64339651 0.63981966] \n",
      "35:\tmean=0.64 std=(+/- 0.00) all=[0.64560617 0.641622   0.63993564] \n",
      "36:\tmean=0.64 std=(+/- 0.01) all=[0.6455403  0.64259561 0.63936795] \n",
      "37:\tmean=0.64 std=(+/- 0.00) all=[0.64435688 0.64258689 0.64188723] \n",
      "38:\tmean=0.64 std=(+/- 0.00) all=[0.64448056 0.64235656 0.64187952] \n"
     ]
    }
   ],
   "source": [
    "X = os_data_X[one_hot_list_all]\n",
    "y = os_data_y.values.ravel()\n",
    "for i in range(1,39,1):\n",
    "    skb = SelectKBest(chi2, k=i)\n",
    "    logreg = LogisticRegression(solver='lbfgs',max_iter=50000)\n",
    "    pipeline = Pipeline([('SelectKBest', skb), ('logistic', logreg)])\n",
    "    pipeline = pipeline.fit(X,y)\n",
    "    score_fs_skb = cross_val_score(pipeline, X, y, cv=3, scoring ='f1_weighted')\n",
    "    print(\"{}:\\tmean={:.2f} std=(+/- {:.2f}) all={} \".format(i,score_fs_skb.mean(),\n",
    "                                                           score_fs_skb.std()*2, score_fs_skb))"
   ]
  },
  {
   "cell_type": "code",
   "execution_count": 53,
   "metadata": {},
   "outputs": [
    {
     "name": "stdout",
     "output_type": "stream",
     "text": [
      "['month_may']\n"
     ]
    }
   ],
   "source": [
    "# HIGHEST PERFORMING CAT FEATURE: month_may\n",
    "selector = SelectKBest(chi2, k=1).fit(X,y)\n",
    "feature_skb_cat = X.columns[selector.get_support(indices=True)].tolist()\n",
    "print(sorted(feature_skb_cat))"
   ]
  },
  {
   "cell_type": "code",
   "execution_count": 54,
   "metadata": {},
   "outputs": [
    {
     "name": "stdout",
     "output_type": "stream",
     "text": [
      "['day_of_week_mon', 'education_basic.6y', 'education_basic.9y', 'education_university.degree', 'housing_unknown', 'housing_yes', 'job_blue-collar', 'job_entrepreneur', 'job_housemaid', 'job_retired', 'job_self-employed', 'job_services', 'job_student', 'job_unknown', 'loan_unknown', 'loan_yes', 'marital_married', 'marital_single', 'month_dec', 'month_jul', 'month_mar', 'month_may', 'month_nov', 'month_oct', 'month_sep']\n"
     ]
    }
   ],
   "source": [
    "# 25 APPEARS TO BE WHERE STARTS TO PLATEAU WITH STABLE PERFORMANCE\n",
    "selector = SelectKBest(chi2, k=25).fit(X,y)\n",
    "feature_skb_cat = X.columns[selector.get_support(indices=True)].tolist()\n",
    "print(sorted(feature_skb_cat))"
   ]
  },
  {
   "cell_type": "code",
   "execution_count": 55,
   "metadata": {},
   "outputs": [],
   "source": [
    "feature_skb = feature_skb_con + feature_skb_cat"
   ]
  },
  {
   "cell_type": "code",
   "execution_count": 56,
   "metadata": {},
   "outputs": [
    {
     "name": "stdout",
     "output_type": "stream",
     "text": [
      "30\n"
     ]
    }
   ],
   "source": [
    "print(len(feature_skb))"
   ]
  },
  {
   "cell_type": "code",
   "execution_count": 57,
   "metadata": {},
   "outputs": [
    {
     "name": "stdout",
     "output_type": "stream",
     "text": [
      "1:\tmean=0.72 std=(+/- 0.01) all=[0.71935122 0.71248887 0.72134395] \n",
      "2:\tmean=0.72 std=(+/- 0.01) all=[0.71935122 0.71248887 0.72134395] \n",
      "3:\tmean=0.73 std=(+/- 0.01) all=[0.73027214 0.72368748 0.73134064] \n",
      "4:\tmean=0.73 std=(+/- 0.01) all=[0.7306288  0.72366913 0.73114085] \n",
      "5:\tmean=0.73 std=(+/- 0.01) all=[0.73056172 0.72779434 0.73395911] \n",
      "6:\tmean=0.73 std=(+/- 0.01) all=[0.73496544 0.72779434 0.73395911] \n",
      "7:\tmean=0.73 std=(+/- 0.01) all=[0.73508158 0.72753609 0.7337763 ] \n",
      "8:\tmean=0.73 std=(+/- 0.01) all=[0.73415241 0.72695031 0.73247954] \n",
      "9:\tmean=0.73 std=(+/- 0.01) all=[0.73380396 0.72695031 0.73378451] \n",
      "10:\tmean=0.73 std=(+/- 0.01) all=[0.73187268 0.7264918  0.7327474 ] \n",
      "11:\tmean=0.73 std=(+/- 0.01) all=[0.73440838 0.72642527 0.73300429] \n",
      "12:\tmean=0.73 std=(+/- 0.01) all=[0.73439997 0.72592431 0.73331151] \n",
      "13:\tmean=0.73 std=(+/- 0.01) all=[0.73349775 0.72600564 0.73146383] \n",
      "14:\tmean=0.73 std=(+/- 0.01) all=[0.73349775 0.72593968 0.73101095] \n",
      "15:\tmean=0.73 std=(+/- 0.01) all=[0.73411954 0.72595947 0.73172672] \n",
      "16:\tmean=0.73 std=(+/- 0.01) all=[0.73437593 0.72657317 0.73163151] \n",
      "17:\tmean=0.73 std=(+/- 0.01) all=[0.73423623 0.72669745 0.7322436 ] \n",
      "18:\tmean=0.73 std=(+/- 0.00) all=[0.73280259 0.72722858 0.73136714] \n",
      "19:\tmean=0.73 std=(+/- 0.00) all=[0.73186225 0.72653266 0.73130071] \n",
      "20:\tmean=0.73 std=(+/- 0.01) all=[0.7326624  0.72389348 0.73101271] \n",
      "21:\tmean=0.73 std=(+/- 0.01) all=[0.73049258 0.72214688 0.73032688] \n",
      "22:\tmean=0.73 std=(+/- 0.01) all=[0.72938288 0.72303555 0.72832999] \n",
      "23:\tmean=0.73 std=(+/- 0.01) all=[0.72924973 0.72316987 0.72824461] \n",
      "24:\tmean=0.73 std=(+/- 0.01) all=[0.72967328 0.72316987 0.7284933 ] \n",
      "25:\tmean=0.73 std=(+/- 0.01) all=[0.72934075 0.72250739 0.72889702] \n",
      "26:\tmean=0.73 std=(+/- 0.01) all=[0.72934075 0.72317591 0.72822904] \n",
      "27:\tmean=0.73 std=(+/- 0.00) all=[0.72884176 0.7234803  0.72822904] \n",
      "28:\tmean=0.73 std=(+/- 0.00) all=[0.72812739 0.72332938 0.72857486] \n",
      "29:\tmean=0.73 std=(+/- 0.00) all=[0.72854136 0.72332938 0.7284262 ] \n",
      "30:\tmean=0.73 std=(+/- 0.01) all=[0.72925983 0.72334514 0.72831718] \n"
     ]
    }
   ],
   "source": [
    "X = os_data_X[feature_skb]\n",
    "y = os_data_y.values.ravel()\n",
    "for i in range(1,31,1):\n",
    "    skb = SelectKBest(f_classif, k=i)\n",
    "    logreg = LogisticRegression(solver='lbfgs',max_iter=50000)\n",
    "    pipeline = Pipeline([('SelectKBest', skb), ('logistic', logreg)])\n",
    "    pipeline = pipeline.fit(X,y)\n",
    "    score_fs_skb = cross_val_score(pipeline, X, y, cv=3, scoring ='f1_weighted')\n",
    "    print(\"{}:\\tmean={:.2f} std=(+/- {:.2f}) all={} \".format(i,score_fs_skb.mean(),\n",
    "                                                           score_fs_skb.std()*2, score_fs_skb))"
   ]
  },
  {
   "cell_type": "markdown",
   "metadata": {},
   "source": [
    "#### First two features give majority of perfromance, but for purposes of this study, and likely a more robust feature set, will keep top 30."
   ]
  },
  {
   "cell_type": "code",
   "execution_count": 58,
   "metadata": {},
   "outputs": [
    {
     "name": "stdout",
     "output_type": "stream",
     "text": [
      "training f1_weighted\n",
      "mean=0.73 std=(+/- 0.01) all=[0.72925983 0.72334514 0.72831718] \n"
     ]
    }
   ],
   "source": [
    "X = os_data_X[feature_skb]\n",
    "y = os_data_y.values.ravel()\n",
    "logreg = LogisticRegression(solver='lbfgs',max_iter=50000)\n",
    "logreg_fit = logreg.fit(X, y)\n",
    "score_fs_skb = cross_val_score(logreg_fit, X, y, scoring=\"f1_weighted\", cv=3)\n",
    "print(\"training f1_weighted\\nmean={:.2f} std=(+/- {:.2f}) all={} \".format(score_fs_skb.mean(),\n",
    "                                                              score_fs_skb.std()*2, score_fs_skb))"
   ]
  },
  {
   "cell_type": "markdown",
   "metadata": {},
   "source": [
    "### Feature Selection 2 - Embedded Method: Recursive Feature Elimination (RFE)\n",
    "RFE Uses coef. for cutoff, can be unreliable.   \n",
    "RFE woks like this, say if have 40+ attributes, and want 20, then with STEP=5 RFE would drop 5 lowest coefficients, then do 45, then 40, and so on. Step of 1 really low, lot of model building. RFE has CV, but is expensive. There is a way to rank RFE. "
   ]
  },
  {
   "cell_type": "code",
   "execution_count": 59,
   "metadata": {},
   "outputs": [
    {
     "name": "stdout",
     "output_type": "stream",
     "text": [
      "2: training f1_weighted\n",
      "mean=0.73 std=(+/- 0.01) all=[0.73094266 0.72449149 0.73200631] \n",
      "5: training f1_weighted\n",
      "mean=0.73 std=(+/- 0.01) all=[0.73059832 0.72867033 0.73471374] \n",
      "8: training f1_weighted\n",
      "mean=0.73 std=(+/- 0.01) all=[0.73122324 0.72487515 0.73482208] \n",
      "11: training f1_weighted\n",
      "mean=0.73 std=(+/- 0.00) all=[0.73095501 0.72839488 0.73443203] \n",
      "14: training f1_weighted\n",
      "mean=0.73 std=(+/- 0.01) all=[0.73095501 0.72785235 0.73436565] \n",
      "17: training f1_weighted\n",
      "mean=0.73 std=(+/- 0.01) all=[0.73088795 0.72503847 0.73473128] \n",
      "20: training f1_weighted\n",
      "mean=0.73 std=(+/- 0.01) all=[0.73095465 0.72240311 0.73145728] \n",
      "23: training f1_weighted\n",
      "mean=0.73 std=(+/- 0.01) all=[0.73183743 0.72234664 0.72804186] \n",
      "26: training f1_weighted\n",
      "mean=0.73 std=(+/- 0.01) all=[0.72936811 0.72399092 0.732006  ] \n",
      "29: training f1_weighted\n",
      "mean=0.73 std=(+/- 0.01) all=[0.73159106 0.72499067 0.73528157] \n",
      "32: training f1_weighted\n",
      "mean=0.73 std=(+/- 0.01) all=[0.72977764 0.72403327 0.73250521] \n",
      "\n",
      "Elapsed Time:\n",
      "--- 471.56 seconds ---\n",
      "--- 7.86 minutes ---\n"
     ]
    }
   ],
   "source": [
    "start_time = time.time()\n",
    "\n",
    "X = os_data_X\n",
    "y = os_data_y.values.ravel()\n",
    "\n",
    "for i in range(2,33,3):\n",
    "    logreg = LogisticRegression(solver='lbfgs',max_iter=50000)\n",
    "    rfe = RFE(logreg, i, step=1)\n",
    "    pipeline = Pipeline([('RFE', rfe), ('logistic', logreg)])\n",
    "    pipeline = pipeline.fit(X,y)\n",
    "    \n",
    "    score_fs_rfe = cross_val_score(pipeline, X, y, scoring=\"f1_weighted\", cv=3)\n",
    "    print(\"{}: training f1_weighted\\nmean={:.2f} std=(+/- {:.2f}) all={} \".format(\n",
    "        i, score_fs_rfe.mean(),score_fs_rfe.std()*2, score_fs_rfe))\n",
    "print()\n",
    "print(\"Elapsed Time:\")\n",
    "print(\"--- {:.2f} seconds ---\".format(time.time() - start_time))\n",
    "print(\"--- {:.2f} minutes ---\".format((time.time() - start_time)/60))"
   ]
  },
  {
   "cell_type": "code",
   "execution_count": 60,
   "metadata": {},
   "outputs": [
    {
     "name": "stdout",
     "output_type": "stream",
     "text": [
      "training f1_weighted\n",
      "mean=0.73 std=(+/- 0.01) all=[0.7314543  0.72333789 0.72964918] \n"
     ]
    }
   ],
   "source": [
    "# MODEL SPECIFIC, SVC MAY PUT DIFF VALUES ON FEATURES VS LOG REG\n",
    "logreg = LogisticRegression(solver='lbfgs',max_iter=50000)\n",
    "rfe = RFE(logreg, 30, step=1)\n",
    "rfe = rfe.fit(X, y)\n",
    "\n",
    "score_fs_rfe = cross_val_score(logreg, X, y, scoring=\"f1_weighted\", cv=3)\n",
    "#print(\"weighted: {}   all: {}\".format(round(score_fs_rfe.mean(),3),score_fs_rfe))\n",
    "print(\"training f1_weighted\\nmean={:.2f} std=(+/- {:.2f}) all={} \".format(\n",
    "    score_fs_rfe.mean(), score_fs_rfe.std()*2, score_fs_rfe))\n",
    "feat_scores_rfe = pd.DataFrame()\n",
    "feat_scores_rfe[\"ranking\"] = rfe.ranking_\n",
    "feat_scores_rfe[\"support\"] = rfe.support_\n",
    "feat_scores_rfe[\"Attribute\"] = X.columns"
   ]
  },
  {
   "cell_type": "code",
   "execution_count": 61,
   "metadata": {},
   "outputs": [
    {
     "name": "stdout",
     "output_type": "stream",
     "text": [
      "['day_of_week_mon', 'education_basic.6y', 'education_basic.9y', 'education_illiterate', 'education_professional.course', 'education_unknown', 'housing_unknown', 'job_blue-collar', 'job_entrepreneur', 'job_housemaid', 'job_management', 'job_self-employed', 'job_services', 'job_technician', 'job_unemployed', 'job_unknown', 'loan_unknown', 'loan_yes', 'marital_married', 'marital_single', 'marital_unknown', 'month_aug', 'month_dec', 'month_jul', 'month_jun', 'month_mar', 'month_may', 'month_oct', 'month_sep', 'nr_employed_yj']\n"
     ]
    }
   ],
   "source": [
    "df_num_features=feat_scores_rfe[feat_scores_rfe['ranking'] == 1]\n",
    "feature_rfe = df_num_features['Attribute'].tolist()\n",
    "print(sorted(feature_rfe))"
   ]
  },
  {
   "cell_type": "code",
   "execution_count": 62,
   "metadata": {},
   "outputs": [
    {
     "name": "stdout",
     "output_type": "stream",
     "text": [
      "30\n"
     ]
    }
   ],
   "source": [
    "print(len(feature_rfe))"
   ]
  },
  {
   "cell_type": "code",
   "execution_count": 63,
   "metadata": {},
   "outputs": [
    {
     "data": {
      "text/html": [
       "<div>\n",
       "<style scoped>\n",
       "    .dataframe tbody tr th:only-of-type {\n",
       "        vertical-align: middle;\n",
       "    }\n",
       "\n",
       "    .dataframe tbody tr th {\n",
       "        vertical-align: top;\n",
       "    }\n",
       "\n",
       "    .dataframe thead th {\n",
       "        text-align: right;\n",
       "    }\n",
       "</style>\n",
       "<table border=\"1\" class=\"dataframe\">\n",
       "  <thead>\n",
       "    <tr style=\"text-align: right;\">\n",
       "      <th></th>\n",
       "      <th>ranking</th>\n",
       "      <th>support</th>\n",
       "      <th>Attribute</th>\n",
       "    </tr>\n",
       "  </thead>\n",
       "  <tbody>\n",
       "    <tr>\n",
       "      <th>18</th>\n",
       "      <td>1</td>\n",
       "      <td>True</td>\n",
       "      <td>marital_unknown</td>\n",
       "    </tr>\n",
       "    <tr>\n",
       "      <th>29</th>\n",
       "      <td>1</td>\n",
       "      <td>True</td>\n",
       "      <td>loan_yes</td>\n",
       "    </tr>\n",
       "    <tr>\n",
       "      <th>28</th>\n",
       "      <td>1</td>\n",
       "      <td>True</td>\n",
       "      <td>loan_unknown</td>\n",
       "    </tr>\n",
       "    <tr>\n",
       "      <th>37</th>\n",
       "      <td>1</td>\n",
       "      <td>True</td>\n",
       "      <td>month_oct</td>\n",
       "    </tr>\n",
       "    <tr>\n",
       "      <th>26</th>\n",
       "      <td>1</td>\n",
       "      <td>True</td>\n",
       "      <td>housing_unknown</td>\n",
       "    </tr>\n",
       "    <tr>\n",
       "      <th>25</th>\n",
       "      <td>1</td>\n",
       "      <td>True</td>\n",
       "      <td>education_unknown</td>\n",
       "    </tr>\n",
       "    <tr>\n",
       "      <th>32</th>\n",
       "      <td>1</td>\n",
       "      <td>True</td>\n",
       "      <td>month_jul</td>\n",
       "    </tr>\n",
       "    <tr>\n",
       "      <th>23</th>\n",
       "      <td>1</td>\n",
       "      <td>True</td>\n",
       "      <td>education_professional.course</td>\n",
       "    </tr>\n",
       "    <tr>\n",
       "      <th>22</th>\n",
       "      <td>1</td>\n",
       "      <td>True</td>\n",
       "      <td>education_illiterate</td>\n",
       "    </tr>\n",
       "    <tr>\n",
       "      <th>20</th>\n",
       "      <td>1</td>\n",
       "      <td>True</td>\n",
       "      <td>education_basic.9y</td>\n",
       "    </tr>\n",
       "    <tr>\n",
       "      <th>19</th>\n",
       "      <td>1</td>\n",
       "      <td>True</td>\n",
       "      <td>education_basic.6y</td>\n",
       "    </tr>\n",
       "    <tr>\n",
       "      <th>35</th>\n",
       "      <td>1</td>\n",
       "      <td>True</td>\n",
       "      <td>month_may</td>\n",
       "    </tr>\n",
       "    <tr>\n",
       "      <th>17</th>\n",
       "      <td>1</td>\n",
       "      <td>True</td>\n",
       "      <td>marital_single</td>\n",
       "    </tr>\n",
       "    <tr>\n",
       "      <th>16</th>\n",
       "      <td>1</td>\n",
       "      <td>True</td>\n",
       "      <td>marital_married</td>\n",
       "    </tr>\n",
       "    <tr>\n",
       "      <th>30</th>\n",
       "      <td>1</td>\n",
       "      <td>True</td>\n",
       "      <td>month_aug</td>\n",
       "    </tr>\n",
       "    <tr>\n",
       "      <th>15</th>\n",
       "      <td>1</td>\n",
       "      <td>True</td>\n",
       "      <td>job_unknown</td>\n",
       "    </tr>\n",
       "    <tr>\n",
       "      <th>13</th>\n",
       "      <td>1</td>\n",
       "      <td>True</td>\n",
       "      <td>job_technician</td>\n",
       "    </tr>\n",
       "    <tr>\n",
       "      <th>33</th>\n",
       "      <td>1</td>\n",
       "      <td>True</td>\n",
       "      <td>month_jun</td>\n",
       "    </tr>\n",
       "    <tr>\n",
       "      <th>11</th>\n",
       "      <td>1</td>\n",
       "      <td>True</td>\n",
       "      <td>job_services</td>\n",
       "    </tr>\n",
       "    <tr>\n",
       "      <th>10</th>\n",
       "      <td>1</td>\n",
       "      <td>True</td>\n",
       "      <td>job_self-employed</td>\n",
       "    </tr>\n",
       "    <tr>\n",
       "      <th>38</th>\n",
       "      <td>1</td>\n",
       "      <td>True</td>\n",
       "      <td>month_sep</td>\n",
       "    </tr>\n",
       "    <tr>\n",
       "      <th>8</th>\n",
       "      <td>1</td>\n",
       "      <td>True</td>\n",
       "      <td>job_management</td>\n",
       "    </tr>\n",
       "    <tr>\n",
       "      <th>7</th>\n",
       "      <td>1</td>\n",
       "      <td>True</td>\n",
       "      <td>job_housemaid</td>\n",
       "    </tr>\n",
       "    <tr>\n",
       "      <th>6</th>\n",
       "      <td>1</td>\n",
       "      <td>True</td>\n",
       "      <td>job_entrepreneur</td>\n",
       "    </tr>\n",
       "    <tr>\n",
       "      <th>5</th>\n",
       "      <td>1</td>\n",
       "      <td>True</td>\n",
       "      <td>job_blue-collar</td>\n",
       "    </tr>\n",
       "    <tr>\n",
       "      <th>39</th>\n",
       "      <td>1</td>\n",
       "      <td>True</td>\n",
       "      <td>day_of_week_mon</td>\n",
       "    </tr>\n",
       "    <tr>\n",
       "      <th>34</th>\n",
       "      <td>1</td>\n",
       "      <td>True</td>\n",
       "      <td>month_mar</td>\n",
       "    </tr>\n",
       "    <tr>\n",
       "      <th>2</th>\n",
       "      <td>1</td>\n",
       "      <td>True</td>\n",
       "      <td>nr_employed_yj</td>\n",
       "    </tr>\n",
       "    <tr>\n",
       "      <th>14</th>\n",
       "      <td>1</td>\n",
       "      <td>True</td>\n",
       "      <td>job_unemployed</td>\n",
       "    </tr>\n",
       "    <tr>\n",
       "      <th>31</th>\n",
       "      <td>1</td>\n",
       "      <td>True</td>\n",
       "      <td>month_dec</td>\n",
       "    </tr>\n",
       "  </tbody>\n",
       "</table>\n",
       "</div>"
      ],
      "text/plain": [
       "    ranking  support                      Attribute\n",
       "18        1     True                marital_unknown\n",
       "29        1     True                       loan_yes\n",
       "28        1     True                   loan_unknown\n",
       "37        1     True                      month_oct\n",
       "26        1     True                housing_unknown\n",
       "25        1     True              education_unknown\n",
       "32        1     True                      month_jul\n",
       "23        1     True  education_professional.course\n",
       "22        1     True           education_illiterate\n",
       "20        1     True             education_basic.9y\n",
       "19        1     True             education_basic.6y\n",
       "35        1     True                      month_may\n",
       "17        1     True                 marital_single\n",
       "16        1     True                marital_married\n",
       "30        1     True                      month_aug\n",
       "15        1     True                    job_unknown\n",
       "13        1     True                 job_technician\n",
       "33        1     True                      month_jun\n",
       "11        1     True                   job_services\n",
       "10        1     True              job_self-employed\n",
       "38        1     True                      month_sep\n",
       "8         1     True                 job_management\n",
       "7         1     True                  job_housemaid\n",
       "6         1     True               job_entrepreneur\n",
       "5         1     True                job_blue-collar\n",
       "39        1     True                day_of_week_mon\n",
       "34        1     True                      month_mar\n",
       "2         1     True                 nr_employed_yj\n",
       "14        1     True                 job_unemployed\n",
       "31        1     True                      month_dec"
      ]
     },
     "execution_count": 63,
     "metadata": {},
     "output_type": "execute_result"
    }
   ],
   "source": [
    "feat_scores_rfe.sort_values(by='ranking', ascending=True).head(30)"
   ]
  },
  {
   "cell_type": "markdown",
   "metadata": {},
   "source": [
    "#### Worth noting, \"unknown\" categories in categorical variables are considered predictive."
   ]
  },
  {
   "cell_type": "markdown",
   "metadata": {},
   "source": [
    "### Feature Selection 3: Feature Importance Embedding Method - Extra Trees Classifier  "
   ]
  },
  {
   "cell_type": "code",
   "execution_count": 64,
   "metadata": {},
   "outputs": [],
   "source": [
    "X = os_data_X\n",
    "y = os_data_y.values.ravel()\n",
    "\n",
    "etc_classifier = ExtraTreesClassifier(n_estimators=100)\n",
    "etc_classifier = etc_classifier.fit(X, y)\n",
    "\n",
    "feat_scores_etc = pd.DataFrame()\n",
    "feat_scores_etc[\"feature_importances\"] = etc_classifier.feature_importances_\n",
    "feat_scores_etc[\"feature_importances\"] = round(feat_scores_etc[\"feature_importances\"],4)\n",
    "feat_scores_etc[\"Attribute\"] = X.columns"
   ]
  },
  {
   "cell_type": "code",
   "execution_count": 65,
   "metadata": {},
   "outputs": [
    {
     "data": {
      "image/png": "[encoded data removed]",
      "text/plain": [
       "<Figure size 1080x576 with 1 Axes>"
      ]
     },
     "metadata": {
      "needs_background": "light"
     },
     "output_type": "display_data"
    }
   ],
   "source": [
    "feature_importance = etc_classifier.feature_importances_\n",
    "plt.figure(figsize=(15,8))\n",
    "\n",
    "# MAKE IMPORTANCES RELATIVE TO MAX IMPORTANCE\n",
    "feature_importance = 100.0 * (feature_importance / feature_importance.max())\n",
    "sorted_idx = np.argsort(feature_importance)\n",
    "pos = np.arange(sorted_idx.shape[0]) + .5\n",
    "plt.subplot(1, 2, 2)\n",
    "plt.barh(pos, feature_importance[sorted_idx], align='center')\n",
    "plt.yticks(pos, X.columns[sorted_idx])\n",
    "plt.xlabel('Relative Importance')\n",
    "plt.title('Variable Importance')\n",
    "plt.show()"
   ]
  },
  {
   "cell_type": "code",
   "execution_count": 66,
   "metadata": {},
   "outputs": [
    {
     "name": "stdout",
     "output_type": "stream",
     "text": [
      "['nr_employed_yj', 'age_yj', 'campaign_yj', 'housing_yes', 'loan_yes', 'cons_price_idx_yj', 'day_of_week_mon', 'cons_conf_idx_yj', 'day_of_week_wed', 'day_of_week_thu', 'marital_married', 'month_may', 'day_of_week_tue', 'job_blue-collar', 'marital_single', 'education_university.degree', 'education_high.school', 'job_technician', 'education_basic.9y', 'job_services', 'job_management', 'education_professional.course', 'job_retired', 'education_basic.6y', 'job_entrepreneur', 'month_mar', 'month_oct', 'job_self-employed', 'job_student']\n"
     ]
    }
   ],
   "source": [
    "# SELECT FEATURE IMPORTANCES > X%\n",
    "df_gt_thresh_etc = feat_scores_etc[feat_scores_etc['feature_importances']>.0081].sort_values(\n",
    "    by='feature_importances', ascending=False)\n",
    "feature_etc = df_gt_thresh_etc['Attribute'].tolist()\n",
    "print(feature_etc)"
   ]
  },
  {
   "cell_type": "code",
   "execution_count": 67,
   "metadata": {},
   "outputs": [
    {
     "name": "stdout",
     "output_type": "stream",
     "text": [
      "29\n"
     ]
    }
   ],
   "source": [
    "print(len(feature_etc))"
   ]
  },
  {
   "cell_type": "markdown",
   "metadata": {},
   "source": [
    "#### Worth noting, ETC does not include unknown category in categorical variables, and top two variables are continuous. ETC appears to favor continuous variables."
   ]
  },
  {
   "cell_type": "markdown",
   "metadata": {},
   "source": [
    "#### Feature Importances For ExtraTreeClassifier > Threshold"
   ]
  },
  {
   "cell_type": "code",
   "execution_count": 68,
   "metadata": {},
   "outputs": [
    {
     "name": "stdout",
     "output_type": "stream",
     "text": [
      "training f1_weighted\n",
      "mean=0.73 std=(+/- 0.01) all=[0.7308034  0.72400538 0.72988552] \n",
      "\n",
      "Elapsed Time:\n",
      "--- 0.88 seconds ---\n",
      "--- 0.01 minutes ---\n"
     ]
    }
   ],
   "source": [
    "start_time = time.time()\n",
    "\n",
    "X = os_data_X[feature_etc]\n",
    "y = os_data_y.values.ravel()\n",
    "\n",
    "logreg = LogisticRegression(solver='lbfgs',max_iter=50000).fit(X,y)\n",
    "score_fs_etc = cross_val_score(logreg, X, y, scoring=\"f1_weighted\", cv=3)\n",
    "\n",
    "#print(\"weighted f1: {:.2f}   all: {}\".format(round(score_fs_etc.mean(),3),score_fs_etc))\n",
    "print(\"training f1_weighted\\nmean={:.2f} std=(+/- {:.2f}) all={} \".format(\n",
    "    score_fs_etc.mean(),score_fs_etc.std()*2, score_fs_etc))\n",
    "print()\n",
    "print(\"Elapsed Time:\")\n",
    "print(\"--- {:.2f} seconds ---\".format(time.time() - start_time))\n",
    "print(\"--- {:.2f} minutes ---\".format((time.time() - start_time)/60))"
   ]
  },
  {
   "cell_type": "markdown",
   "metadata": {},
   "source": [
    "### Summary of training results for dimension reduction and feature selection"
   ]
  },
  {
   "cell_type": "code",
   "execution_count": 69,
   "metadata": {},
   "outputs": [
    {
     "name": "stdout",
     "output_type": "stream",
     "text": [
      "Base: f1_weighted\t mean=0.73 std=(+/- 0.01) all=[0.7314543  0.72333789 0.72964918] \n",
      "PCA:  f1_weighted\t mean=0.73 std=(+/- 0.01) all=[0.7249332  0.72092639 0.73032861] \n",
      "SKB:  f1_weighted\t mean=0.73 std=(+/- 0.01) all=[0.72925983 0.72334514 0.72831718] \n",
      "RFE:  f1_weighted\t mean=0.73 std=(+/- 0.01) all=[0.7314543  0.72333789 0.72964918] \n",
      "ETC:  f1_weighted\t mean=0.73 std=(+/- 0.01) all=[0.7308034  0.72400538 0.72988552] \n"
     ]
    }
   ],
   "source": [
    "print(\"Base: f1_weighted\\t mean={:.2f} std=(+/- {:.2f}) all={} \".format(\n",
    "    score_fs_base.mean(),score_fs_base.std()*2, score_fs_base))\n",
    "print(\"PCA:  f1_weighted\\t mean={:.2f} std=(+/- {:.2f}) all={} \".format(\n",
    "    score_fs_pca.mean(),score_fs_pca.std()*2, score_fs_pca))\n",
    "print(\"SKB:  f1_weighted\\t mean={:.2f} std=(+/- {:.2f}) all={} \".format(\n",
    "    score_fs_skb.mean(),score_fs_skb.std()*2, score_fs_skb))\n",
    "print(\"RFE:  f1_weighted\\t mean={:.2f} std=(+/- {:.2f}) all={} \".format(\n",
    "    score_fs_rfe.mean(),score_fs_rfe.std()*2, score_fs_rfe))\n",
    "print(\"ETC:  f1_weighted\\t mean={:.2f} std=(+/- {:.2f}) all={} \".format(\n",
    "    score_fs_etc.mean(),score_fs_etc.std()*2, score_fs_etc))"
   ]
  },
  {
   "cell_type": "code",
   "execution_count": 70,
   "metadata": {},
   "outputs": [
    {
     "name": "stdout",
     "output_type": "stream",
     "text": [
      "30\n",
      "30\n",
      "29\n"
     ]
    }
   ],
   "source": [
    "print(len(feature_skb))\n",
    "print(len(feature_rfe))\n",
    "print(len(feature_etc))"
   ]
  },
  {
   "cell_type": "markdown",
   "metadata": {},
   "source": [
    "#### Analysis: SKB, RFE, and ETC match the performance of the Base model. As prefer performance to meet or exceed the base model, this is a good sign."
   ]
  },
  {
   "cell_type": "code",
   "execution_count": 71,
   "metadata": {},
   "outputs": [
    {
     "name": "stdout",
     "output_type": "stream",
     "text": [
      "['age_yj', 'campaign_yj', 'cons_conf_idx_yj', 'cons_price_idx_yj', 'day_of_week_mon', 'education_basic.6y', 'education_basic.9y', 'education_university.degree', 'housing_unknown', 'housing_yes', 'job_blue-collar', 'job_entrepreneur', 'job_housemaid', 'job_retired', 'job_self-employed', 'job_services', 'job_student', 'job_unknown', 'loan_unknown', 'loan_yes', 'marital_married', 'marital_single', 'month_dec', 'month_jul', 'month_mar', 'month_may', 'month_nov', 'month_oct', 'month_sep', 'nr_employed_yj']\n"
     ]
    }
   ],
   "source": [
    "print(sorted(feature_skb))"
   ]
  },
  {
   "cell_type": "code",
   "execution_count": 72,
   "metadata": {},
   "outputs": [
    {
     "name": "stdout",
     "output_type": "stream",
     "text": [
      "['day_of_week_mon', 'education_basic.6y', 'education_basic.9y', 'education_illiterate', 'education_professional.course', 'education_unknown', 'housing_unknown', 'job_blue-collar', 'job_entrepreneur', 'job_housemaid', 'job_management', 'job_self-employed', 'job_services', 'job_technician', 'job_unemployed', 'job_unknown', 'loan_unknown', 'loan_yes', 'marital_married', 'marital_single', 'marital_unknown', 'month_aug', 'month_dec', 'month_jul', 'month_jun', 'month_mar', 'month_may', 'month_oct', 'month_sep', 'nr_employed_yj']\n"
     ]
    }
   ],
   "source": [
    "print(sorted(feature_rfe))"
   ]
  },
  {
   "cell_type": "code",
   "execution_count": 73,
   "metadata": {},
   "outputs": [
    {
     "name": "stdout",
     "output_type": "stream",
     "text": [
      "['age_yj', 'campaign_yj', 'cons_conf_idx_yj', 'cons_price_idx_yj', 'day_of_week_mon', 'day_of_week_thu', 'day_of_week_tue', 'day_of_week_wed', 'education_basic.6y', 'education_basic.9y', 'education_high.school', 'education_professional.course', 'education_university.degree', 'housing_yes', 'job_blue-collar', 'job_entrepreneur', 'job_management', 'job_retired', 'job_self-employed', 'job_services', 'job_student', 'job_technician', 'loan_yes', 'marital_married', 'marital_single', 'month_mar', 'month_may', 'month_oct', 'nr_employed_yj']\n"
     ]
    }
   ],
   "source": [
    "print(sorted(feature_etc))"
   ]
  },
  {
   "cell_type": "markdown",
   "metadata": {},
   "source": [
    "## Part 3: Models"
   ]
  },
  {
   "cell_type": "markdown",
   "metadata": {},
   "source": [
    "### Model 1: Logistic Regression"
   ]
  },
  {
   "cell_type": "code",
   "execution_count": 74,
   "metadata": {},
   "outputs": [
    {
     "name": "stdout",
     "output_type": "stream",
     "text": [
      "Start Time: Mon Mar 23 15:06:12 2020\n",
      "Elapsed Time:\n",
      "--- 1.02 seconds ---\n",
      "--- 0.02 minutes ---\n",
      "\n"
     ]
    }
   ],
   "source": [
    "start_time = time.time()\n",
    "print(\"Start Time: {}\".format(time.ctime()))\n",
    "\n",
    "X = os_data_X[feature_skb]\n",
    "y = os_data_y['y'].values.ravel()\n",
    "\n",
    "clf_lr = LogisticRegression(solver='newton-cg', max_iter=50000) # USUALLY lbfgs REVIEW\n",
    "\n",
    "# LESS THAN ONE MINUTE TO RUN\n",
    "# IDENTIFY BEST PARAMETERS WITH GridSearchCV\n",
    "#search_grid = { \n",
    "#    'solver': ['liblinear', 'newton-cg', 'saga','lbfgs'],\n",
    "#    'C': [.001,.01,0.1,1,10,100,1000]\n",
    "#}\n",
    "\n",
    "search_grid = { \n",
    "    'solver': ['liblinear'],\n",
    "    'C': [1]\n",
    "}\n",
    "\n",
    "clf_lr_cv_skb = GridSearchCV(estimator=clf_lr, param_grid=search_grid, cv=3, \n",
    "                             scoring='f1_weighted')\n",
    "clf_lr_cv_skb.fit(X, y);\n",
    "\n",
    "print(\"Elapsed Time:\")\n",
    "print(\"--- {:.2f} seconds ---\".format(time.time() - start_time))\n",
    "print(\"--- {:.2f} minutes ---\".format((time.time() - start_time)/60))\n",
    "print()"
   ]
  },
  {
   "cell_type": "code",
   "execution_count": 75,
   "metadata": {},
   "outputs": [
    {
     "name": "stdout",
     "output_type": "stream",
     "text": [
      "Start Time: Mon Mar 23 15:06:13 2020\n",
      "Elapsed Time:\n",
      "--- 1.66 seconds ---\n",
      "--- 0.03 minutes ---\n"
     ]
    }
   ],
   "source": [
    "start_time = time.time()\n",
    "print(\"Start Time: {}\".format(time.ctime()))\n",
    "\n",
    "X = os_data_X\n",
    "y = os_data_y['y'].values.ravel()\n",
    "\n",
    "pca = PCA(n_components = 10)\n",
    "logreg = LogisticRegression(solver='newton-cg',max_iter=50000,C=1)\n",
    "clf_lr = Pipeline([('pca', pca), ('logistic', logreg)])\n",
    "\n",
    "# LESS THAN ONE MINUTE TO RUN\n",
    "# IDENTIFY BEST PARAMETERS WITH GridSearchCV\n",
    "#search_grid = { \n",
    "#    'logistic__solver': ['liblinear', 'newton-cg', 'saga','lbfgs'],\n",
    "#    'logistic__C': [.001,.01,0.1,1,10,100,1000]\n",
    "#}\n",
    "\n",
    "search_grid = { \n",
    "    'logistic__solver': ['newton-cg'],\n",
    "    'logistic__C': [.01]\n",
    "}\n",
    "\n",
    "clf_lr_cv_pca = GridSearchCV(estimator=clf_lr, param_grid=search_grid, cv=3,scoring='f1_weighted')\n",
    "clf_lr_cv_pca.fit(X, y)\n",
    "\n",
    "#print(clf_lr.get_params().keys())\n",
    "\n",
    "print(\"Elapsed Time:\")\n",
    "print(\"--- {:.2f} seconds ---\".format(time.time() - start_time))\n",
    "print(\"--- {:.2f} minutes ---\".format((time.time() - start_time)/60))"
   ]
  },
  {
   "cell_type": "code",
   "execution_count": 76,
   "metadata": {},
   "outputs": [
    {
     "name": "stdout",
     "output_type": "stream",
     "text": [
      "Start Time: Mon Mar 23 15:06:14 2020\n",
      "Elapsed Time:\n",
      "--- 0.75 seconds ---\n",
      "--- 0.01 minutes ---\n"
     ]
    }
   ],
   "source": [
    "start_time = time.time()\n",
    "print(\"Start Time: {}\".format(time.ctime()))\n",
    "\n",
    "X = os_data_X[feature_rfe]\n",
    "y = os_data_y['y'].values.ravel()\n",
    "\n",
    "clf_lr = LogisticRegression(solver='liblinear', max_iter=50000) # USUALLY lbfgs REVIEW\n",
    "\n",
    "#search_grid = { \n",
    "#    'solver': ['liblinear', 'newton-cg', 'saga','lbfgs'],\n",
    "#    'C': [.001,.01,0.1,1,10,100,1000]\n",
    "#}\n",
    "\n",
    "# LESS THAN ONE MINUTE TO RUN\n",
    "# IDENTIFY BEST PARAMETERS WITH GridSearchCV\n",
    "search_grid = { \n",
    "    'solver': ['liblinear'],\n",
    "    'C': [1000]\n",
    "}\n",
    "\n",
    "clf_lr_cv_rfe = GridSearchCV(estimator=clf_lr, param_grid=search_grid, cv=3,scoring='f1_weighted')\n",
    "clf_lr_cv_rfe.fit(X, y);\n",
    "\n",
    "print(\"Elapsed Time:\")\n",
    "print(\"--- {:.2f} seconds ---\".format(time.time() - start_time))\n",
    "print(\"--- {:.2f} minutes ---\".format((time.time() - start_time)/60))"
   ]
  },
  {
   "cell_type": "code",
   "execution_count": 77,
   "metadata": {},
   "outputs": [
    {
     "name": "stdout",
     "output_type": "stream",
     "text": [
      "Start Time: Mon Mar 23 15:06:15 2020\n",
      "Elapsed Time:\n",
      "--- 0.82 seconds ---\n",
      "--- 0.01 minutes ---\n"
     ]
    }
   ],
   "source": [
    "start_time = time.time()\n",
    "print(\"Start Time: {}\".format(time.ctime()))\n",
    "\n",
    "X = os_data_X[feature_etc]\n",
    "y = os_data_y['y'].values.ravel()\n",
    "\n",
    "clf_lr = LogisticRegression(solver='lbfgs', max_iter=50000) # USUALLY lbfgs REVIEW\n",
    "\n",
    "# LESS THAN ONE MINUTE TO RUN\n",
    "# IDENTIFY BEST PARAMETERS WITH GridSearchCV\n",
    "#search_grid = { \n",
    "#    'solver': ['liblinear', 'newton-cg', 'saga','lbfgs'],\n",
    "#    'C': [.001,.01,0.1,1,10,100,1000]\n",
    "#}\n",
    "\n",
    "search_grid = { \n",
    "    'solver': ['liblinear'],\n",
    "    'C': [.01]\n",
    "} \n",
    "\n",
    "clf_lr_cv_etc = GridSearchCV(estimator=clf_lr, param_grid=search_grid, cv=3, scoring='f1_weighted')\n",
    "clf_lr_cv_etc.fit(X, y);\n",
    "\n",
    "print(\"Elapsed Time:\")\n",
    "print(\"--- {:.2f} seconds ---\".format(time.time() - start_time))\n",
    "print(\"--- {:.2f} minutes ---\".format((time.time() - start_time)/60))"
   ]
  },
  {
   "cell_type": "code",
   "execution_count": 78,
   "metadata": {},
   "outputs": [
    {
     "name": "stdout",
     "output_type": "stream",
     "text": [
      "Accuracy Best Paramaters GridSearchCV:\n",
      "\tSelectKBest:\t\t\t0.727\n",
      "\tRecursive Feature Elimination:\t0.730\n",
      "\tExtraTreesClassifer:\t\t0.728\n",
      "\tPrincipal Component Analysis:\t0.725\n",
      "\n",
      "Best Paramaters GridSearchCV:\n",
      "SKB: {'C': 1, 'solver': 'liblinear'}\n",
      "RFE: {'C': 1000, 'solver': 'liblinear'}\n",
      "ETC: {'C': 0.01, 'solver': 'liblinear'}\n",
      "PCA: {'logistic__C': 0.01, 'logistic__solver': 'newton-cg'}\n"
     ]
    }
   ],
   "source": [
    "print(\"Accuracy Best Paramaters GridSearchCV:\")\n",
    "print(\"\\tSelectKBest:\\t\\t\\t{:.3f}\".format(              clf_lr_cv_skb.best_score_))\n",
    "print(\"\\tRecursive Feature Elimination:\\t{:.3f}\".format(clf_lr_cv_rfe.best_score_))\n",
    "print(\"\\tExtraTreesClassifer:\\t\\t{:.3f}\".format(        clf_lr_cv_etc.best_score_))\n",
    "print(\"\\tPrincipal Component Analysis:\\t{:.3f}\".format( clf_lr_cv_pca.best_score_))\n",
    "print()\n",
    "print(\"Best Paramaters GridSearchCV:\")\n",
    "print(\"SKB: {}\".format(clf_lr_cv_skb.best_params_))\n",
    "print(\"RFE: {}\".format(clf_lr_cv_rfe.best_params_))\n",
    "print(\"ETC: {}\".format(clf_lr_cv_etc.best_params_))\n",
    "print(\"PCA: {}\".format(clf_lr_cv_pca.best_params_))"
   ]
  },
  {
   "cell_type": "markdown",
   "metadata": {},
   "source": [
    "#### Did GridSearchCV and these were results for best performing parameters\n",
    "\n",
    "Accuracy Best Paramaters GridSearchCV:  \n",
    "\tSelectKBest:\t\t\t        0.730  \n",
    "\tRecursive Feature Elimination:\t0.738  \n",
    "\tExtraTreesClassifer:\t\t    0.733  \n",
    "\tPrincipal Component Analysis:\t0.730  \n",
    "\n",
    "Best Paramaters GridSearchCV:  \n",
    "\n",
    "SKB: {'C': 1, 'solver': 'liblinear'}  \n",
    "RFE: {'C': 1000, 'solver': 'liblinear'}  \n",
    "ETC: {'C': 0.01, 'solver': 'liblinear'}  \n",
    "PCA: {'logistic__C': 0.01, 'logistic__solver': 'newton-cg'}  \n",
    "\n",
    "RFE threw some warning, which are likely due to selecting all \"no\". Thus its score will be thrown out, when selecting best parameters. As ETC was highest with no errors, will use ETC to represent LR.\n",
    "\n",
    "ETC: {'C': 0.01, 'solver': 'liblinear'} \n",
    "\n",
    "#### Note, as Logistic Regression was used in feature set selection, it has a potential issue with curve fitting."
   ]
  },
  {
   "cell_type": "markdown",
   "metadata": {},
   "source": [
    "### Model 2 - Random Forest\n",
    "\n",
    "https://scikit-learn.org/stable/modules/generated/sklearn.ensemble.RandomForestClassifier.html"
   ]
  },
  {
   "cell_type": "code",
   "execution_count": 79,
   "metadata": {},
   "outputs": [
    {
     "name": "stdout",
     "output_type": "stream",
     "text": [
      "Start Time: Mon Mar 23 15:06:16 2020\n",
      "Elapsed Time:\n",
      "--- 48.21 seconds ---\n",
      "--- 0.80 minutes ---\n"
     ]
    }
   ],
   "source": [
    "start_time = time.time()\n",
    "print(\"Start Time: {}\".format(time.ctime()))\n",
    "\n",
    "X = os_data_X[feature_skb]\n",
    "y = os_data_y['y'].values.ravel()\n",
    "\n",
    "clf_rfc = ensemble.RandomForestClassifier(criterion='gini', n_estimators=1000, max_features='log2', \n",
    "                                          max_depth=4, n_jobs=-1) \n",
    "# SIX MINUTES TO RUN\n",
    "#parameter_candidates = { \n",
    "#    'n_estimators': [1000, 2000],\n",
    "#    'max_features': ['sqrt','log2'],\n",
    "#    'criterion': ['gini'],\n",
    "#    'max_depth': [1,2,3,4]\n",
    "#}\n",
    "parameter_candidates = { \n",
    "    'criterion': ['gini'],\n",
    "    'n_estimators': [1000],\n",
    "    'max_features': ['log2'],\n",
    "    'max_depth': [4]\n",
    "}\n",
    "clf_rfc_cv_skb = GridSearchCV(estimator=clf_rfc, param_grid=parameter_candidates, cv=3, \n",
    "                              scoring='f1_weighted')\n",
    "clf_rfc_cv_skb.fit(X, y);\n",
    "\n",
    "print(\"Elapsed Time:\")\n",
    "print(\"--- {:.2f} seconds ---\".format(time.time() - start_time))\n",
    "print(\"--- {:.2f} minutes ---\".format((time.time() - start_time)/60))"
   ]
  },
  {
   "cell_type": "code",
   "execution_count": 80,
   "metadata": {},
   "outputs": [
    {
     "name": "stdout",
     "output_type": "stream",
     "text": [
      "Start Time: Mon Mar 23 15:07:04 2020\n",
      "Elapsed Time:\n",
      "--- 182.67 seconds ---\n",
      "--- 3.04 minutes ---\n"
     ]
    }
   ],
   "source": [
    "start_time = time.time()\n",
    "print(\"Start Time: {}\".format(time.ctime()))\n",
    "\n",
    "pca = PCA(n_components = 10)\n",
    "clf_rfc = ensemble.RandomForestClassifier(criterion='gini', n_estimators=2000, max_features='log2',\n",
    "                                          max_depth=4, n_jobs=-1) \n",
    "clf_rfc = Pipeline([('pca', pca), ('clf', clf_rfc)])\n",
    "\n",
    "# 27.3 MINUTES TO RUN\n",
    "#parameter_candidates = { \n",
    "#    'clf__n_estimators': [1000,2000],\n",
    "#    'clf__max_features': ['sqrt','log2'],\n",
    "#    'clf__criterion': ['gini'],\n",
    "#    'clf__max_depth': [2,3,4],\n",
    "#    'pca__n_components': [4,6,8,10]\n",
    "#}\n",
    "parameter_candidates = { \n",
    "    'clf__criterion': ['gini'],\n",
    "    'clf__n_estimators': [2000],\n",
    "    'clf__max_features': ['log2'],\n",
    "    'clf__max_depth': [4],\n",
    "    'pca__n_components': [10]\n",
    "}\n",
    "\n",
    "clf_rfc_cv_pca = GridSearchCV(estimator=clf_rfc, param_grid=parameter_candidates, cv=3, \n",
    "                              scoring='f1_weighted')\n",
    "clf_rfc_cv_pca.fit(X, y)\n",
    "#print(clf_lr.get_params().keys())\n",
    "\n",
    "print(\"Elapsed Time:\")\n",
    "print(\"--- {:.2f} seconds ---\".format(time.time() - start_time))\n",
    "print(\"--- {:.2f} minutes ---\".format((time.time() - start_time)/60))"
   ]
  },
  {
   "cell_type": "code",
   "execution_count": 81,
   "metadata": {},
   "outputs": [
    {
     "name": "stdout",
     "output_type": "stream",
     "text": [
      "Start Time: Mon Mar 23 15:10:07 2020\n",
      "Elapsed Time:\n",
      "--- 41.93 seconds ---\n",
      "--- 0.70 minutes ---\n"
     ]
    }
   ],
   "source": [
    "start_time = time.time()\n",
    "print(\"Start Time: {}\".format(time.ctime()))\n",
    "\n",
    "X = os_data_X[feature_rfe]\n",
    "X_test_top = X_test[feature_rfe]\n",
    "\n",
    "clf_rfc = ensemble.RandomForestClassifier(criterion='gini', n_estimators=1000, max_features='log2',\n",
    "                                          max_depth=4, n_jobs=-1) \n",
    "# SIX AND A HALF MINUTES TO RUN\n",
    "#parameter_candidates = { \n",
    "#    'n_estimators': [1000, 2000],\n",
    "#    'max_features': ['sqrt','log2'],\n",
    "#    'criterion': ['gini'],\n",
    "#    'max_depth': [1,2,3,4]\n",
    "#}\n",
    "parameter_candidates = { \n",
    "    'criterion': ['gini'],\n",
    "    'n_estimators': [1000],\n",
    "    'max_features': ['log2'],\n",
    "    'max_depth': [4]\n",
    "}\n",
    "\n",
    "clf_rfc_cv_rfe = GridSearchCV(estimator=clf_rfc, param_grid=parameter_candidates, cv=3,\n",
    "                              scoring='f1_weighted')\n",
    "clf_rfc_cv_rfe.fit(X, y)\n",
    "\n",
    "print(\"Elapsed Time:\")\n",
    "print(\"--- {:.2f} seconds ---\".format(time.time() - start_time))\n",
    "print(\"--- {:.2f} minutes ---\".format((time.time() - start_time)/60))"
   ]
  },
  {
   "cell_type": "code",
   "execution_count": 82,
   "metadata": {},
   "outputs": [
    {
     "name": "stdout",
     "output_type": "stream",
     "text": [
      "Start Time: Mon Mar 23 15:10:49 2020\n",
      "Elapsed Time:\n",
      "--- 84.06 seconds ---\n",
      "--- 1.40 minutes ---\n"
     ]
    }
   ],
   "source": [
    "start_time = time.time()\n",
    "print(\"Start Time: {}\".format(time.ctime()))\n",
    "\n",
    "X = os_data_X[feature_etc]\n",
    "y = os_data_y['y'].values.ravel()\n",
    "\n",
    "clf_rfc = ensemble.RandomForestClassifier(criterion='gini', n_estimators=2000, \n",
    "                                          max_features='log2', max_depth=4, n_jobs=-1) \n",
    "# LESS THAN SIX AND A HALF MINUTES TO RUN\n",
    "#parameter_candidates = { \n",
    "#    'n_estimators': [1000, 2000],\n",
    "#    'max_features': ['sqrt','log2'],\n",
    "#    'criterion': ['gini'],\n",
    "#    'max_depth': [1,2,3,4]\n",
    "#}\n",
    "parameter_candidates = { \n",
    "    'criterion': ['gini'],\n",
    "    'n_estimators': [2000],\n",
    "    'max_features': ['log2'],\n",
    "    'max_depth': [4]\n",
    "}\n",
    "\n",
    "clf_rfc_cv_etc = GridSearchCV(estimator=clf_rfc, param_grid=parameter_candidates, cv=3, \n",
    "                              scoring='f1_weighted')\n",
    "clf_rfc_cv_etc.fit(X, y)\n",
    "\n",
    "print(\"Elapsed Time:\")\n",
    "print(\"--- {:.2f} seconds ---\".format(time.time() - start_time))\n",
    "print(\"--- {:.2f} minutes ---\".format((time.time() - start_time)/60))"
   ]
  },
  {
   "cell_type": "code",
   "execution_count": 83,
   "metadata": {},
   "outputs": [
    {
     "name": "stdout",
     "output_type": "stream",
     "text": [
      "Accuracy Best Paramaters GridSearchCV:\n",
      "SelectKBest:\t\t\t0.750\n",
      "Recursive Feature Elimination:\t0.759\n",
      "ExtraTreesClassifer:\t\t0.752\n",
      "Principal Component Analysis:\t0.734\n",
      "\n",
      "Best Paramaters GridSearchCV:\n",
      "SKB:{'criterion': 'gini', 'max_depth': 4, 'max_features': 'log2', 'n_estimators': 1000}\n",
      "RFE:{'criterion': 'gini', 'max_depth': 4, 'max_features': 'log2', 'n_estimators': 1000}\n",
      "ETC:{'criterion': 'gini', 'max_depth': 4, 'max_features': 'log2', 'n_estimators': 2000}\n",
      "PCA:{'clf__criterion': 'gini', 'clf__max_depth': 4, 'clf__max_features': 'log2', 'clf__n_estimators': 2000, 'pca__n_components': 10}\n"
     ]
    }
   ],
   "source": [
    "print(\"Accuracy Best Paramaters GridSearchCV:\")\n",
    "print(\"SelectKBest:\\t\\t\\t{:.3f}\".format(clf_rfc_cv_skb.best_score_))\n",
    "print(\"Recursive Feature Elimination:\\t{:.3f}\".format(clf_rfc_cv_rfe.best_score_))\n",
    "print(\"ExtraTreesClassifer:\\t\\t{:.3f}\".format(clf_rfc_cv_etc.best_score_))\n",
    "print(\"Principal Component Analysis:\\t{:.3f}\".format(clf_rfc_cv_pca.best_score_))\n",
    "print()\n",
    "print(\"Best Paramaters GridSearchCV:\")\n",
    "print(\"SKB:{}\".format(clf_rfc_cv_skb.best_params_))\n",
    "print(\"RFE:{}\".format(clf_rfc_cv_rfe.best_params_))\n",
    "print(\"ETC:{}\".format(clf_rfc_cv_etc.best_params_))\n",
    "print(\"PCA:{}\".format(clf_rfc_cv_pca.best_params_))"
   ]
  },
  {
   "cell_type": "markdown",
   "metadata": {},
   "source": [
    "#### Analysis: \n",
    "Recursive feature analysis has best performance of all by significant margin.   \n",
    "\n",
    "Accuracy Best Paramaters GridSearchCV:  \n",
    "SelectKBest:\t\t\t0.752  \n",
    "Recursive Feature Elimination:\t0.773  \n",
    "ExtraTreesClassifer:\t\t0.755  \n",
    "Principal Component Analysis:\t0.726  \n",
    "\n",
    "Best Paramaters GridSearchCV:  \n",
    "SKB:{'criterion': 'gini', 'max_depth': 4, 'max_features': 'log2', 'n_estimators': 1000}  \n",
    "RFE:{'criterion': 'gini', 'max_depth': 4, 'max_features': 'log2', 'n_estimators': 1000}  \n",
    "ETC:{'criterion': 'gini', 'max_depth': 4, 'max_features': 'log2', 'n_estimators': 2000}  \n",
    "PCA:{'clf__criterion': 'gini', 'clf__max_depth': 4, 'clf__max_features': 'log2', 'clf__n_estimators': 1000, 'pca__n_components': 10}  "
   ]
  },
  {
   "cell_type": "markdown",
   "metadata": {},
   "source": [
    "### Model 3 - Support Vector Machine"
   ]
  },
  {
   "cell_type": "code",
   "execution_count": 84,
   "metadata": {},
   "outputs": [
    {
     "name": "stdout",
     "output_type": "stream",
     "text": [
      "Start Time: Mon Mar 23 15:12:13 2020\n",
      "Elapsed Time:\n",
      "--- 221.10 seconds ---\n",
      "--- 3.68 minutes ---\n"
     ]
    }
   ],
   "source": [
    "start_time = time.time()\n",
    "print(\"Start Time: {}\".format(time.ctime()))\n",
    "\n",
    "X = os_data_X[feature_skb]\n",
    "X_test_top = X_test[feature_skb]\n",
    "y = os_data_y['y'].values.ravel()\n",
    "y_test = y_test\n",
    "\n",
    "clf_svc = SVC(C=.01, kernel='linear')\n",
    "\n",
    "# SHORT TIME TO RUN, FEW MIN\n",
    "parameter_candidates = [\n",
    "  {'C': [.01], 'kernel': ['linear']},\n",
    "]\n",
    "\n",
    "# 77 MINUTES TO RUN  # TRY POLYNOMIAL KERNAL IF TWO DIMENSIONAL PCA GRAPH IS LOOKS LIKE \n",
    "#parameter_candidates = [\n",
    "#  {'C': [.01, 1, 10], 'kernel': ['linear']}\n",
    "#  {'C': [.01, 1, 10], 'gamma': [0.001, 0.0001], 'kernel': ['rbf']},\n",
    "#]\n",
    "\n",
    "# CREATE CLASSIFIER OBJECT AND SEARCH FOR BEST PARAMATER SETTINGS WITH GridSearchCV\n",
    "clf_svc_cv_skb = GridSearchCV(estimator=clf_svc, param_grid=parameter_candidates, cv=3, \n",
    "                              scoring='f1_weighted')\n",
    "clf_svc_cv_skb.fit(X, y);\n",
    "\n",
    "print(\"Elapsed Time:\")\n",
    "print(\"--- {:.2f} seconds ---\".format(time.time() - start_time))\n",
    "print(\"--- {:.2f} minutes ---\".format((time.time() - start_time)/60))"
   ]
  },
  {
   "cell_type": "code",
   "execution_count": 85,
   "metadata": {},
   "outputs": [
    {
     "name": "stdout",
     "output_type": "stream",
     "text": [
      "Start Time: Mon Mar 23 15:15:54 2020\n",
      "Elapsed Time:\n",
      "--- 140.91 seconds ---\n",
      "--- 2.35 minutes ---\n"
     ]
    }
   ],
   "source": [
    "start_time = time.time()\n",
    "print(\"Start Time: {}\".format(time.ctime()))\n",
    "\n",
    "X = os_data_X\n",
    "X_test_top = X_test\n",
    "\n",
    "pca = PCA(n_components = 10)\n",
    "clf_svc = SVC(C=.01, kernel='linear')\n",
    "clf_svc = Pipeline([('pca', pca), ('logistic', clf_svc)])\n",
    "\n",
    "# SHORT TIME TO RUN, FEW MIN\n",
    "parameter_candidates = [\n",
    "  {'logistic__C': [.01], 'logistic__kernel': ['linear']},\n",
    "]\n",
    "\n",
    "# 77 MINUTES TO RUN\n",
    "#parameter_candidates = [\n",
    "#  {'logistic__C': [.01, 1, 10], 'logistic__kernel': ['linear']},\n",
    "#  {'logistic__C': [.01, 1, 10], 'logistic__gamma': [0.001, 0.0001], \n",
    "#   'logistic__kernel': ['rbf'], 'pca__n_components': [3,4,5]},\n",
    "#]\n",
    "\n",
    "# CREATE CLASSIFIER OBJECT AND SEARCH FOR BEST PARAMATER SETTINGS WITH GridSearchCV\n",
    "clf_svc_cv_pca = GridSearchCV(estimator=clf_svc, param_grid=parameter_candidates, cv=3, \n",
    "                              scoring='f1_weighted')\n",
    "clf_svc_cv_pca.fit(X, y);\n",
    "\n",
    "print(\"Elapsed Time:\")\n",
    "print(\"--- {:.2f} seconds ---\".format(time.time() - start_time))\n",
    "print(\"--- {:.2f} minutes ---\".format((time.time() - start_time)/60))"
   ]
  },
  {
   "cell_type": "code",
   "execution_count": 86,
   "metadata": {},
   "outputs": [
    {
     "name": "stdout",
     "output_type": "stream",
     "text": [
      "Start Time: Mon Mar 23 15:18:15 2020\n",
      "Elapsed Time:\n",
      "--- 215.76 seconds ---\n",
      "--- 3.60 minutes ---\n"
     ]
    }
   ],
   "source": [
    "start_time = time.time()\n",
    "print(\"Start Time: {}\".format(time.ctime()))\n",
    "\n",
    "X = os_data_X[feature_rfe]\n",
    "X_test_top = X_test[feature_rfe]\n",
    "\n",
    "clf_svc = SVC(C=.01, kernel='linear')\n",
    "\n",
    "# SHORT TIME TO RUN, FEW MIN\n",
    "parameter_candidates = [\n",
    "  {'C': [.01], 'kernel': ['linear']},\n",
    "]\n",
    "\n",
    "# 77 MINUTES TO RUN\n",
    "#parameter_candidates = [\n",
    "#  {'C': [.01, 10, 1000], 'kernel': ['linear']},\n",
    "#  {'C': [.01, 100, 1000], 'gamma': [0.001, 0.0001], 'kernel': ['rbf']},\n",
    "#]\n",
    "\n",
    "# CREATE CLASSIFIER OBJECT AND SEARCH FOR BEST PARAMATER SETTINGS WITH GridSearchCV\n",
    "clf_svc_cv_rfe = GridSearchCV(estimator=clf_svc, param_grid=parameter_candidates, cv=3, \n",
    "                              scoring='f1_weighted')\n",
    "clf_svc_cv_rfe.fit(X, y);\n",
    "\n",
    "print(\"Elapsed Time:\")\n",
    "print(\"--- {:.2f} seconds ---\".format(time.time() - start_time))\n",
    "print(\"--- {:.2f} minutes ---\".format((time.time() - start_time)/60))"
   ]
  },
  {
   "cell_type": "code",
   "execution_count": 87,
   "metadata": {},
   "outputs": [
    {
     "name": "stdout",
     "output_type": "stream",
     "text": [
      "Start Time: Mon Mar 23 15:21:51 2020\n",
      "Elapsed Time:\n",
      "--- 243.11 seconds ---\n",
      "--- 4.05 minutes ---\n"
     ]
    }
   ],
   "source": [
    "start_time = time.time()\n",
    "print(\"Start Time: {}\".format(time.ctime()))\n",
    "\n",
    "X = os_data_X[feature_etc]\n",
    "X_test_top = X_test[feature_etc]\n",
    "\n",
    "clf_svc = SVC(C=.01, kernel='linear')\n",
    "\n",
    "# SHORT TIME TO RUN, FEW MIN\n",
    "parameter_candidates = [\n",
    "  {'C': [.01], 'kernel': ['linear']},\n",
    "]\n",
    "# 77 MINUTES TO RUN\n",
    "#parameter_candidates = [\n",
    "#  {'C': [.01, 10, 1000], 'kernel': ['linear']},\n",
    "#  {'C': [.01, 100, 1000], 'gamma': [0.001, 0.0001], 'kernel': ['rbf']},\n",
    "#]\n",
    "\n",
    "# CREATE CLASSIFIER OBJECT AND SEARCH FOR BEST PARAMATER SETTINGS WITH GridSearchCV\n",
    "clf_svc_cv_etc = GridSearchCV(estimator=clf_svc, param_grid=parameter_candidates, cv=3, \n",
    "                              scoring='f1_weighted')\n",
    "clf_svc_cv_etc.fit(X, y);\n",
    "\n",
    "print(\"Elapsed Time:\")\n",
    "print(\"--- {:.2f} seconds ---\".format(time.time() - start_time))\n",
    "print(\"--- {:.2f} minutes ---\".format((time.time() - start_time)/60))"
   ]
  },
  {
   "cell_type": "code",
   "execution_count": 88,
   "metadata": {},
   "outputs": [
    {
     "name": "stdout",
     "output_type": "stream",
     "text": [
      "Accuracy Best Paramaters GridSearchCV:\n",
      "SelectKBest:\t\t\t0.718\n",
      "Recursive Feature Elimination:\t0.718\n",
      "ExtraTreesClassifer:\t\t0.718\n",
      "Principal Component Analysis:\t0.718\n",
      "\n",
      "Best Paramaters GridSearchCV:\n",
      "SKB:{'C': 0.01, 'kernel': 'linear'}\n",
      "RFE:{'C': 0.01, 'kernel': 'linear'}\n",
      "ETC:{'C': 0.01, 'kernel': 'linear'}\n",
      "PCA:{'logistic__C': 0.01, 'logistic__kernel': 'linear'}\n"
     ]
    }
   ],
   "source": [
    "print(\"Accuracy Best Paramaters GridSearchCV:\")\n",
    "print(\"SelectKBest:\\t\\t\\t{:.3f}\".format(clf_svc_cv_skb.best_score_))\n",
    "print(\"Recursive Feature Elimination:\\t{:.3f}\".format(clf_svc_cv_rfe.best_score_))\n",
    "print(\"ExtraTreesClassifer:\\t\\t{:.3f}\".format(clf_svc_cv_etc.best_score_))\n",
    "print(\"Principal Component Analysis:\\t{:.3f}\".format(clf_svc_cv_pca.best_score_))\n",
    "print()\n",
    "print(\"Best Paramaters GridSearchCV:\")\n",
    "print(\"SKB:{}\".format(clf_svc_cv_skb.best_params_))\n",
    "print(\"RFE:{}\".format(clf_svc_cv_rfe.best_params_))\n",
    "print(\"ETC:{}\".format(clf_svc_cv_etc.best_params_))\n",
    "print(\"PCA:{}\".format(clf_svc_cv_pca.best_params_))"
   ]
  },
  {
   "cell_type": "markdown",
   "metadata": {},
   "source": [
    "### Model 4 - Gradient Boosting Classifier"
   ]
  },
  {
   "cell_type": "code",
   "execution_count": 89,
   "metadata": {},
   "outputs": [
    {
     "name": "stdout",
     "output_type": "stream",
     "text": [
      "Start Time: Mon Mar 23 15:25:54 2020\n",
      "--- 491.63640213012695 seconds ---\n",
      "--- 8.193940035502116 minutes ---\n"
     ]
    }
   ],
   "source": [
    "start_time = time.time()\n",
    "print(\"Start Time: {}\".format(time.ctime()))\n",
    "\n",
    "X = os_data_X[feature_skb]\n",
    "X_test_top = X_test[feature_skb]\n",
    "y = os_data_y['y'].values.ravel()\n",
    "\n",
    "clf_gbc = ensemble.GradientBoostingClassifier(n_estimators=2000, learning_rate=0.01, max_depth=3,\n",
    "                                              subsample=.75, random_state=42, loss='deviance')\n",
    "#3.3 MINUTES\n",
    "parameter_candidates={'n_estimators':[2000],\n",
    "                      'learning_rate':[0.01],\n",
    "                      'max_depth':[3],\n",
    "                      'subsample':[.75],\n",
    "                      'loss': ['deviance']}\n",
    "\n",
    "#604 MINUTES\n",
    "#parameter_candidates={'n_estimators':[1000,2000],\n",
    "#             'learning_rate':[.001,0.01,.1],\n",
    "#             'max_depth':[1,2,3,4],\n",
    "#             'subsample':[.25,.5,.75],\n",
    "#             'loss': ['deviance', 'exponential']}\n",
    "\n",
    "clf_gbc_cv_skb = GridSearchCV(estimator=clf_gbc, param_grid=parameter_candidates, cv=3, n_jobs=-1, \n",
    "                              scoring='f1_weighted')\n",
    "clf_gbc_cv_skb.fit(X, y);\n",
    "\n",
    "print(\"--- %s seconds ---\" % (time.time() - start_time))\n",
    "print(\"--- %s minutes ---\" % ((time.time() - start_time)/60))"
   ]
  },
  {
   "cell_type": "code",
   "execution_count": 90,
   "metadata": {},
   "outputs": [
    {
     "name": "stdout",
     "output_type": "stream",
     "text": [
      "Start Time: Mon Mar 23 15:34:06 2020\n",
      "--- 344.9848494529724 seconds ---\n",
      "--- 5.749764144420624 minutes ---\n"
     ]
    }
   ],
   "source": [
    "start_time = time.time()\n",
    "print(\"Start Time: {}\".format(time.ctime()))\n",
    "\n",
    "pca = PCA(n_components = 10)\n",
    "clf_gbc = ensemble.GradientBoostingClassifier(n_estimators=2000, learning_rate=0.01, max_depth=3,\n",
    "                                              subsample=.75, random_state=42, loss='deviance')\n",
    "clf_gbc = Pipeline([('pca', pca), ('logistic', clf_gbc)])\n",
    "\n",
    "# TWO MINUTES\n",
    "parameter_candidates={'logistic__n_estimators':[2000],\n",
    "                      'logistic__learning_rate':[0.01],\n",
    "                      'logistic__max_depth':[3],\n",
    "                      'logistic__subsample':[.75],\n",
    "                      'logistic__loss':['deviance']}\n",
    "\n",
    "#604 MINUTES\n",
    "#parameter_candidates={'logistic__n_estimators':[1000,2000],\n",
    "#                      'logistic__learning_rate':[.001,0.01,.1],\n",
    "#                      'logistic__max_depth':[1,2,3,4],\n",
    "#                      'logistic__subsample':[.25,.5,.75],\n",
    "#                      'logistic__loss': ['deviance', 'exponential']}\n",
    "\n",
    "clf_gbc_cv_pca = GridSearchCV(estimator=clf_gbc, param_grid=parameter_candidates, cv=3, n_jobs=-1,\n",
    "                              scoring='f1_weighted')\n",
    "clf_gbc_cv_pca.fit(X, y);\n",
    "#print(clf_svc.get_params().keys())\n",
    "\n",
    "print(\"--- %s seconds ---\" % (time.time() - start_time))\n",
    "print(\"--- %s minutes ---\" % ((time.time() - start_time)/60))"
   ]
  },
  {
   "cell_type": "code",
   "execution_count": 91,
   "metadata": {},
   "outputs": [
    {
     "name": "stdout",
     "output_type": "stream",
     "text": [
      "Start Time: Mon Mar 23 15:39:51 2020\n",
      "--- 384.7716066837311 seconds ---\n",
      "--- 6.412876776854197 minutes ---\n"
     ]
    }
   ],
   "source": [
    "start_time = time.time()\n",
    "print(\"Start Time: {}\".format(time.ctime()))\n",
    "\n",
    "X = os_data_X[feature_rfe]\n",
    "X_test_top = X_test[feature_rfe]\n",
    "\n",
    "clf_gbc = ensemble.GradientBoostingClassifier(n_estimators=2000, learning_rate=0.01, max_depth=3,\n",
    "                                              subsample=.75, random_state=42, loss='deviance')\n",
    "# THREE MINUTES\n",
    "parameter_candidates={'n_estimators':[2000],\n",
    "                      'learning_rate':[0.01],\n",
    "                      'max_depth':[3],\n",
    "                      'subsample':[.75],\n",
    "                      'loss': ['deviance']}\n",
    "\n",
    "#604 MINUTES\n",
    "#parameter_candidates={'n_estimators':[1000,2000],\n",
    "#                      'learning_rate':[.001,0.01,.1],\n",
    "#                      'max_depth':[1,2,3,4],\n",
    "#                      'subsample':[.25,.5,.75],\n",
    "#                      'loss': ['deviance', 'exponential']}\n",
    "\n",
    "clf_gbc_cv_rfe = GridSearchCV(estimator=clf_gbc, param_grid=parameter_candidates, cv=3, n_jobs=-1,\n",
    "                              scoring='f1_weighted')\n",
    "clf_gbc_cv_rfe.fit(X, y);\n",
    "\n",
    "print(\"--- %s seconds ---\" % (time.time() - start_time))\n",
    "print(\"--- %s minutes ---\" % ((time.time() - start_time)/60))"
   ]
  },
  {
   "cell_type": "code",
   "execution_count": 92,
   "metadata": {},
   "outputs": [
    {
     "name": "stdout",
     "output_type": "stream",
     "text": [
      "Start Time: Mon Mar 23 15:46:15 2020\n",
      "--- 433.2146987915039 seconds ---\n",
      "--- 7.220261633396149 minutes ---\n"
     ]
    }
   ],
   "source": [
    "start_time = time.time()\n",
    "print(\"Start Time: {}\".format(time.ctime()))\n",
    "\n",
    "X = os_data_X[feature_etc]\n",
    "X_test_top = X_test[feature_etc]\n",
    "\n",
    "clf_gbc = ensemble.GradientBoostingClassifier(n_estimators=2000, learning_rate=0.01, max_depth=3,\n",
    "                                              subsample=.75, random_state=42, loss='deviance')\n",
    "# THREE MINUTES\n",
    "parameter_candidates={'n_estimators':[2000],\n",
    "                      'learning_rate':[0.01],\n",
    "                      'max_depth':[3],\n",
    "                      'subsample':[.75],\n",
    "                      'loss': ['deviance']}\n",
    "\n",
    "#604 MINUTES\n",
    "#parameter_candidates={'n_estimators':[1000,2000],\n",
    "#                      'learning_rate':[.001,0.01,.1],\n",
    "#                      'max_depth':[1,2,3,4], \n",
    "#                      'subsample':[.25,.5,.75],\n",
    "#                      'loss': ['deviance', 'exponential']}\n",
    "\n",
    "clf_gbc_cv_etc = GridSearchCV(estimator=clf_gbc, param_grid=parameter_candidates, cv=3, n_jobs=-1,\n",
    "                              scoring='f1_weighted')\n",
    "clf_gbc_cv_etc.fit(X, y);\n",
    "\n",
    "print(\"--- %s seconds ---\" % (time.time() - start_time))\n",
    "print(\"--- %s minutes ---\" % ((time.time() - start_time)/60))"
   ]
  },
  {
   "cell_type": "code",
   "execution_count": 93,
   "metadata": {},
   "outputs": [
    {
     "name": "stdout",
     "output_type": "stream",
     "text": [
      "Accuracy Best Paramaters GridSearchCV:\n",
      "SelectKBest:\t\t\t0.897\n",
      "Recursive Feature Elimination:\t0.877\n",
      "ExtraTreesClassifer:\t\t0.905\n",
      "Principal Component Analysis:\t0.784\n",
      "\n",
      "Best Paramaters GridSearchCV:\n",
      "SKB:{'learning_rate': 0.01, 'loss': 'deviance', 'max_depth': 3, 'n_estimators': 2000, 'subsample': 0.75}\n",
      "RFE:{'learning_rate': 0.01, 'loss': 'deviance', 'max_depth': 3, 'n_estimators': 2000, 'subsample': 0.75}\n",
      "ETC:{'learning_rate': 0.01, 'loss': 'deviance', 'max_depth': 3, 'n_estimators': 2000, 'subsample': 0.75}\n",
      "PCA:{'logistic__learning_rate': 0.01, 'logistic__loss': 'deviance', 'logistic__max_depth': 3, 'logistic__n_estimators': 2000, 'logistic__subsample': 0.75}\n"
     ]
    }
   ],
   "source": [
    "print(\"Accuracy Best Paramaters GridSearchCV:\")\n",
    "print(\"SelectKBest:\\t\\t\\t{:.3f}\".format(clf_gbc_cv_skb.best_score_))\n",
    "print(\"Recursive Feature Elimination:\\t{:.3f}\".format(clf_gbc_cv_rfe.best_score_))\n",
    "print(\"ExtraTreesClassifer:\\t\\t{:.3f}\".format(clf_gbc_cv_etc.best_score_))\n",
    "print(\"Principal Component Analysis:\\t{:.3f}\".format(clf_gbc_cv_pca.best_score_))\n",
    "print()\n",
    "print(\"Best Paramaters GridSearchCV:\")\n",
    "print(\"SKB:{}\".format(clf_gbc_cv_skb.best_params_))\n",
    "print(\"RFE:{}\".format(clf_gbc_cv_rfe.best_params_))\n",
    "print(\"ETC:{}\".format(clf_gbc_cv_etc.best_params_))\n",
    "print(\"PCA:{}\".format(clf_gbc_cv_pca.best_params_))"
   ]
  },
  {
   "cell_type": "markdown",
   "metadata": {},
   "source": [
    "### Training summary: testing four feature lists on four models"
   ]
  },
  {
   "cell_type": "markdown",
   "metadata": {},
   "source": [
    "Logistic Regression: Accuracy Best Paramaters GridSearchCV  \n",
    "\n",
    ">Highest performance Logistic Regression with Recursive Feature Elimination  \n",
    "0.730  SelectKBest  \n",
    "0.738  Recursive Feature Elimination  \t\n",
    "0.733  ExtraTreesClassifer  \n",
    "0.730  Principal Component Analysis  "
   ]
  },
  {
   "cell_type": "markdown",
   "metadata": {},
   "source": [
    "Random Forest:  Accuracy Best Paramaters GridSearchCV    \n",
    ">Highest performance Random Forest with Recursive Feature Elimination  \n",
    ".75 SelectKBest  \n",
    ".77 Recursive Feature Elimination  \n",
    ".75 ExtraTreesClassifer   \n",
    ".72 Principal Component Analysis  "
   ]
  },
  {
   "cell_type": "markdown",
   "metadata": {},
   "source": [
    "SVM: Accuracy Best Paramaters GridSearchCV  \n",
    "> Highest performance SVM with ExtraTreesClassifier   \n",
    "0.711 SelectKBest  \n",
    "0.711 Recursive Feature Elimination  \t \n",
    "0.718 ExtraTreesClassifer  \n",
    "0.713 Principal Component Analysis\t "
   ]
  },
  {
   "cell_type": "markdown",
   "metadata": {},
   "source": [
    "GBC: Accuracy Best Paramaters GridSearchCV  \n",
    "> Highest performance GBC with ExtraTreesClassifier  \n",
    "0.897 SelectKBest  \n",
    "0.885 Recursive Feature Elimination\t  \n",
    "0.908 ExtraTreesClassifer    \n",
    "0.782 Principal Component Analysis  "
   ]
  },
  {
   "cell_type": "markdown",
   "metadata": {},
   "source": [
    "#### Analysis:\n",
    "* Overall the best performing list across models appears to be ETC. \n",
    "* ETC and GBC strongest performing combo in training. \n",
    "\n",
    "There is a high variance in the weighted f1 scores for LR and GBC, but a low variance with SVM and RF. This implies that LR and GBC are sensitive to changes in features, where RF and SVM are less sensitive to changes in features.  \n",
    "\n",
    "The highest performing models in traing were GBC, RF, SVM, and LR.\n",
    "\n",
    "RF had a big jump from training to testing, as did SVM and LR. GBC dropped.   "
   ]
  },
  {
   "cell_type": "markdown",
   "metadata": {},
   "source": [
    "## Test Set Predictions with best performing feature list"
   ]
  },
  {
   "cell_type": "markdown",
   "metadata": {},
   "source": [
    "### Model 1 - Logistic Regression - Test Set Predictions"
   ]
  },
  {
   "cell_type": "code",
   "execution_count": 94,
   "metadata": {},
   "outputs": [],
   "source": [
    "feature_top = feature_rfe\n",
    "X = os_data_X[feature_top]\n",
    "X_test_top = X_test[feature_top]\n",
    "\n",
    "#ETC: {'C': 0.01, 'solver': 'liblinear'} \n",
    "clf_lr_cv_best = LogisticRegression(C=1000, solver='liblinear', max_iter=50000 )\n",
    "y_pred_train_lr = clf_lr_cv_best.fit(X, y).predict(X)\n",
    "y_pred_test_lr = clf_lr_cv_best.fit(X, y).predict(X_test_top)"
   ]
  },
  {
   "cell_type": "code",
   "execution_count": 95,
   "metadata": {},
   "outputs": [
    {
     "name": "stdout",
     "output_type": "stream",
     "text": [
      "              precision    recall  f1-score   support\n",
      "\n",
      "           0       0.70      0.82      0.75     24452\n",
      "           1       0.78      0.65      0.71     24452\n",
      "\n",
      "    accuracy                           0.73     48904\n",
      "   macro avg       0.74      0.73      0.73     48904\n",
      "weighted avg       0.74      0.73      0.73     48904\n",
      "\n"
     ]
    }
   ],
   "source": [
    "print(classification_report(y, y_pred_train_lr))"
   ]
  },
  {
   "cell_type": "code",
   "execution_count": 96,
   "metadata": {},
   "outputs": [
    {
     "name": "stdout",
     "output_type": "stream",
     "text": [
      "              precision    recall  f1-score   support\n",
      "\n",
      "           0       0.95      0.82      0.88     12061\n",
      "           1       0.30      0.64      0.41      1516\n",
      "\n",
      "    accuracy                           0.80     13577\n",
      "   macro avg       0.63      0.73      0.64     13577\n",
      "weighted avg       0.88      0.80      0.83     13577\n",
      "\n"
     ]
    }
   ],
   "source": [
    "print(classification_report(y_test, y_pred_test_lr))"
   ]
  },
  {
   "cell_type": "code",
   "execution_count": 97,
   "metadata": {},
   "outputs": [
    {
     "name": "stdout",
     "output_type": "stream",
     "text": [
      "Confusion matrix\n",
      "  TN\tFP\n",
      "  FN\tTP\n",
      "[[9841 2220]\n",
      " [ 544  972]]\n"
     ]
    }
   ],
   "source": [
    "# COMPUTE CONFUSION MATRIX\n",
    "cm = confusion_matrix(y_test, y_pred_test_lr)\n",
    "np.set_printoptions(precision=2)\n",
    "print('Confusion matrix')\n",
    "print('  TN\\tFP')\n",
    "print('  FN\\tTP')\n",
    "print(cm)"
   ]
  },
  {
   "cell_type": "markdown",
   "metadata": {},
   "source": [
    "### Model 2 - Random Forest - Test Set Predictions"
   ]
  },
  {
   "cell_type": "code",
   "execution_count": 98,
   "metadata": {},
   "outputs": [],
   "source": [
    "feature_top = feature_rfe\n",
    "X = os_data_X[feature_top]\n",
    "X_test_top = X_test[feature_top]\n",
    "\n",
    "clf_rfc_cv_best = ensemble.RandomForestClassifier(criterion='gini', n_estimators=1000, \n",
    "                                                  max_features='log2', max_depth=4, n_jobs=-1)\n",
    "\n",
    "y_pred_train_rfc = clf_rfc_cv_best.fit(X, y).predict(X)\n",
    "y_pred_test_rfc = clf_rfc_cv_best.fit(X, y).predict(X_test_top)"
   ]
  },
  {
   "cell_type": "code",
   "execution_count": 99,
   "metadata": {},
   "outputs": [
    {
     "name": "stdout",
     "output_type": "stream",
     "text": [
      "              precision    recall  f1-score   support\n",
      "\n",
      "           0       0.71      0.87      0.78     24452\n",
      "           1       0.83      0.65      0.73     24452\n",
      "\n",
      "    accuracy                           0.76     48904\n",
      "   macro avg       0.77      0.76      0.76     48904\n",
      "weighted avg       0.77      0.76      0.76     48904\n",
      "\n"
     ]
    }
   ],
   "source": [
    "print(classification_report(y, y_pred_train_rfc))"
   ]
  },
  {
   "cell_type": "code",
   "execution_count": 100,
   "metadata": {},
   "outputs": [
    {
     "name": "stdout",
     "output_type": "stream",
     "text": [
      "              precision    recall  f1-score   support\n",
      "\n",
      "           0       0.95      0.87      0.91     12061\n",
      "           1       0.37      0.60      0.46      1516\n",
      "\n",
      "    accuracy                           0.84     13577\n",
      "   macro avg       0.66      0.73      0.68     13577\n",
      "weighted avg       0.88      0.84      0.86     13577\n",
      "\n"
     ]
    }
   ],
   "source": [
    "print(classification_report(y_test, y_pred_test_rfc))"
   ]
  },
  {
   "cell_type": "code",
   "execution_count": 101,
   "metadata": {},
   "outputs": [
    {
     "name": "stdout",
     "output_type": "stream",
     "text": [
      "Confusion matrix\n",
      "  TN\tFP\n",
      "  FN\tTP\n",
      "[[10493  1568]\n",
      " [  607   909]]\n"
     ]
    }
   ],
   "source": [
    "# COMPUTE CONFUSION MATRIX\n",
    "cm = confusion_matrix(y_test, y_pred_test_rfc)\n",
    "np.set_printoptions(precision=2)\n",
    "print('Confusion matrix')\n",
    "print('  TN\\tFP')\n",
    "print('  FN\\tTP')\n",
    "print(cm)"
   ]
  },
  {
   "cell_type": "markdown",
   "metadata": {},
   "source": [
    "### Model 3 - Support Vector Machine - Test Set Predictions"
   ]
  },
  {
   "cell_type": "code",
   "execution_count": 102,
   "metadata": {},
   "outputs": [],
   "source": [
    "feature_top = feature_etc\n",
    "X = os_data_X[feature_top]\n",
    "X_test_top = X_test[feature_top]\n",
    "\n",
    "clf_svc_cv_best = SVC(C=.01, kernel='linear')\n",
    "y_pred_train_svc = clf_svc_cv_best.fit(X, y).predict(X)\n",
    "y_pred_test_svc = clf_svc_cv_best.fit(X, y).predict(X_test_top)"
   ]
  },
  {
   "cell_type": "code",
   "execution_count": 103,
   "metadata": {},
   "outputs": [
    {
     "name": "stdout",
     "output_type": "stream",
     "text": [
      "              precision    recall  f1-score   support\n",
      "\n",
      "           0       0.72      0.72      0.72     24452\n",
      "           1       0.72      0.71      0.72     24452\n",
      "\n",
      "    accuracy                           0.72     48904\n",
      "   macro avg       0.72      0.72      0.72     48904\n",
      "weighted avg       0.72      0.72      0.72     48904\n",
      "\n"
     ]
    }
   ],
   "source": [
    "print(classification_report(y, y_pred_train_svc))"
   ]
  },
  {
   "cell_type": "code",
   "execution_count": 104,
   "metadata": {},
   "outputs": [
    {
     "name": "stdout",
     "output_type": "stream",
     "text": [
      "              precision    recall  f1-score   support\n",
      "\n",
      "           0       0.95      0.72      0.82     12061\n",
      "           1       0.24      0.70      0.36      1516\n",
      "\n",
      "    accuracy                           0.72     13577\n",
      "   macro avg       0.60      0.71      0.59     13577\n",
      "weighted avg       0.87      0.72      0.77     13577\n",
      "\n"
     ]
    }
   ],
   "source": [
    "print(classification_report(y_test, y_pred_test_svc))"
   ]
  },
  {
   "cell_type": "code",
   "execution_count": 105,
   "metadata": {},
   "outputs": [
    {
     "name": "stdout",
     "output_type": "stream",
     "text": [
      "Confusion matrix\n",
      "  TN\tFP\n",
      "  FN\tTP\n",
      "[[8679 3382]\n",
      " [ 449 1067]]\n"
     ]
    }
   ],
   "source": [
    "# COMPUTE CONFUSION MATRIX\n",
    "cm = confusion_matrix(y_test, y_pred_test_svc)\n",
    "np.set_printoptions(precision=2)\n",
    "print('Confusion matrix')\n",
    "print('  TN\\tFP')\n",
    "print('  FN\\tTP')\n",
    "print(cm)"
   ]
  },
  {
   "cell_type": "markdown",
   "metadata": {},
   "source": [
    "### Model 4 - Gradient Boosting Classifier - Test Set Predictions"
   ]
  },
  {
   "cell_type": "code",
   "execution_count": 106,
   "metadata": {},
   "outputs": [],
   "source": [
    "feature_top = feature_etc\n",
    "X = os_data_X[feature_top]\n",
    "X_test_top = X_test[feature_top]\n",
    "\n",
    "clf_gbc_cv_best=ensemble.GradientBoostingClassifier(n_estimators=2000,learning_rate=0.01,\n",
    "                                                    subsample=.75,max_depth=3,random_state=42,\n",
    "                                                    loss='deviance')\n",
    "y_pred_train_gbc = clf_gbc_cv_best.fit(X, y).predict(X)\n",
    "y_pred_test_gbc  = clf_gbc_cv_best.fit(X, y).predict(X_test_top)"
   ]
  },
  {
   "cell_type": "code",
   "execution_count": 107,
   "metadata": {},
   "outputs": [
    {
     "name": "stdout",
     "output_type": "stream",
     "text": [
      "              precision    recall  f1-score   support\n",
      "\n",
      "           0       0.91      0.95      0.92     24452\n",
      "           1       0.94      0.90      0.92     24452\n",
      "\n",
      "    accuracy                           0.92     48904\n",
      "   macro avg       0.92      0.92      0.92     48904\n",
      "weighted avg       0.92      0.92      0.92     48904\n",
      "\n"
     ]
    }
   ],
   "source": [
    "print(classification_report(y, y_pred_train_gbc))"
   ]
  },
  {
   "cell_type": "code",
   "execution_count": 108,
   "metadata": {},
   "outputs": [
    {
     "name": "stdout",
     "output_type": "stream",
     "text": [
      "              precision    recall  f1-score   support\n",
      "\n",
      "           0       0.93      0.94      0.93     12061\n",
      "           1       0.47      0.39      0.43      1516\n",
      "\n",
      "    accuracy                           0.88     13577\n",
      "   macro avg       0.70      0.67      0.68     13577\n",
      "weighted avg       0.87      0.88      0.88     13577\n",
      "\n"
     ]
    }
   ],
   "source": [
    "print(classification_report(y_test, y_pred_test_gbc))"
   ]
  },
  {
   "cell_type": "code",
   "execution_count": 109,
   "metadata": {},
   "outputs": [
    {
     "name": "stdout",
     "output_type": "stream",
     "text": [
      "Confusion matrix\n",
      "  TN\tFP\n",
      "  FN\tTP\n",
      "[[11393   668]\n",
      " [  918   598]]\n"
     ]
    }
   ],
   "source": [
    "# COMPUTE CONFUSION MATRIX\n",
    "cm = confusion_matrix(y_test, y_pred_test_gbc)\n",
    "np.set_printoptions(precision=2)\n",
    "print('Confusion matrix')\n",
    "print('  TN\\tFP')\n",
    "print('  FN\\tTP')\n",
    "print(cm)"
   ]
  },
  {
   "cell_type": "markdown",
   "metadata": {},
   "source": [
    "#### Analysis: \n",
    "\n",
    "Test and Training: Weighted F1 scores, SMOTE .33 TRAINING .67 TEST  \n",
    ".73 training -> .82 test: Logistic Regression  \n",
    ".78 training -> .87 test: Random Forest  \n",
    ".73 training -> .85 test: Support Vector Machine  \n",
    ".93 training -> .88 test: Gradient Boost Classifier  \n",
    "\n",
    "Best performing model GBC with ETC feature selection.\n",
    "* All models improved in test set except for GBC.  \n",
    "* All models did well and with > 80% weighted F1. \n",
    "* Jump from training to testing set likely due to SMOTE in training, and when not balanced there are more \"no\" responses to subscription campaign, and thus a higher accuracy.\n",
    "* Best performing model is GBC.  \n",
    "* Worst performing model is LR. "
   ]
  },
  {
   "cell_type": "markdown",
   "metadata": {},
   "source": [
    "###  Model: Conclusion"
   ]
  },
  {
   "cell_type": "markdown",
   "metadata": {},
   "source": [
    "Certain selection methods likely favor certain models due to similar underlying logic. Not a surprise that RF does well with ETC. Could be a form of curve fitting. Ideally would select features and train in each cross validation. LR, since used to select features, may also suffer from a form of curve fitting. \n",
    "\n",
    "RF, SVM, and GBC were expected to perform well. Low Bias / high variance systems meaning more stable when changes to training set occur with not too much known about target.\n",
    "\n",
    "RF, SVM, and LR generalized well. GBC had a performance reduction, but still outperformed other models. When looking at the \"1\" class, the precision and recall were relatively low and possibly concerning. \n",
    "\n",
    "SVM is known for stability of predictions and not overfitting, could show lower variance in prediction scores on different training set sizes and thus be the best model. Would think seriously about using SVM in production over GBC.\n",
    "\n",
    "GBC was the winner, but only model that performed worse in training. May not be be the best model from a stability point of view, or generalization point of view. "
   ]
  },
  {
   "cell_type": "markdown",
   "metadata": {},
   "source": [
    "#### Top Features Conclusion"
   ]
  },
  {
   "cell_type": "code",
   "execution_count": 110,
   "metadata": {},
   "outputs": [
    {
     "data": {
      "image/png": "[encoded data removed]",
      "text/plain": [
       "<Figure size 576x432 with 1 Axes>"
      ]
     },
     "metadata": {
      "needs_background": "light"
     },
     "output_type": "display_data"
    }
   ],
   "source": [
    "feature_importance = clf_gbc_cv_best.feature_importances_\n",
    "\n",
    "plt.figure(figsize=(8,6))\n",
    "# IMPORTANCES RELATIVE TO MAX IMPORTANCE\n",
    "feature_importance = 100.0 * (feature_importance / feature_importance.max())\n",
    "sorted_idx = np.argsort(feature_importance)\n",
    "pos = np.arange(sorted_idx.shape[0]) + .5\n",
    "plt.barh(pos, feature_importance[sorted_idx], align='center')\n",
    "plt.yticks(pos, X.columns[sorted_idx])\n",
    "plt.xlabel('Relative Importance')\n",
    "plt.title('Variable Importance')\n",
    "plt.show()"
   ]
  },
  {
   "cell_type": "markdown",
   "metadata": {},
   "source": [
    "Gradient Boost Classifier had different order of feature importances than that of Extra Trees Classifier even though both tree based. \n",
    "\n",
    "In Gradient Boost Classifier the continuous variables perform well, and may be favored by the trees inside the ensemble model. With regard to economic, which are reported monthly and quarterly, some skepticism may be warranted. These may be specific conditions to a period in time, but provide some input into if marketing is more successful when economy growing, shrinking, flat, and the like.\n",
    "\n",
    "Campaign basically speaks to the fewer the calls, the better the conversion. Success decreases when by exceed 4.\n",
    "\n",
    "Age is rather low in feature importances. Age conversion rate had an inverse correlation with count by age group. Meaning high conversion for young and old, but low for majority between 25 - 55.\n",
    "\n",
    "For categorical variables, housing, loan, day of week, marital and job appear to have the strongest importances."
   ]
  },
  {
   "cell_type": "markdown",
   "metadata": {},
   "source": [
    "### Marketing strategy recommendations:  \n",
    "\n",
    "Key to successful marketing strategy will be to determine wether a mass market or high probability for conversion approach is preferred. \n",
    "\n",
    "Estimates for the cost of acquistion and the lifetime value of the subscription when a yes is received would be helpful.  \n",
    "\n",
    "Once the cost benefit is available, can create a threshold for decision making and cater the campaign to meet either the budget or mass market requirements.    \n",
    "\n",
    "If not mass market then would consider these to optimize cost benefit: \n",
    "* Know cost of acquisition and lifetime value\n",
    "* Concentrate on > 40 and keep contacts < 4\n",
    "* Determine favorable economic environment\n",
    "* Categorical variables, focus on home loan, personal loan, day of week, and job. "
   ]
  },
  {
   "cell_type": "markdown",
   "metadata": {},
   "source": [
    "#### Weaknesses\n",
    "* GBC performance dropped in test. \n",
    "* Precision and recall dropped in test for \"1\" class. The low performance may speak to inability to generalize and market to target audience effectively.\n",
    "* Economic data is primarily monthly or quarterly and likely specific to time period and not reliable. \n",
    "* Not an even dispersion of telemarketing calls over months.\n",
    "* Jobs vary by region, may not be helpful and introduce bias.\n",
    "* Some of categorical variables have a higher conversion rate at tails of distribution, but low rates for the majority. Significance, if not controlled for, may not scale in real world.   "
   ]
  },
  {
   "cell_type": "markdown",
   "metadata": {},
   "source": [
    "#### Proposal for Additional Studies:\n",
    "\n",
    "1) Model sensitivity:  \n",
    "To check sensitivity of models to training set, one can set the SMOTE split to different training/testing percentages. For example, to test small training set, set to .05, then go to .5, then to .9 to see which model is performs best and which is most consistent across the split sizes. \n",
    "\n",
    "2) PCA and other dimension reduction techniques:  \n",
    "Interesting study would be two take the top two PCA components and graph to see if have linear seperation, polynomial, or blob. Before the predictions graph and use 'y', the target variable, as the color. For SVM use RBF if blob, polynomial if polynomial.\n",
    "\n",
    "3) Variation on SMOTE:  \n",
    "Test undersampling the majority verses oversampling the majority, and alternative methods to balance the training set.\n",
    "\n",
    "4) Cluster Analysis:\n",
    "Do customer segmentation for yes and no target labels and idenify attributes of high probability customer, and low probability customer.\n",
    "  \n",
    "5) No economic or social inputs.\n",
    "\n",
    "6) Quantify lifetime value of customer.\n",
    "\n",
    "7) Quantify cost of acquisition."
   ]
  },
  {
   "cell_type": "code",
   "execution_count": null,
   "metadata": {},
   "outputs": [],
   "source": []
  }
 ],
 "metadata": {
  "kernelspec": {
   "display_name": "Python 3",
   "language": "python",
   "name": "python3"
  },
  "language_info": {
   "codemirror_mode": {
    "name": "ipython",
    "version": 3
   },
   "file_extension": ".py",
   "mimetype": "text/x-python",
   "name": "python",
   "nbconvert_exporter": "python",
   "pygments_lexer": "ipython3",
   "version": "3.7.3"
  }
 },
 "nbformat": 4,
 "nbformat_minor": 2
}
