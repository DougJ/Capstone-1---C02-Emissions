{
 "cells": [
  {
   "cell_type": "markdown",
   "metadata": {},
   "source": [
    "# CAPSTONE 1: GLOBAL C02 EMISSION ANALYSIS\n"
   ]
  },
  {
   "cell_type": "markdown",
   "metadata": {},
   "source": [
    "## THREE QUESTIONS FOR CAPSTONE:  \n",
    "\n",
    "### 1. Which region has the most emissions, and which region has the least?\n",
    "\n",
    "\n",
    "### 2. Which emission types have the highest and lowest emissions levels?\n",
    "\n",
    "\n",
    "### 3. Are the emission types correlated?"
   ]
  },
  {
   "cell_type": "markdown",
   "metadata": {},
   "source": [
    "\n",
    "## About the CDIAC dataset. \n",
    "\n",
    "CO2 emissions are at the center of a significant global debate on the risks and validity of climate change. The data in this analysis was downloaded from the Carbon Dioxide Information Analysis Center [CDIAC](https://cdiac.ess-dive.lbl.gov/trends/emis/overview_2014.html) and is considered to be approximations that are generally accurate. In the data set there is numeric data for solid, liquid, gas, cement, and flaring emissions, including aggregated totals from as early as 1751 to 2014. For more information about collection and processing of the data, please read the about section below or visit the website.\n",
    "\n",
    "Common issues to consider: lack of reporting, lack of standards, lack of oversight, intentionally reporting erroneous data, pollution in international territory, clandestine pollution, construction of data Regions by CDIAC, changes in nation state status like collapse of USSR, and other similar circumstances.\n",
    "\n",
    "About    \n",
    "    The 1950 to present CO2 emission estimates are derived primarily from energy statistics published by the United Nations (2017), using the methods of Marland and Rotty (1984). The energy statistics were compiled primarily from annual questionnaires distributed by the U.N. Statistical Office and supplemented by official national statistical publications. As stated in the introduction of the Statistical Yearbook, \"in a few cases, official sources are supplemented by other sources and estimates, where these have been subjected to professional scrutiny and debate and are consistent with other independent sources.\" Data from the U.S. Department of Interior's Geological Survey (USGS 2017) were used to estimate CO2 emitted during cement production. Values for emissions from gas flaring were derived primarily from U.N. data but were supplemented with data from the U.S. Department of Energy's Energy Information Administration (1994), Rotty (1974), and data provided by G. Marland. Greater details about these methods are provided in Marland and Rotty (1984), Boden et al. (1995), and Andres et al. (1999).\n",
    "    \n"
   ]
  },
  {
   "cell_type": "markdown",
   "metadata": {},
   "source": [
    "\n",
    "## EXPLORE THE DATASET"
   ]
  },
  {
   "cell_type": "code",
   "execution_count": 3,
   "metadata": {},
   "outputs": [],
   "source": [
    "import matplotlib.pyplot as plt\n",
    "import numpy as np\n",
    "import pandas as pd\n",
    "import seaborn as sns\n",
    "%matplotlib inline"
   ]
  },
  {
   "cell_type": "code",
   "execution_count": 4,
   "metadata": {
    "scrolled": false
   },
   "outputs": [],
   "source": [
    "df = pd.read_csv('C:\\\\Users\\\\DJ\\\\Documents\\\\AnacondaPython\\\\Thinkful\\\\FilesToLoadThinkful\\\\C02_Emissions_ALL_UTF8.csv')"
   ]
  },
  {
   "cell_type": "code",
   "execution_count": 5,
   "metadata": {},
   "outputs": [
    {
     "data": {
      "text/plain": [
       "(1768, 9)"
      ]
     },
     "execution_count": 5,
     "metadata": {},
     "output_type": "execute_result"
    }
   ],
   "source": [
    "df.shape"
   ]
  },
  {
   "cell_type": "code",
   "execution_count": 6,
   "metadata": {},
   "outputs": [
    {
     "data": {
      "text/html": [
       "<div>\n",
       "<style scoped>\n",
       "    .dataframe tbody tr th:only-of-type {\n",
       "        vertical-align: middle;\n",
       "    }\n",
       "\n",
       "    .dataframe tbody tr th {\n",
       "        vertical-align: top;\n",
       "    }\n",
       "\n",
       "    .dataframe thead th {\n",
       "        text-align: right;\n",
       "    }\n",
       "</style>\n",
       "<table border=\"1\" class=\"dataframe\">\n",
       "  <thead>\n",
       "    <tr style=\"text-align: right;\">\n",
       "      <th></th>\n",
       "      <th>Year</th>\n",
       "      <th>Total CO2 emissions from fossil-fuels and cement production (thousand metric tons of C)</th>\n",
       "      <th>Emissions from solid fuel consumption</th>\n",
       "      <th>Emissions from liquid fuel consumption</th>\n",
       "      <th>Emissions from gas fuel consumption</th>\n",
       "      <th>Emissions from cement production</th>\n",
       "      <th>Emissions from gas flaring</th>\n",
       "    </tr>\n",
       "  </thead>\n",
       "  <tbody>\n",
       "    <tr>\n",
       "      <th>count</th>\n",
       "      <td>1768.000000</td>\n",
       "      <td>1.768000e+03</td>\n",
       "      <td>1.768000e+03</td>\n",
       "      <td>1768.000000</td>\n",
       "      <td>1768.000000</td>\n",
       "      <td>1768.000000</td>\n",
       "      <td>1768.000000</td>\n",
       "    </tr>\n",
       "    <tr>\n",
       "      <th>mean</th>\n",
       "      <td>1919.466063</td>\n",
       "      <td>2.211117e+05</td>\n",
       "      <td>1.078961e+05</td>\n",
       "      <td>73957.700792</td>\n",
       "      <td>31089.415724</td>\n",
       "      <td>6221.949095</td>\n",
       "      <td>1946.580317</td>\n",
       "    </tr>\n",
       "    <tr>\n",
       "      <th>std</th>\n",
       "      <td>61.953996</td>\n",
       "      <td>3.720830e+05</td>\n",
       "      <td>1.928213e+05</td>\n",
       "      <td>138920.444077</td>\n",
       "      <td>77749.189212</td>\n",
       "      <td>21821.010141</td>\n",
       "      <td>5381.827877</td>\n",
       "    </tr>\n",
       "    <tr>\n",
       "      <th>min</th>\n",
       "      <td>1751.000000</td>\n",
       "      <td>1.000000e+00</td>\n",
       "      <td>0.000000e+00</td>\n",
       "      <td>-105.000000</td>\n",
       "      <td>0.000000</td>\n",
       "      <td>0.000000</td>\n",
       "      <td>0.000000</td>\n",
       "    </tr>\n",
       "    <tr>\n",
       "      <th>25%</th>\n",
       "      <td>1880.000000</td>\n",
       "      <td>5.327750e+03</td>\n",
       "      <td>3.775000e+03</td>\n",
       "      <td>0.000000</td>\n",
       "      <td>0.000000</td>\n",
       "      <td>0.000000</td>\n",
       "      <td>0.000000</td>\n",
       "    </tr>\n",
       "    <tr>\n",
       "      <th>50%</th>\n",
       "      <td>1926.000000</td>\n",
       "      <td>4.887400e+04</td>\n",
       "      <td>2.820800e+04</td>\n",
       "      <td>2672.000000</td>\n",
       "      <td>7.000000</td>\n",
       "      <td>0.000000</td>\n",
       "      <td>0.000000</td>\n",
       "    </tr>\n",
       "    <tr>\n",
       "      <th>75%</th>\n",
       "      <td>1970.000000</td>\n",
       "      <td>2.691118e+05</td>\n",
       "      <td>1.450960e+05</td>\n",
       "      <td>88473.500000</td>\n",
       "      <td>12425.250000</td>\n",
       "      <td>5566.250000</td>\n",
       "      <td>111.250000</td>\n",
       "    </tr>\n",
       "    <tr>\n",
       "      <th>max</th>\n",
       "      <td>2014.000000</td>\n",
       "      <td>2.868887e+06</td>\n",
       "      <td>2.078153e+06</td>\n",
       "      <td>744101.000000</td>\n",
       "      <td>446154.000000</td>\n",
       "      <td>348176.000000</td>\n",
       "      <td>55321.000000</td>\n",
       "    </tr>\n",
       "  </tbody>\n",
       "</table>\n",
       "</div>"
      ],
      "text/plain": [
       "              Year  \\\n",
       "count  1768.000000   \n",
       "mean   1919.466063   \n",
       "std      61.953996   \n",
       "min    1751.000000   \n",
       "25%    1880.000000   \n",
       "50%    1926.000000   \n",
       "75%    1970.000000   \n",
       "max    2014.000000   \n",
       "\n",
       "       Total CO2 emissions from fossil-fuels and cement production (thousand metric tons of C)  \\\n",
       "count                                       1.768000e+03                                         \n",
       "mean                                        2.211117e+05                                         \n",
       "std                                         3.720830e+05                                         \n",
       "min                                         1.000000e+00                                         \n",
       "25%                                         5.327750e+03                                         \n",
       "50%                                         4.887400e+04                                         \n",
       "75%                                         2.691118e+05                                         \n",
       "max                                         2.868887e+06                                         \n",
       "\n",
       "       Emissions from solid fuel consumption  \\\n",
       "count                           1.768000e+03   \n",
       "mean                            1.078961e+05   \n",
       "std                             1.928213e+05   \n",
       "min                             0.000000e+00   \n",
       "25%                             3.775000e+03   \n",
       "50%                             2.820800e+04   \n",
       "75%                             1.450960e+05   \n",
       "max                             2.078153e+06   \n",
       "\n",
       "       Emissions from liquid fuel consumption  \\\n",
       "count                             1768.000000   \n",
       "mean                             73957.700792   \n",
       "std                             138920.444077   \n",
       "min                               -105.000000   \n",
       "25%                                  0.000000   \n",
       "50%                               2672.000000   \n",
       "75%                              88473.500000   \n",
       "max                             744101.000000   \n",
       "\n",
       "       Emissions from gas fuel consumption  Emissions from cement production  \\\n",
       "count                          1768.000000                       1768.000000   \n",
       "mean                          31089.415724                       6221.949095   \n",
       "std                           77749.189212                      21821.010141   \n",
       "min                               0.000000                          0.000000   \n",
       "25%                               0.000000                          0.000000   \n",
       "50%                               7.000000                          0.000000   \n",
       "75%                           12425.250000                       5566.250000   \n",
       "max                          446154.000000                     348176.000000   \n",
       "\n",
       "       Emissions from gas flaring  \n",
       "count                 1768.000000  \n",
       "mean                  1946.580317  \n",
       "std                   5381.827877  \n",
       "min                      0.000000  \n",
       "25%                      0.000000  \n",
       "50%                      0.000000  \n",
       "75%                    111.250000  \n",
       "max                  55321.000000  "
      ]
     },
     "execution_count": 6,
     "metadata": {},
     "output_type": "execute_result"
    }
   ],
   "source": [
    "df.describe()"
   ]
  },
  {
   "cell_type": "code",
   "execution_count": 7,
   "metadata": {},
   "outputs": [
    {
     "data": {
      "text/html": [
       "<div>\n",
       "<style scoped>\n",
       "    .dataframe tbody tr th:only-of-type {\n",
       "        vertical-align: middle;\n",
       "    }\n",
       "\n",
       "    .dataframe tbody tr th {\n",
       "        vertical-align: top;\n",
       "    }\n",
       "\n",
       "    .dataframe thead th {\n",
       "        text-align: right;\n",
       "    }\n",
       "</style>\n",
       "<table border=\"1\" class=\"dataframe\">\n",
       "  <thead>\n",
       "    <tr style=\"text-align: right;\">\n",
       "      <th></th>\n",
       "      <th>Region</th>\n",
       "      <th>Year</th>\n",
       "      <th>Total CO2 emissions from fossil-fuels and cement production (thousand metric tons of C)</th>\n",
       "      <th>Emissions from solid fuel consumption</th>\n",
       "      <th>Emissions from liquid fuel consumption</th>\n",
       "      <th>Emissions from gas fuel consumption</th>\n",
       "      <th>Emissions from cement production</th>\n",
       "      <th>Emissions from gas flaring</th>\n",
       "      <th>Per capita CO2 emissions (metric tons of carbon)</th>\n",
       "    </tr>\n",
       "  </thead>\n",
       "  <tbody>\n",
       "    <tr>\n",
       "      <th>0</th>\n",
       "      <td>Africa</td>\n",
       "      <td>1884</td>\n",
       "      <td>6</td>\n",
       "      <td>6</td>\n",
       "      <td>0</td>\n",
       "      <td>0</td>\n",
       "      <td>0</td>\n",
       "      <td>0</td>\n",
       "      <td>.</td>\n",
       "    </tr>\n",
       "    <tr>\n",
       "      <th>1</th>\n",
       "      <td>Africa</td>\n",
       "      <td>1885</td>\n",
       "      <td>10</td>\n",
       "      <td>10</td>\n",
       "      <td>0</td>\n",
       "      <td>0</td>\n",
       "      <td>0</td>\n",
       "      <td>0</td>\n",
       "      <td>.</td>\n",
       "    </tr>\n",
       "    <tr>\n",
       "      <th>2</th>\n",
       "      <td>Africa</td>\n",
       "      <td>1886</td>\n",
       "      <td>13</td>\n",
       "      <td>13</td>\n",
       "      <td>0</td>\n",
       "      <td>0</td>\n",
       "      <td>0</td>\n",
       "      <td>0</td>\n",
       "      <td>.</td>\n",
       "    </tr>\n",
       "    <tr>\n",
       "      <th>3</th>\n",
       "      <td>Africa</td>\n",
       "      <td>1887</td>\n",
       "      <td>13</td>\n",
       "      <td>13</td>\n",
       "      <td>0</td>\n",
       "      <td>0</td>\n",
       "      <td>0</td>\n",
       "      <td>0</td>\n",
       "      <td>.</td>\n",
       "    </tr>\n",
       "    <tr>\n",
       "      <th>4</th>\n",
       "      <td>Africa</td>\n",
       "      <td>1888</td>\n",
       "      <td>22</td>\n",
       "      <td>22</td>\n",
       "      <td>0</td>\n",
       "      <td>0</td>\n",
       "      <td>0</td>\n",
       "      <td>0</td>\n",
       "      <td>.</td>\n",
       "    </tr>\n",
       "  </tbody>\n",
       "</table>\n",
       "</div>"
      ],
      "text/plain": [
       "   Region  Year  \\\n",
       "0  Africa  1884   \n",
       "1  Africa  1885   \n",
       "2  Africa  1886   \n",
       "3  Africa  1887   \n",
       "4  Africa  1888   \n",
       "\n",
       "   Total CO2 emissions from fossil-fuels and cement production (thousand metric tons of C)  \\\n",
       "0                                                  6                                         \n",
       "1                                                 10                                         \n",
       "2                                                 13                                         \n",
       "3                                                 13                                         \n",
       "4                                                 22                                         \n",
       "\n",
       "   Emissions from solid fuel consumption  \\\n",
       "0                                      6   \n",
       "1                                     10   \n",
       "2                                     13   \n",
       "3                                     13   \n",
       "4                                     22   \n",
       "\n",
       "   Emissions from liquid fuel consumption  \\\n",
       "0                                       0   \n",
       "1                                       0   \n",
       "2                                       0   \n",
       "3                                       0   \n",
       "4                                       0   \n",
       "\n",
       "   Emissions from gas fuel consumption  Emissions from cement production  \\\n",
       "0                                    0                                 0   \n",
       "1                                    0                                 0   \n",
       "2                                    0                                 0   \n",
       "3                                    0                                 0   \n",
       "4                                    0                                 0   \n",
       "\n",
       "   Emissions from gas flaring Per capita CO2 emissions (metric tons of carbon)  \n",
       "0                           0                                                .  \n",
       "1                           0                                                .  \n",
       "2                           0                                                .  \n",
       "3                           0                                                .  \n",
       "4                           0                                                .  "
      ]
     },
     "execution_count": 7,
     "metadata": {},
     "output_type": "execute_result"
    }
   ],
   "source": [
    "df.head()"
   ]
  },
  {
   "cell_type": "code",
   "execution_count": 8,
   "metadata": {},
   "outputs": [
    {
     "data": {
      "text/plain": [
       "Region                                                                                     0.0\n",
       "Year                                                                                       0.0\n",
       "Total CO2 emissions from fossil-fuels and cement production (thousand metric tons of C)    0.0\n",
       "Emissions from solid fuel consumption                                                      0.0\n",
       "Emissions from liquid fuel consumption                                                     0.0\n",
       "Emissions from gas fuel consumption                                                        0.0\n",
       "Emissions from cement production                                                           0.0\n",
       "Emissions from gas flaring                                                                 0.0\n",
       "Per capita CO2 emissions (metric tons of carbon)                                           0.0\n",
       "dtype: float64"
      ]
     },
     "execution_count": 8,
     "metadata": {},
     "output_type": "execute_result"
    }
   ],
   "source": [
    "df.isnull().mean() # CHECK FOR NULLS, COUNTS ARE OFF"
   ]
  },
  {
   "cell_type": "code",
   "execution_count": 9,
   "metadata": {},
   "outputs": [
    {
     "data": {
      "text/plain": [
       "array(['Africa', 'Developing America', 'Centrally Planned Asia',\n",
       "       'Centrally Planned Europe', 'Far East', 'Germany', 'Middle East',\n",
       "       'North America', 'Oceania', 'Western Europe'], dtype=object)"
      ]
     },
     "execution_count": 9,
     "metadata": {},
     "output_type": "execute_result"
    }
   ],
   "source": [
    "df.Region.unique() # UNIQUE REGIONS IN DATASET"
   ]
  },
  {
   "cell_type": "code",
   "execution_count": 10,
   "metadata": {},
   "outputs": [],
   "source": [
    "df.columns = ['Region', 'Year', 'Total', 'Solids', 'Liquids', 'Gases', 'Cement','Flaring', 'Total_Per_Capita'] # RENAME COLUMNS SO MORE INTUITIVE"
   ]
  },
  {
   "cell_type": "code",
   "execution_count": 11,
   "metadata": {},
   "outputs": [],
   "source": [
    "df['Total_Per_Capita'] = pd.to_numeric(df.Total_Per_Capita, errors='coerce') # ADJUST NaN ISSUE WITH DATA SET"
   ]
  },
  {
   "cell_type": "code",
   "execution_count": 12,
   "metadata": {},
   "outputs": [],
   "source": [
    "df_1950 = df[df.Year >= 1950] # SELECT DATA FROM 1950 TO 2014 "
   ]
  },
  {
   "cell_type": "markdown",
   "metadata": {},
   "source": [
    "## EXPLAIN DATASET\n",
    "- C02 emissions data for ten regions, ordered by year.\n",
    "- Data set contains seven data categories for each of the ten regions:   \n",
    ">  Five individual emission categories: Solids, Liquids, Gases, Cement, Flaring  \n",
    ">  Two aggregated \"Total\" C02 measures per region: Total and Total Per Capita  \n",
    "- Data for regions go back to 1751 for some, while others 1800s and 1900s.\n",
    "- Per capita measures and a more centralized data collection process through the United Nations started in 1950.\n",
    "- Emissions from gas flaring for some regions start after 1950, but does not impact data in this analysis.\n",
    "- This report will use data from 1950 to 2014. "
   ]
  },
  {
   "cell_type": "markdown",
   "metadata": {},
   "source": [
    "## 1. Which region has the most emissions, and which region has the least?"
   ]
  },
  {
   "cell_type": "markdown",
   "metadata": {},
   "source": [
    "#### To answer this question, each region's total emissions are broken out individually and placed in one chart using the .loc function."
   ]
  },
  {
   "cell_type": "code",
   "execution_count": 13,
   "metadata": {},
   "outputs": [
    {
     "data": {
      "image/png": "[encoded data removed]",
      "text/plain": [
       "<Figure size 432x288 with 1 Axes>"
      ]
     },
     "metadata": {
      "needs_background": "light"
     },
     "output_type": "display_data"
    }
   ],
   "source": [
    "y = df_1950.loc[df_1950.Region=='Africa', 'Total']\n",
    "y2 = df_1950.loc[df_1950.Region=='Centrally Planned Asia', 'Total']\n",
    "y3 = df_1950.loc[df_1950.Region=='Centrally Planned Europe', 'Total']\n",
    "y4 = df_1950.loc[df_1950.Region=='Developing America', 'Total']\n",
    "y5 = df_1950.loc[df_1950.Region=='Far East', 'Total']\n",
    "y6 = df_1950.loc[df_1950.Region=='Germany', 'Total']\n",
    "y7 = df_1950.loc[df_1950.Region=='Middle East', 'Total']\n",
    "y8 = df_1950.loc[df_1950.Region=='North America', 'Total']\n",
    "y9 = df_1950.loc[df_1950.Region=='Oceania', 'Total']\n",
    "y10 = df_1950.loc[df_1950.Region=='Western Europe', 'Total']\n",
    "x = df_1950.loc[df_1950.Region=='Centrally Planned Asia', 'Year']\n",
    "fig = plt.figure()\n",
    "ax = plt.subplot(111)\n",
    "ax.plot(x, y, label='Africa', color='cyan')\n",
    "ax.plot(x, y2, label='Centrally Planned Asia', color='red')\n",
    "ax.plot(x, y3, label='Centrally Planned Europe', color='lightcoral')\n",
    "ax.plot(x, y4, label='Developing America', color='magenta')\n",
    "ax.plot(x, y5, label='Far East', color='grey')\n",
    "ax.plot(x, y6, label='Germany', color='green')\n",
    "ax.plot(x, y7, label='Middle East', color='brown')\n",
    "ax.plot(x, y8, label='North America', color='blue')\n",
    "ax.plot(x, y9, label='Oceania', color='olive')\n",
    "ax.plot(x, y10, label='Western Europe', color='black')\n",
    "plt.xlabel('YEAR')    \n",
    "plt.ylabel('CO2 METRIC TON')\n",
    "plt.title('Total by Region')\n",
    "chartBox = ax.get_position()\n",
    "ax.set_position([chartBox.x0, chartBox.y0, chartBox.width*1, chartBox.height])\n",
    "ax.legend(loc='upper center', bbox_to_anchor=(1.45, 0.8), shadow=True, ncol=1)\n",
    "plt.show()\n"
   ]
  },
  {
   "cell_type": "markdown",
   "metadata": {},
   "source": [
    "#### For clarity the largest vs smallest emission Region are graphed together on one chart"
   ]
  },
  {
   "cell_type": "code",
   "execution_count": 27,
   "metadata": {},
   "outputs": [
    {
     "data": {
      "image/png": "[encoded data removed]",
      "text/plain": [
       "<Figure size 432x288 with 1 Axes>"
      ]
     },
     "metadata": {
      "needs_background": "light"
     },
     "output_type": "display_data"
    }
   ],
   "source": [
    "y = df_1950.loc[df_1950.Region=='Centrally Planned Asia', 'Total']\n",
    "y2 = df_1950.loc[df_1950.Region=='Germany', 'Total']\n",
    "x = df_1950.loc[df_1950.Region=='Centrally Planned Asia', 'Year']\n",
    "fig = plt.figure()\n",
    "ax = plt.subplot(111)\n",
    "ax.plot(x, y, label='Centrally Planned Asia', color='red')\n",
    "ax.plot(x, y2, label='Germany', color='green')\n",
    "plt.title('Highest and lowest, absolute terms')\n",
    "plt.xlabel('YEAR')    \n",
    "plt.ylabel('CO2 METRIC TON')\n",
    "plt.title('Largest and Smallest Regional Totals')\n",
    "chartBox = ax.get_position()\n",
    "ax.set_position([chartBox.x0, chartBox.y0, chartBox.width*1, chartBox.height])\n",
    "ax.legend(loc='upper center', bbox_to_anchor=(1.45, 0.8), shadow=True, ncol=1)\n",
    "plt.show()"
   ]
  },
  {
   "cell_type": "markdown",
   "metadata": {},
   "source": [
    ">  The region with the largest amount of CO2 emissions is Centrally Planned Asia, whose primary country is China. The lowest CO2 emission producing region is Germany. "
   ]
  },
  {
   "cell_type": "markdown",
   "metadata": {},
   "source": [
    "## 2. Which emission type accounts for the most emissions, and which type accounts for the least emissions?"
   ]
  },
  {
   "cell_type": "markdown",
   "metadata": {},
   "source": [
    "#### To identify the amount of emissions for each category, the emissions are grouped by year and summed, then placed in a new dataframe. "
   ]
  },
  {
   "cell_type": "code",
   "execution_count": 15,
   "metadata": {},
   "outputs": [],
   "source": [
    "df_1950_agg = df_1950.groupby(['Year']).sum() # AGGREGATE REGIONAL TOTALS INTO A GLOBAL MEASURE BY YEAR"
   ]
  },
  {
   "cell_type": "markdown",
   "metadata": {},
   "source": [
    "#### Utilizing a boxplot to check quality of the data and the data distribution for each emission type."
   ]
  },
  {
   "cell_type": "code",
   "execution_count": 19,
   "metadata": {},
   "outputs": [
    {
     "data": {
      "text/plain": [
       "<matplotlib.axes._subplots.AxesSubplot at 0xf600fb0>"
      ]
     },
     "execution_count": 19,
     "metadata": {},
     "output_type": "execute_result"
    },
    {
     "data": {
      "image/png": "[encoded data removed]",
      "text/plain": [
       "<Figure size 432x288 with 1 Axes>"
      ]
     },
     "metadata": {
      "needs_background": "light"
     },
     "output_type": "display_data"
    }
   ],
   "source": [
    "df_1950_agg.boxplot(column=['Solids', 'Liquids', 'Gases', 'Cement','Flaring'])"
   ]
  },
  {
   "cell_type": "markdown",
   "metadata": {},
   "source": [
    "#### Charting a time-series to see the growth of each emission type over time."
   ]
  },
  {
   "cell_type": "code",
   "execution_count": 16,
   "metadata": {},
   "outputs": [
    {
     "data": {
      "image/png": "[encoded data removed]",
      "text/plain": [
       "<Figure size 432x288 with 1 Axes>"
      ]
     },
     "metadata": {
      "needs_background": "light"
     },
     "output_type": "display_data"
    }
   ],
   "source": [
    "y = df_1950_agg['Solids']\n",
    "y2 = df_1950_agg['Liquids']\n",
    "y3 = df_1950_agg['Gases']\n",
    "y4 = df_1950_agg['Cement']\n",
    "y5 = df_1950_agg['Flaring']\n",
    "x = df_1950_agg.index\n",
    "fig = plt.figure()\n",
    "ax = plt.subplot(111) # WHAT IS THIS SUBPLOT, THE LABEL BOX?\n",
    "ax.plot(x, y, label='Solids', color='red')\n",
    "ax.plot(x, y2, label='Liquids', color='blue')\n",
    "ax.plot(x, y3, label='Gases', color='green')\n",
    "ax.plot(x, y4, label='Cement', color='purple')\n",
    "ax.plot(x, y5, label='Flaring', color='black')\n",
    "plt.xlabel('YEAR')    \n",
    "plt.ylabel('CO2 METRIC TON')\n",
    "plt.title('Global Totals For Each Emission Yype')\n",
    "chartBox = ax.get_position()\n",
    "ax.set_position([chartBox.x0, chartBox.y0, chartBox.width*1, chartBox.height])\n",
    "ax.legend(loc='upper center', bbox_to_anchor=(1.45, 0.8), shadow=True, ncol=1)\n",
    "plt.show()"
   ]
  },
  {
   "cell_type": "markdown",
   "metadata": {},
   "source": [
    ">  The largest emission type is Solids, and the lowest emission type is Flaring."
   ]
  },
  {
   "cell_type": "markdown",
   "metadata": {},
   "source": [
    "#### Exploration of global emission totals over time and global emission total per capita over time."
   ]
  },
  {
   "cell_type": "code",
   "execution_count": 24,
   "metadata": {},
   "outputs": [
    {
     "data": {
      "image/png": "[encoded data removed]",
      "text/plain": [
       "<Figure size 720x360 with 2 Axes>"
      ]
     },
     "metadata": {
      "needs_background": "light"
     },
     "output_type": "display_data"
    }
   ],
   "source": [
    "plt.figure(figsize=(10, 5))\n",
    "plt.subplot(1, 2, 1)\n",
    "plt.bar(df_1950_agg.index, df_1950_agg['Total'], color='purple')\n",
    "plt.xlabel('YEAR')\n",
    "plt.ylabel('CO2 METRIC TON')\n",
    "plt.title('Global Total')\n",
    "\n",
    "plt.subplot(1, 2, 2)\n",
    "plt.bar(df_1950_agg.index, (df_1950_agg['Total_Per_Capita'])/10, color='green') # DIVIDED BY 10, 10 REGIONS\n",
    "plt.xlabel('YEAR')\n",
    "plt.ylabel('C02 METRIC TON PER PERSON')\n",
    "plt.title('Global Total Per Capita')\n",
    "\n",
    "plt.tight_layout()\n",
    "plt.show()"
   ]
  },
  {
   "cell_type": "markdown",
   "metadata": {},
   "source": [
    ">  Growth in total CO2 emissions is more or less linear. Population growth, not shown here, is linear. Global Total Per Capita, despite going sideways to down since the mid 1970s, represents the potential significance of population on CO2 emissions. Population in 1975 = 4079087198. In 2014 population = 7298453033. Population hasn't quite doubled, but has increased about 79%. Yet the Global Total Per Capita has stayed roughly the same. Energy infrastructure investments, production of goods, and consumption behaviors have not changed much since 1975 when viewed on a per person basis. Said another way, population has gone up linearly, and so has total emissions of CO2. Correlation does not mean causation, but this appears to be a good area for addition research. "
   ]
  },
  {
   "cell_type": "markdown",
   "metadata": {},
   "source": [
    "## 3. Are the emission types correlated?"
   ]
  },
  {
   "cell_type": "code",
   "execution_count": 18,
   "metadata": {
    "scrolled": true
   },
   "outputs": [
    {
     "data": {
      "text/html": [
       "<style  type=\"text/css\" >\n",
       "    #T_c77dd5c0_b328_11e9_b1f1_e8b1fc967c15row0_col0 {\n",
       "            background-color:  #b40426;\n",
       "            color:  #f1f1f1;\n",
       "        }    #T_c77dd5c0_b328_11e9_b1f1_e8b1fc967c15row0_col1 {\n",
       "            background-color:  #c43032;\n",
       "            color:  #f1f1f1;\n",
       "        }    #T_c77dd5c0_b328_11e9_b1f1_e8b1fc967c15row0_col2 {\n",
       "            background-color:  #e36b54;\n",
       "            color:  #000000;\n",
       "        }    #T_c77dd5c0_b328_11e9_b1f1_e8b1fc967c15row0_col3 {\n",
       "            background-color:  #b8122a;\n",
       "            color:  #f1f1f1;\n",
       "        }    #T_c77dd5c0_b328_11e9_b1f1_e8b1fc967c15row0_col4 {\n",
       "            background-color:  #d24b40;\n",
       "            color:  #f1f1f1;\n",
       "        }    #T_c77dd5c0_b328_11e9_b1f1_e8b1fc967c15row0_col5 {\n",
       "            background-color:  #7597f6;\n",
       "            color:  #000000;\n",
       "        }    #T_c77dd5c0_b328_11e9_b1f1_e8b1fc967c15row0_col6 {\n",
       "            background-color:  #ebd3c6;\n",
       "            color:  #000000;\n",
       "        }    #T_c77dd5c0_b328_11e9_b1f1_e8b1fc967c15row1_col0 {\n",
       "            background-color:  #c73635;\n",
       "            color:  #f1f1f1;\n",
       "        }    #T_c77dd5c0_b328_11e9_b1f1_e8b1fc967c15row1_col1 {\n",
       "            background-color:  #b40426;\n",
       "            color:  #f1f1f1;\n",
       "        }    #T_c77dd5c0_b328_11e9_b1f1_e8b1fc967c15row1_col2 {\n",
       "            background-color:  #f0cdbb;\n",
       "            color:  #000000;\n",
       "        }    #T_c77dd5c0_b328_11e9_b1f1_e8b1fc967c15row1_col3 {\n",
       "            background-color:  #c43032;\n",
       "            color:  #f1f1f1;\n",
       "        }    #T_c77dd5c0_b328_11e9_b1f1_e8b1fc967c15row1_col4 {\n",
       "            background-color:  #bd1f2d;\n",
       "            color:  #f1f1f1;\n",
       "        }    #T_c77dd5c0_b328_11e9_b1f1_e8b1fc967c15row1_col5 {\n",
       "            background-color:  #3b4cc0;\n",
       "            color:  #f1f1f1;\n",
       "        }    #T_c77dd5c0_b328_11e9_b1f1_e8b1fc967c15row1_col6 {\n",
       "            background-color:  #779af7;\n",
       "            color:  #000000;\n",
       "        }    #T_c77dd5c0_b328_11e9_b1f1_e8b1fc967c15row2_col0 {\n",
       "            background-color:  #d75445;\n",
       "            color:  #000000;\n",
       "        }    #T_c77dd5c0_b328_11e9_b1f1_e8b1fc967c15row2_col1 {\n",
       "            background-color:  #f39778;\n",
       "            color:  #000000;\n",
       "        }    #T_c77dd5c0_b328_11e9_b1f1_e8b1fc967c15row2_col2 {\n",
       "            background-color:  #b40426;\n",
       "            color:  #f1f1f1;\n",
       "        }    #T_c77dd5c0_b328_11e9_b1f1_e8b1fc967c15row2_col3 {\n",
       "            background-color:  #e16751;\n",
       "            color:  #000000;\n",
       "        }    #T_c77dd5c0_b328_11e9_b1f1_e8b1fc967c15row2_col4 {\n",
       "            background-color:  #f7b497;\n",
       "            color:  #000000;\n",
       "        }    #T_c77dd5c0_b328_11e9_b1f1_e8b1fc967c15row2_col5 {\n",
       "            background-color:  #c3d5f4;\n",
       "            color:  #000000;\n",
       "        }    #T_c77dd5c0_b328_11e9_b1f1_e8b1fc967c15row2_col6 {\n",
       "            background-color:  #d55042;\n",
       "            color:  #000000;\n",
       "        }    #T_c77dd5c0_b328_11e9_b1f1_e8b1fc967c15row3_col0 {\n",
       "            background-color:  #ba162b;\n",
       "            color:  #f1f1f1;\n",
       "        }    #T_c77dd5c0_b328_11e9_b1f1_e8b1fc967c15row3_col1 {\n",
       "            background-color:  #c43032;\n",
       "            color:  #f1f1f1;\n",
       "        }    #T_c77dd5c0_b328_11e9_b1f1_e8b1fc967c15row3_col2 {\n",
       "            background-color:  #f29072;\n",
       "            color:  #000000;\n",
       "        }    #T_c77dd5c0_b328_11e9_b1f1_e8b1fc967c15row3_col3 {\n",
       "            background-color:  #b40426;\n",
       "            color:  #f1f1f1;\n",
       "        }    #T_c77dd5c0_b328_11e9_b1f1_e8b1fc967c15row3_col4 {\n",
       "            background-color:  #cf453c;\n",
       "            color:  #f1f1f1;\n",
       "        }    #T_c77dd5c0_b328_11e9_b1f1_e8b1fc967c15row3_col5 {\n",
       "            background-color:  #455cce;\n",
       "            color:  #f1f1f1;\n",
       "        }    #T_c77dd5c0_b328_11e9_b1f1_e8b1fc967c15row3_col6 {\n",
       "            background-color:  #c0d4f5;\n",
       "            color:  #000000;\n",
       "        }    #T_c77dd5c0_b328_11e9_b1f1_e8b1fc967c15row4_col0 {\n",
       "            background-color:  #d85646;\n",
       "            color:  #000000;\n",
       "        }    #T_c77dd5c0_b328_11e9_b1f1_e8b1fc967c15row4_col1 {\n",
       "            background-color:  #bd1f2d;\n",
       "            color:  #f1f1f1;\n",
       "        }    #T_c77dd5c0_b328_11e9_b1f1_e8b1fc967c15row4_col2 {\n",
       "            background-color:  #d2dbe8;\n",
       "            color:  #000000;\n",
       "        }    #T_c77dd5c0_b328_11e9_b1f1_e8b1fc967c15row4_col3 {\n",
       "            background-color:  #d0473d;\n",
       "            color:  #f1f1f1;\n",
       "        }    #T_c77dd5c0_b328_11e9_b1f1_e8b1fc967c15row4_col4 {\n",
       "            background-color:  #b40426;\n",
       "            color:  #f1f1f1;\n",
       "        }    #T_c77dd5c0_b328_11e9_b1f1_e8b1fc967c15row4_col5 {\n",
       "            background-color:  #3e51c5;\n",
       "            color:  #f1f1f1;\n",
       "        }    #T_c77dd5c0_b328_11e9_b1f1_e8b1fc967c15row4_col6 {\n",
       "            background-color:  #3b4cc0;\n",
       "            color:  #f1f1f1;\n",
       "        }    #T_c77dd5c0_b328_11e9_b1f1_e8b1fc967c15row5_col0 {\n",
       "            background-color:  #3b4cc0;\n",
       "            color:  #f1f1f1;\n",
       "        }    #T_c77dd5c0_b328_11e9_b1f1_e8b1fc967c15row5_col1 {\n",
       "            background-color:  #3b4cc0;\n",
       "            color:  #f1f1f1;\n",
       "        }    #T_c77dd5c0_b328_11e9_b1f1_e8b1fc967c15row5_col2 {\n",
       "            background-color:  #3b4cc0;\n",
       "            color:  #f1f1f1;\n",
       "        }    #T_c77dd5c0_b328_11e9_b1f1_e8b1fc967c15row5_col3 {\n",
       "            background-color:  #3b4cc0;\n",
       "            color:  #f1f1f1;\n",
       "        }    #T_c77dd5c0_b328_11e9_b1f1_e8b1fc967c15row5_col4 {\n",
       "            background-color:  #3b4cc0;\n",
       "            color:  #f1f1f1;\n",
       "        }    #T_c77dd5c0_b328_11e9_b1f1_e8b1fc967c15row5_col5 {\n",
       "            background-color:  #b40426;\n",
       "            color:  #f1f1f1;\n",
       "        }    #T_c77dd5c0_b328_11e9_b1f1_e8b1fc967c15row5_col6 {\n",
       "            background-color:  #7a9df8;\n",
       "            color:  #000000;\n",
       "        }    #T_c77dd5c0_b328_11e9_b1f1_e8b1fc967c15row6_col0 {\n",
       "            background-color:  #f7ac8e;\n",
       "            color:  #000000;\n",
       "        }    #T_c77dd5c0_b328_11e9_b1f1_e8b1fc967c15row6_col1 {\n",
       "            background-color:  #ead5c9;\n",
       "            color:  #000000;\n",
       "        }    #T_c77dd5c0_b328_11e9_b1f1_e8b1fc967c15row6_col2 {\n",
       "            background-color:  #d44e41;\n",
       "            color:  #000000;\n",
       "        }    #T_c77dd5c0_b328_11e9_b1f1_e8b1fc967c15row6_col3 {\n",
       "            background-color:  #f7ba9f;\n",
       "            color:  #000000;\n",
       "        }    #T_c77dd5c0_b328_11e9_b1f1_e8b1fc967c15row6_col4 {\n",
       "            background-color:  #ccd9ed;\n",
       "            color:  #000000;\n",
       "        }    #T_c77dd5c0_b328_11e9_b1f1_e8b1fc967c15row6_col5 {\n",
       "            background-color:  #ead4c8;\n",
       "            color:  #000000;\n",
       "        }    #T_c77dd5c0_b328_11e9_b1f1_e8b1fc967c15row6_col6 {\n",
       "            background-color:  #b40426;\n",
       "            color:  #f1f1f1;\n",
       "        }</style><table id=\"T_c77dd5c0_b328_11e9_b1f1_e8b1fc967c15\" ><thead>    <tr>        <th class=\"blank level0\" ></th>        <th class=\"col_heading level0 col0\" >Total</th>        <th class=\"col_heading level0 col1\" >Solids</th>        <th class=\"col_heading level0 col2\" >Liquids</th>        <th class=\"col_heading level0 col3\" >Gases</th>        <th class=\"col_heading level0 col4\" >Cement</th>        <th class=\"col_heading level0 col5\" >Flaring</th>        <th class=\"col_heading level0 col6\" >Total_Per_Capita</th>    </tr></thead><tbody>\n",
       "                <tr>\n",
       "                        <th id=\"T_c77dd5c0_b328_11e9_b1f1_e8b1fc967c15level0_row0\" class=\"row_heading level0 row0\" >Total</th>\n",
       "                        <td id=\"T_c77dd5c0_b328_11e9_b1f1_e8b1fc967c15row0_col0\" class=\"data row0 col0\" >1</td>\n",
       "                        <td id=\"T_c77dd5c0_b328_11e9_b1f1_e8b1fc967c15row0_col1\" class=\"data row0 col1\" >0.966268</td>\n",
       "                        <td id=\"T_c77dd5c0_b328_11e9_b1f1_e8b1fc967c15row0_col2\" class=\"data row0 col2\" >0.935024</td>\n",
       "                        <td id=\"T_c77dd5c0_b328_11e9_b1f1_e8b1fc967c15row0_col3\" class=\"data row0 col3\" >0.98867</td>\n",
       "                        <td id=\"T_c77dd5c0_b328_11e9_b1f1_e8b1fc967c15row0_col4\" class=\"data row0 col4\" >0.934476</td>\n",
       "                        <td id=\"T_c77dd5c0_b328_11e9_b1f1_e8b1fc967c15row0_col5\" class=\"data row0 col5\" >0.380536</td>\n",
       "                        <td id=\"T_c77dd5c0_b328_11e9_b1f1_e8b1fc967c15row0_col6\" class=\"data row0 col6\" >0.815911</td>\n",
       "            </tr>\n",
       "            <tr>\n",
       "                        <th id=\"T_c77dd5c0_b328_11e9_b1f1_e8b1fc967c15level0_row1\" class=\"row_heading level0 row1\" >Solids</th>\n",
       "                        <td id=\"T_c77dd5c0_b328_11e9_b1f1_e8b1fc967c15row1_col0\" class=\"data row1 col0\" >0.966268</td>\n",
       "                        <td id=\"T_c77dd5c0_b328_11e9_b1f1_e8b1fc967c15row1_col1\" class=\"data row1 col1\" >1</td>\n",
       "                        <td id=\"T_c77dd5c0_b328_11e9_b1f1_e8b1fc967c15row1_col2\" class=\"data row1 col2\" >0.815556</td>\n",
       "                        <td id=\"T_c77dd5c0_b328_11e9_b1f1_e8b1fc967c15row1_col3\" class=\"data row1 col3\" >0.965795</td>\n",
       "                        <td id=\"T_c77dd5c0_b328_11e9_b1f1_e8b1fc967c15row1_col4\" class=\"data row1 col4\" >0.982195</td>\n",
       "                        <td id=\"T_c77dd5c0_b328_11e9_b1f1_e8b1fc967c15row1_col5\" class=\"data row1 col5\" >0.24198</td>\n",
       "                        <td id=\"T_c77dd5c0_b328_11e9_b1f1_e8b1fc967c15row1_col6\" class=\"data row1 col6\" >0.660363</td>\n",
       "            </tr>\n",
       "            <tr>\n",
       "                        <th id=\"T_c77dd5c0_b328_11e9_b1f1_e8b1fc967c15level0_row2\" class=\"row_heading level0 row2\" >Liquids</th>\n",
       "                        <td id=\"T_c77dd5c0_b328_11e9_b1f1_e8b1fc967c15row2_col0\" class=\"data row2 col0\" >0.935024</td>\n",
       "                        <td id=\"T_c77dd5c0_b328_11e9_b1f1_e8b1fc967c15row2_col1\" class=\"data row2 col1\" >0.815556</td>\n",
       "                        <td id=\"T_c77dd5c0_b328_11e9_b1f1_e8b1fc967c15row2_col2\" class=\"data row2 col2\" >1</td>\n",
       "                        <td id=\"T_c77dd5c0_b328_11e9_b1f1_e8b1fc967c15row2_col3\" class=\"data row2 col3\" >0.898373</td>\n",
       "                        <td id=\"T_c77dd5c0_b328_11e9_b1f1_e8b1fc967c15row2_col4\" class=\"data row2 col4\" >0.757858</td>\n",
       "                        <td id=\"T_c77dd5c0_b328_11e9_b1f1_e8b1fc967c15row2_col5\" class=\"data row2 col5\" >0.55246</td>\n",
       "                        <td id=\"T_c77dd5c0_b328_11e9_b1f1_e8b1fc967c15row2_col6\" class=\"data row2 col6\" >0.959224</td>\n",
       "            </tr>\n",
       "            <tr>\n",
       "                        <th id=\"T_c77dd5c0_b328_11e9_b1f1_e8b1fc967c15level0_row3\" class=\"row_heading level0 row3\" >Gases</th>\n",
       "                        <td id=\"T_c77dd5c0_b328_11e9_b1f1_e8b1fc967c15row3_col0\" class=\"data row3 col0\" >0.98867</td>\n",
       "                        <td id=\"T_c77dd5c0_b328_11e9_b1f1_e8b1fc967c15row3_col1\" class=\"data row3 col1\" >0.965795</td>\n",
       "                        <td id=\"T_c77dd5c0_b328_11e9_b1f1_e8b1fc967c15row3_col2\" class=\"data row3 col2\" >0.898373</td>\n",
       "                        <td id=\"T_c77dd5c0_b328_11e9_b1f1_e8b1fc967c15row3_col3\" class=\"data row3 col3\" >1</td>\n",
       "                        <td id=\"T_c77dd5c0_b328_11e9_b1f1_e8b1fc967c15row3_col4\" class=\"data row3 col4\" >0.941703</td>\n",
       "                        <td id=\"T_c77dd5c0_b328_11e9_b1f1_e8b1fc967c15row3_col5\" class=\"data row3 col5\" >0.269607</td>\n",
       "                        <td id=\"T_c77dd5c0_b328_11e9_b1f1_e8b1fc967c15row3_col6\" class=\"data row3 col6\" >0.749244</td>\n",
       "            </tr>\n",
       "            <tr>\n",
       "                        <th id=\"T_c77dd5c0_b328_11e9_b1f1_e8b1fc967c15level0_row4\" class=\"row_heading level0 row4\" >Cement</th>\n",
       "                        <td id=\"T_c77dd5c0_b328_11e9_b1f1_e8b1fc967c15row4_col0\" class=\"data row4 col0\" >0.934476</td>\n",
       "                        <td id=\"T_c77dd5c0_b328_11e9_b1f1_e8b1fc967c15row4_col1\" class=\"data row4 col1\" >0.982195</td>\n",
       "                        <td id=\"T_c77dd5c0_b328_11e9_b1f1_e8b1fc967c15row4_col2\" class=\"data row4 col2\" >0.757858</td>\n",
       "                        <td id=\"T_c77dd5c0_b328_11e9_b1f1_e8b1fc967c15row4_col3\" class=\"data row4 col3\" >0.941703</td>\n",
       "                        <td id=\"T_c77dd5c0_b328_11e9_b1f1_e8b1fc967c15row4_col4\" class=\"data row4 col4\" >1</td>\n",
       "                        <td id=\"T_c77dd5c0_b328_11e9_b1f1_e8b1fc967c15row4_col5\" class=\"data row4 col5\" >0.251577</td>\n",
       "                        <td id=\"T_c77dd5c0_b328_11e9_b1f1_e8b1fc967c15row4_col6\" class=\"data row4 col6\" >0.580829</td>\n",
       "            </tr>\n",
       "            <tr>\n",
       "                        <th id=\"T_c77dd5c0_b328_11e9_b1f1_e8b1fc967c15level0_row5\" class=\"row_heading level0 row5\" >Flaring</th>\n",
       "                        <td id=\"T_c77dd5c0_b328_11e9_b1f1_e8b1fc967c15row5_col0\" class=\"data row5 col0\" >0.380536</td>\n",
       "                        <td id=\"T_c77dd5c0_b328_11e9_b1f1_e8b1fc967c15row5_col1\" class=\"data row5 col1\" >0.24198</td>\n",
       "                        <td id=\"T_c77dd5c0_b328_11e9_b1f1_e8b1fc967c15row5_col2\" class=\"data row5 col2\" >0.55246</td>\n",
       "                        <td id=\"T_c77dd5c0_b328_11e9_b1f1_e8b1fc967c15row5_col3\" class=\"data row5 col3\" >0.269607</td>\n",
       "                        <td id=\"T_c77dd5c0_b328_11e9_b1f1_e8b1fc967c15row5_col4\" class=\"data row5 col4\" >0.251577</td>\n",
       "                        <td id=\"T_c77dd5c0_b328_11e9_b1f1_e8b1fc967c15row5_col5\" class=\"data row5 col5\" >1</td>\n",
       "                        <td id=\"T_c77dd5c0_b328_11e9_b1f1_e8b1fc967c15row5_col6\" class=\"data row5 col6\" >0.663234</td>\n",
       "            </tr>\n",
       "            <tr>\n",
       "                        <th id=\"T_c77dd5c0_b328_11e9_b1f1_e8b1fc967c15level0_row6\" class=\"row_heading level0 row6\" >Total_Per_Capita</th>\n",
       "                        <td id=\"T_c77dd5c0_b328_11e9_b1f1_e8b1fc967c15row6_col0\" class=\"data row6 col0\" >0.815911</td>\n",
       "                        <td id=\"T_c77dd5c0_b328_11e9_b1f1_e8b1fc967c15row6_col1\" class=\"data row6 col1\" >0.660363</td>\n",
       "                        <td id=\"T_c77dd5c0_b328_11e9_b1f1_e8b1fc967c15row6_col2\" class=\"data row6 col2\" >0.959224</td>\n",
       "                        <td id=\"T_c77dd5c0_b328_11e9_b1f1_e8b1fc967c15row6_col3\" class=\"data row6 col3\" >0.749244</td>\n",
       "                        <td id=\"T_c77dd5c0_b328_11e9_b1f1_e8b1fc967c15row6_col4\" class=\"data row6 col4\" >0.580829</td>\n",
       "                        <td id=\"T_c77dd5c0_b328_11e9_b1f1_e8b1fc967c15row6_col5\" class=\"data row6 col5\" >0.663234</td>\n",
       "                        <td id=\"T_c77dd5c0_b328_11e9_b1f1_e8b1fc967c15row6_col6\" class=\"data row6 col6\" >1</td>\n",
       "            </tr>\n",
       "    </tbody></table>"
      ],
      "text/plain": [
       "<pandas.io.formats.style.Styler at 0xc04bd10>"
      ]
     },
     "execution_count": 18,
     "metadata": {},
     "output_type": "execute_result"
    }
   ],
   "source": [
    "corr = df_1950_agg.corr()\n",
    "corr.style.background_gradient(cmap='coolwarm')"
   ]
  },
  {
   "cell_type": "markdown",
   "metadata": {},
   "source": [
    ">  When an individual emission type is highly correlated with the Total, it means that the year over year direction is similar. Since total is linear to up, a highly correlated emission type would also be linear to up. Correlations above .6 are significant, correlations greater than .9 are approaching perfect correlation. Solids, Gases, Liquids, and Cement are all highly correlated with the Total C02 emission category. Flaring has a relatively low correlation, which means that Flaring C02 emissions are more independent. The direction of change for Flaring is not similar year over year when compared to Total CO2 emissions and the other categories. The Flaring emissions are likely driven or have been impacted in isolation of the other categories. Total Per Capita is a derived category."
   ]
  },
  {
   "cell_type": "markdown",
   "metadata": {},
   "source": [
    "# CONCLUSION  \n",
    "- It is likely that both population and economic growth are significant to CO2 emissions. \n",
    "- Develeped, \"Old World\", countries have lower emission growth rate profiles in the past 10 years.\n",
    "- European countries have a low absolute value and a low emission growth rate. \n",
    "- Russia, China both appear to be growing steadily and have high absolute values, particularly China.\n",
    "- The trend of all emission types, except for flaring, when looked at globally, are up as of 2014. \n",
    "- Generally speaking the emission types are highly correlated except for flaring."
   ]
  },
  {
   "cell_type": "markdown",
   "metadata": {},
   "source": [
    "# PROPOSAL FOR ADDITIONAL RESEARCH"
   ]
  },
  {
   "cell_type": "markdown",
   "metadata": {},
   "source": [
    "Explore the significance of population growth and economic growth to the growth in emissions. Predict future growth of C02 emissions. \n",
    "\n",
    "Question 1: Is population growth a significant driver of C02 emissions?  \n",
    "Question 2: Is economic growth a significant driver of CO2 emissions?  \n",
    "Question 3: Are regional carbon emission footprints representative of regional growth in population and economic activity?\n",
    "  \n",
    "- Get population data and economic growth data. \n",
    "- Look for seasonal trends if any in the economic data. \n",
    "- Data needs to be able to be broken down into region, sector, and CO2 emission type. \n",
    "- Test for statistical significance using linear regression, f-test. \n",
    "- Build a predictive model to forecast emissions.\n"
   ]
  }
 ],
 "metadata": {
  "kernelspec": {
   "display_name": "Python 3",
   "language": "python",
   "name": "python3"
  },
  "language_info": {
   "codemirror_mode": {
    "name": "ipython",
    "version": 3
   },
   "file_extension": ".py",
   "mimetype": "text/x-python",
   "name": "python",
   "nbconvert_exporter": "python",
   "pygments_lexer": "ipython3",
   "version": "3.7.4"
  }
 },
 "nbformat": 4,
 "nbformat_minor": 2
}
